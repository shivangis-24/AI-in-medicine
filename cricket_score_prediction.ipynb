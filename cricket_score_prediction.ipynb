{
  "nbformat": 4,
  "nbformat_minor": 0,
  "metadata": {
    "colab": {
      "provenance": [],
      "machine_shape": "hm",
      "gpuType": "A100"
    },
    "kernelspec": {
      "name": "python3",
      "display_name": "Python 3"
    },
    "language_info": {
      "name": "python"
    },
    "accelerator": "GPU"
  },
  "cells": [
    {
      "cell_type": "markdown",
      "source": [
        "Ans 1 -"
      ],
      "metadata": {
        "id": "DWAMwPGTCQKE"
      }
    },
    {
      "cell_type": "markdown",
      "source": [
        "Win records (percentage win and total wins) for each team by year and gender,\n",
        "excluding ties, matches with no result, and matches decided by the DLS method in the event that, for whatever\n",
        "reason, the planned innings can’t be completed."
      ],
      "metadata": {
        "id": "QqUfUE7ZCY7I"
      }
    },
    {
      "cell_type": "code",
      "execution_count": 1,
      "metadata": {
        "id": "RyhVkNg195Vf"
      },
      "outputs": [],
      "source": [
        "import numpy as np\n",
        "import pandas as pd\n",
        "import matplotlib.pyplot as plt\n",
        "import seaborn as sns\n",
        "import json"
      ]
    },
    {
      "cell_type": "code",
      "source": [
        "from google.colab import drive\n",
        "drive.mount('/content/gdrive')"
      ],
      "metadata": {
        "colab": {
          "base_uri": "https://localhost:8080/"
        },
        "id": "I5CUmlNF-Ovq",
        "outputId": "7c19b28a-ea1b-4354-930e-02b8150b7b18"
      },
      "execution_count": 2,
      "outputs": [
        {
          "output_type": "stream",
          "name": "stdout",
          "text": [
            "Drive already mounted at /content/gdrive; to attempt to forcibly remount, call drive.mount(\"/content/gdrive\", force_remount=True).\n"
          ]
        }
      ]
    },
    {
      "cell_type": "code",
      "source": [
        "with open('/content/gdrive/MyDrive/match_results.json') as file:\n",
        "  match_data = json.load(file)\n",
        "\n",
        "#loading match results data"
      ],
      "metadata": {
        "id": "wLdc2PjVAMT3"
      },
      "execution_count": 3,
      "outputs": []
    },
    {
      "cell_type": "code",
      "source": [
        "match_df = pd.DataFrame(match_data) #converting data to dataframe"
      ],
      "metadata": {
        "id": "RbLXMz35Akml"
      },
      "execution_count": 4,
      "outputs": []
    },
    {
      "cell_type": "code",
      "source": [
        "match_df.head()"
      ],
      "metadata": {
        "colab": {
          "base_uri": "https://localhost:8080/",
          "height": 386
        },
        "id": "bIwXY0BSAzUh",
        "outputId": "e1dc6c9c-8cec-445d-82d5-45761f35db16"
      },
      "execution_count": 5,
      "outputs": [
        {
          "output_type": "execute_result",
          "data": {
            "text/plain": [
              "       city       dates gender match_type  outcome.runs outcome.winner  overs  \\\n",
              "0  Brisbane  2017-01-13   male        ODI          92.0      Australia     50   \n",
              "1  Brisbane  2017-01-13   male        ODI          92.0      Australia     50   \n",
              "2       NaN  2017-01-15   male        ODI           NaN       Pakistan     50   \n",
              "3       NaN  2017-01-15   male        ODI           NaN       Pakistan     50   \n",
              "4     Perth  2017-01-19   male        ODI           NaN      Australia     50   \n",
              "\n",
              "   player_of_match      teams toss.decision  ... ICC.World.XI Sri.Lanka  \\\n",
              "0          MS Wade  Australia           bat  ...          NaN       NaN   \n",
              "1          MS Wade   Pakistan           bat  ...          NaN       NaN   \n",
              "2  Mohammad Hafeez  Australia           bat  ...          NaN       NaN   \n",
              "3  Mohammad Hafeez   Pakistan           bat  ...          NaN       NaN   \n",
              "4        SPD Smith  Australia         field  ...          NaN       NaN   \n",
              "\n",
              "  supersubs.South.Africa India  England supersubs.Pakistan Australia  \\\n",
              "0                    NaN   NaN      NaN                NaN       NaN   \n",
              "1                    NaN   NaN      NaN                NaN       NaN   \n",
              "2                    NaN   NaN      NaN                NaN       NaN   \n",
              "3                    NaN   NaN      NaN                NaN       NaN   \n",
              "4                    NaN   NaN      NaN                NaN       NaN   \n",
              "\n",
              "   Pakistan  supersubs.West.Indies Bangladesh  \n",
              "0       NaN                    NaN        NaN  \n",
              "1       NaN                    NaN        NaN  \n",
              "2       NaN                    NaN        NaN  \n",
              "3       NaN                    NaN        NaN  \n",
              "4       NaN                    NaN        NaN  \n",
              "\n",
              "[5 rows x 42 columns]"
            ],
            "text/html": [
              "\n",
              "  <div id=\"df-ff6dbe44-5593-45b0-9a3b-ab0c6fac3d27\">\n",
              "    <div class=\"colab-df-container\">\n",
              "      <div>\n",
              "<style scoped>\n",
              "    .dataframe tbody tr th:only-of-type {\n",
              "        vertical-align: middle;\n",
              "    }\n",
              "\n",
              "    .dataframe tbody tr th {\n",
              "        vertical-align: top;\n",
              "    }\n",
              "\n",
              "    .dataframe thead th {\n",
              "        text-align: right;\n",
              "    }\n",
              "</style>\n",
              "<table border=\"1\" class=\"dataframe\">\n",
              "  <thead>\n",
              "    <tr style=\"text-align: right;\">\n",
              "      <th></th>\n",
              "      <th>city</th>\n",
              "      <th>dates</th>\n",
              "      <th>gender</th>\n",
              "      <th>match_type</th>\n",
              "      <th>outcome.runs</th>\n",
              "      <th>outcome.winner</th>\n",
              "      <th>overs</th>\n",
              "      <th>player_of_match</th>\n",
              "      <th>teams</th>\n",
              "      <th>toss.decision</th>\n",
              "      <th>...</th>\n",
              "      <th>ICC.World.XI</th>\n",
              "      <th>Sri.Lanka</th>\n",
              "      <th>supersubs.South.Africa</th>\n",
              "      <th>India</th>\n",
              "      <th>England</th>\n",
              "      <th>supersubs.Pakistan</th>\n",
              "      <th>Australia</th>\n",
              "      <th>Pakistan</th>\n",
              "      <th>supersubs.West.Indies</th>\n",
              "      <th>Bangladesh</th>\n",
              "    </tr>\n",
              "  </thead>\n",
              "  <tbody>\n",
              "    <tr>\n",
              "      <th>0</th>\n",
              "      <td>Brisbane</td>\n",
              "      <td>2017-01-13</td>\n",
              "      <td>male</td>\n",
              "      <td>ODI</td>\n",
              "      <td>92.0</td>\n",
              "      <td>Australia</td>\n",
              "      <td>50</td>\n",
              "      <td>MS Wade</td>\n",
              "      <td>Australia</td>\n",
              "      <td>bat</td>\n",
              "      <td>...</td>\n",
              "      <td>NaN</td>\n",
              "      <td>NaN</td>\n",
              "      <td>NaN</td>\n",
              "      <td>NaN</td>\n",
              "      <td>NaN</td>\n",
              "      <td>NaN</td>\n",
              "      <td>NaN</td>\n",
              "      <td>NaN</td>\n",
              "      <td>NaN</td>\n",
              "      <td>NaN</td>\n",
              "    </tr>\n",
              "    <tr>\n",
              "      <th>1</th>\n",
              "      <td>Brisbane</td>\n",
              "      <td>2017-01-13</td>\n",
              "      <td>male</td>\n",
              "      <td>ODI</td>\n",
              "      <td>92.0</td>\n",
              "      <td>Australia</td>\n",
              "      <td>50</td>\n",
              "      <td>MS Wade</td>\n",
              "      <td>Pakistan</td>\n",
              "      <td>bat</td>\n",
              "      <td>...</td>\n",
              "      <td>NaN</td>\n",
              "      <td>NaN</td>\n",
              "      <td>NaN</td>\n",
              "      <td>NaN</td>\n",
              "      <td>NaN</td>\n",
              "      <td>NaN</td>\n",
              "      <td>NaN</td>\n",
              "      <td>NaN</td>\n",
              "      <td>NaN</td>\n",
              "      <td>NaN</td>\n",
              "    </tr>\n",
              "    <tr>\n",
              "      <th>2</th>\n",
              "      <td>NaN</td>\n",
              "      <td>2017-01-15</td>\n",
              "      <td>male</td>\n",
              "      <td>ODI</td>\n",
              "      <td>NaN</td>\n",
              "      <td>Pakistan</td>\n",
              "      <td>50</td>\n",
              "      <td>Mohammad Hafeez</td>\n",
              "      <td>Australia</td>\n",
              "      <td>bat</td>\n",
              "      <td>...</td>\n",
              "      <td>NaN</td>\n",
              "      <td>NaN</td>\n",
              "      <td>NaN</td>\n",
              "      <td>NaN</td>\n",
              "      <td>NaN</td>\n",
              "      <td>NaN</td>\n",
              "      <td>NaN</td>\n",
              "      <td>NaN</td>\n",
              "      <td>NaN</td>\n",
              "      <td>NaN</td>\n",
              "    </tr>\n",
              "    <tr>\n",
              "      <th>3</th>\n",
              "      <td>NaN</td>\n",
              "      <td>2017-01-15</td>\n",
              "      <td>male</td>\n",
              "      <td>ODI</td>\n",
              "      <td>NaN</td>\n",
              "      <td>Pakistan</td>\n",
              "      <td>50</td>\n",
              "      <td>Mohammad Hafeez</td>\n",
              "      <td>Pakistan</td>\n",
              "      <td>bat</td>\n",
              "      <td>...</td>\n",
              "      <td>NaN</td>\n",
              "      <td>NaN</td>\n",
              "      <td>NaN</td>\n",
              "      <td>NaN</td>\n",
              "      <td>NaN</td>\n",
              "      <td>NaN</td>\n",
              "      <td>NaN</td>\n",
              "      <td>NaN</td>\n",
              "      <td>NaN</td>\n",
              "      <td>NaN</td>\n",
              "    </tr>\n",
              "    <tr>\n",
              "      <th>4</th>\n",
              "      <td>Perth</td>\n",
              "      <td>2017-01-19</td>\n",
              "      <td>male</td>\n",
              "      <td>ODI</td>\n",
              "      <td>NaN</td>\n",
              "      <td>Australia</td>\n",
              "      <td>50</td>\n",
              "      <td>SPD Smith</td>\n",
              "      <td>Australia</td>\n",
              "      <td>field</td>\n",
              "      <td>...</td>\n",
              "      <td>NaN</td>\n",
              "      <td>NaN</td>\n",
              "      <td>NaN</td>\n",
              "      <td>NaN</td>\n",
              "      <td>NaN</td>\n",
              "      <td>NaN</td>\n",
              "      <td>NaN</td>\n",
              "      <td>NaN</td>\n",
              "      <td>NaN</td>\n",
              "      <td>NaN</td>\n",
              "    </tr>\n",
              "  </tbody>\n",
              "</table>\n",
              "<p>5 rows × 42 columns</p>\n",
              "</div>\n",
              "      <button class=\"colab-df-convert\" onclick=\"convertToInteractive('df-ff6dbe44-5593-45b0-9a3b-ab0c6fac3d27')\"\n",
              "              title=\"Convert this dataframe to an interactive table.\"\n",
              "              style=\"display:none;\">\n",
              "        \n",
              "  <svg xmlns=\"http://www.w3.org/2000/svg\" height=\"24px\"viewBox=\"0 0 24 24\"\n",
              "       width=\"24px\">\n",
              "    <path d=\"M0 0h24v24H0V0z\" fill=\"none\"/>\n",
              "    <path d=\"M18.56 5.44l.94 2.06.94-2.06 2.06-.94-2.06-.94-.94-2.06-.94 2.06-2.06.94zm-11 1L8.5 8.5l.94-2.06 2.06-.94-2.06-.94L8.5 2.5l-.94 2.06-2.06.94zm10 10l.94 2.06.94-2.06 2.06-.94-2.06-.94-.94-2.06-.94 2.06-2.06.94z\"/><path d=\"M17.41 7.96l-1.37-1.37c-.4-.4-.92-.59-1.43-.59-.52 0-1.04.2-1.43.59L10.3 9.45l-7.72 7.72c-.78.78-.78 2.05 0 2.83L4 21.41c.39.39.9.59 1.41.59.51 0 1.02-.2 1.41-.59l7.78-7.78 2.81-2.81c.8-.78.8-2.07 0-2.86zM5.41 20L4 18.59l7.72-7.72 1.47 1.35L5.41 20z\"/>\n",
              "  </svg>\n",
              "      </button>\n",
              "      \n",
              "  <style>\n",
              "    .colab-df-container {\n",
              "      display:flex;\n",
              "      flex-wrap:wrap;\n",
              "      gap: 12px;\n",
              "    }\n",
              "\n",
              "    .colab-df-convert {\n",
              "      background-color: #E8F0FE;\n",
              "      border: none;\n",
              "      border-radius: 50%;\n",
              "      cursor: pointer;\n",
              "      display: none;\n",
              "      fill: #1967D2;\n",
              "      height: 32px;\n",
              "      padding: 0 0 0 0;\n",
              "      width: 32px;\n",
              "    }\n",
              "\n",
              "    .colab-df-convert:hover {\n",
              "      background-color: #E2EBFA;\n",
              "      box-shadow: 0px 1px 2px rgba(60, 64, 67, 0.3), 0px 1px 3px 1px rgba(60, 64, 67, 0.15);\n",
              "      fill: #174EA6;\n",
              "    }\n",
              "\n",
              "    [theme=dark] .colab-df-convert {\n",
              "      background-color: #3B4455;\n",
              "      fill: #D2E3FC;\n",
              "    }\n",
              "\n",
              "    [theme=dark] .colab-df-convert:hover {\n",
              "      background-color: #434B5C;\n",
              "      box-shadow: 0px 1px 3px 1px rgba(0, 0, 0, 0.15);\n",
              "      filter: drop-shadow(0px 1px 2px rgba(0, 0, 0, 0.3));\n",
              "      fill: #FFFFFF;\n",
              "    }\n",
              "  </style>\n",
              "\n",
              "      <script>\n",
              "        const buttonEl =\n",
              "          document.querySelector('#df-ff6dbe44-5593-45b0-9a3b-ab0c6fac3d27 button.colab-df-convert');\n",
              "        buttonEl.style.display =\n",
              "          google.colab.kernel.accessAllowed ? 'block' : 'none';\n",
              "\n",
              "        async function convertToInteractive(key) {\n",
              "          const element = document.querySelector('#df-ff6dbe44-5593-45b0-9a3b-ab0c6fac3d27');\n",
              "          const dataTable =\n",
              "            await google.colab.kernel.invokeFunction('convertToInteractive',\n",
              "                                                     [key], {});\n",
              "          if (!dataTable) return;\n",
              "\n",
              "          const docLinkHtml = 'Like what you see? Visit the ' +\n",
              "            '<a target=\"_blank\" href=https://colab.research.google.com/notebooks/data_table.ipynb>data table notebook</a>'\n",
              "            + ' to learn more about interactive tables.';\n",
              "          element.innerHTML = '';\n",
              "          dataTable['output_type'] = 'display_data';\n",
              "          await google.colab.output.renderOutput(dataTable, element);\n",
              "          const docLink = document.createElement('div');\n",
              "          docLink.innerHTML = docLinkHtml;\n",
              "          element.appendChild(docLink);\n",
              "        }\n",
              "      </script>\n",
              "    </div>\n",
              "  </div>\n",
              "  "
            ]
          },
          "metadata": {},
          "execution_count": 5
        }
      ]
    },
    {
      "cell_type": "code",
      "source": [
        "match_df.columns"
      ],
      "metadata": {
        "colab": {
          "base_uri": "https://localhost:8080/"
        },
        "id": "ukvsTZ9JBK5x",
        "outputId": "3e7a3012-df47-40e5-8c9b-566f69397db5"
      },
      "execution_count": 6,
      "outputs": [
        {
          "output_type": "execute_result",
          "data": {
            "text/plain": [
              "Index(['city', 'dates', 'gender', 'match_type', 'outcome.runs',\n",
              "       'outcome.winner', 'overs', 'player_of_match', 'teams', 'toss.decision',\n",
              "       'toss.winner', 'umpires', 'venue', 'matchid', 'outcome.wickets',\n",
              "       'result', 'outcome.method', 'neutral_venue', 'match_type_number',\n",
              "       'outcome.result', 'outcome.eliminator', 'supersubs.Australia',\n",
              "       'supersubs.England', 'supersubs.Africa.XI', 'supersubs.Asia.XI',\n",
              "       'Zimbabwe', 'supersubs.Sri.Lanka', 'supersubs.Bangladesh',\n",
              "       'supersubs.Zimbabwe', 'supersubs.New.Zealand', 'supersubs.India',\n",
              "       'supersubs.ICC.World.XI', 'ICC.World.XI', 'Sri.Lanka',\n",
              "       'supersubs.South.Africa', 'India', 'England', 'supersubs.Pakistan',\n",
              "       'Australia', 'Pakistan', 'supersubs.West.Indies', 'Bangladesh'],\n",
              "      dtype='object')"
            ]
          },
          "metadata": {},
          "execution_count": 6
        }
      ]
    },
    {
      "cell_type": "code",
      "source": [
        "no_result_matchids = match_df[match_df['result'] == 'no result']['matchid']"
      ],
      "metadata": {
        "id": "l5d-x1Rn67cf"
      },
      "execution_count": 7,
      "outputs": []
    },
    {
      "cell_type": "code",
      "source": [
        "no_result_matchids_list = no_result_matchids.tolist() #keeping a list of matches that ended in 'no result' for Q.2"
      ],
      "metadata": {
        "id": "aUfjPXRa-BbG"
      },
      "execution_count": 8,
      "outputs": []
    },
    {
      "cell_type": "code",
      "source": [
        "match_df['outcome.method'].value_counts()"
      ],
      "metadata": {
        "colab": {
          "base_uri": "https://localhost:8080/"
        },
        "id": "FlBqAOgkBVGz",
        "outputId": "596bd3b2-61e6-4751-f52f-f6a3c2af6923"
      },
      "execution_count": 9,
      "outputs": [
        {
          "output_type": "execute_result",
          "data": {
            "text/plain": [
              "D/L    376\n",
              "Name: outcome.method, dtype: int64"
            ]
          },
          "metadata": {},
          "execution_count": 9
        }
      ]
    },
    {
      "cell_type": "code",
      "source": [
        "match_df = match_df[match_df['outcome.method'] != 'D/L'] #removing matches that were decided by D/L method"
      ],
      "metadata": {
        "id": "_79WaqiKBkwh"
      },
      "execution_count": 10,
      "outputs": []
    },
    {
      "cell_type": "code",
      "source": [
        "match_df['result'].value_counts()"
      ],
      "metadata": {
        "colab": {
          "base_uri": "https://localhost:8080/"
        },
        "id": "Ccxr7JJGDVFu",
        "outputId": "4b0c6b5c-9384-4d02-f01f-81080446ba3a"
      },
      "execution_count": 11,
      "outputs": [
        {
          "output_type": "execute_result",
          "data": {
            "text/plain": [
              "no result    158\n",
              "tie           30\n",
              "Name: result, dtype: int64"
            ]
          },
          "metadata": {},
          "execution_count": 11
        }
      ]
    },
    {
      "cell_type": "code",
      "source": [
        "match_df = match_df[match_df['result'] != 'no result'] #removing matches that had no result"
      ],
      "metadata": {
        "id": "hDOnQaMPDa0L"
      },
      "execution_count": 12,
      "outputs": []
    },
    {
      "cell_type": "code",
      "source": [
        "match_df = match_df[match_df['result'] != 'tie'] #removing matches that ended in a tie"
      ],
      "metadata": {
        "id": "LaD5Osr-DmzD"
      },
      "execution_count": 13,
      "outputs": []
    },
    {
      "cell_type": "code",
      "source": [
        "match_df['year'] = pd.to_datetime(match_df['dates']).dt.year #adding a year column to the dataframe by extracting it from the dates column"
      ],
      "metadata": {
        "id": "pDC9-DQvDtxF"
      },
      "execution_count": 14,
      "outputs": []
    },
    {
      "cell_type": "code",
      "source": [
        "match_df.head()"
      ],
      "metadata": {
        "colab": {
          "base_uri": "https://localhost:8080/",
          "height": 386
        },
        "id": "JIQTZ0uOD504",
        "outputId": "8298bde6-ec50-4e55-e0b4-2ac92ee86547"
      },
      "execution_count": 15,
      "outputs": [
        {
          "output_type": "execute_result",
          "data": {
            "text/plain": [
              "       city       dates gender match_type  outcome.runs outcome.winner  overs  \\\n",
              "0  Brisbane  2017-01-13   male        ODI          92.0      Australia     50   \n",
              "1  Brisbane  2017-01-13   male        ODI          92.0      Australia     50   \n",
              "2       NaN  2017-01-15   male        ODI           NaN       Pakistan     50   \n",
              "3       NaN  2017-01-15   male        ODI           NaN       Pakistan     50   \n",
              "4     Perth  2017-01-19   male        ODI           NaN      Australia     50   \n",
              "\n",
              "   player_of_match      teams toss.decision  ... Sri.Lanka  \\\n",
              "0          MS Wade  Australia           bat  ...       NaN   \n",
              "1          MS Wade   Pakistan           bat  ...       NaN   \n",
              "2  Mohammad Hafeez  Australia           bat  ...       NaN   \n",
              "3  Mohammad Hafeez   Pakistan           bat  ...       NaN   \n",
              "4        SPD Smith  Australia         field  ...       NaN   \n",
              "\n",
              "  supersubs.South.Africa India England  supersubs.Pakistan Australia Pakistan  \\\n",
              "0                    NaN   NaN     NaN                 NaN       NaN      NaN   \n",
              "1                    NaN   NaN     NaN                 NaN       NaN      NaN   \n",
              "2                    NaN   NaN     NaN                 NaN       NaN      NaN   \n",
              "3                    NaN   NaN     NaN                 NaN       NaN      NaN   \n",
              "4                    NaN   NaN     NaN                 NaN       NaN      NaN   \n",
              "\n",
              "   supersubs.West.Indies  Bangladesh  year  \n",
              "0                    NaN         NaN  2017  \n",
              "1                    NaN         NaN  2017  \n",
              "2                    NaN         NaN  2017  \n",
              "3                    NaN         NaN  2017  \n",
              "4                    NaN         NaN  2017  \n",
              "\n",
              "[5 rows x 43 columns]"
            ],
            "text/html": [
              "\n",
              "  <div id=\"df-92ca630d-ba48-4971-9eff-469e6e9c8dca\">\n",
              "    <div class=\"colab-df-container\">\n",
              "      <div>\n",
              "<style scoped>\n",
              "    .dataframe tbody tr th:only-of-type {\n",
              "        vertical-align: middle;\n",
              "    }\n",
              "\n",
              "    .dataframe tbody tr th {\n",
              "        vertical-align: top;\n",
              "    }\n",
              "\n",
              "    .dataframe thead th {\n",
              "        text-align: right;\n",
              "    }\n",
              "</style>\n",
              "<table border=\"1\" class=\"dataframe\">\n",
              "  <thead>\n",
              "    <tr style=\"text-align: right;\">\n",
              "      <th></th>\n",
              "      <th>city</th>\n",
              "      <th>dates</th>\n",
              "      <th>gender</th>\n",
              "      <th>match_type</th>\n",
              "      <th>outcome.runs</th>\n",
              "      <th>outcome.winner</th>\n",
              "      <th>overs</th>\n",
              "      <th>player_of_match</th>\n",
              "      <th>teams</th>\n",
              "      <th>toss.decision</th>\n",
              "      <th>...</th>\n",
              "      <th>Sri.Lanka</th>\n",
              "      <th>supersubs.South.Africa</th>\n",
              "      <th>India</th>\n",
              "      <th>England</th>\n",
              "      <th>supersubs.Pakistan</th>\n",
              "      <th>Australia</th>\n",
              "      <th>Pakistan</th>\n",
              "      <th>supersubs.West.Indies</th>\n",
              "      <th>Bangladesh</th>\n",
              "      <th>year</th>\n",
              "    </tr>\n",
              "  </thead>\n",
              "  <tbody>\n",
              "    <tr>\n",
              "      <th>0</th>\n",
              "      <td>Brisbane</td>\n",
              "      <td>2017-01-13</td>\n",
              "      <td>male</td>\n",
              "      <td>ODI</td>\n",
              "      <td>92.0</td>\n",
              "      <td>Australia</td>\n",
              "      <td>50</td>\n",
              "      <td>MS Wade</td>\n",
              "      <td>Australia</td>\n",
              "      <td>bat</td>\n",
              "      <td>...</td>\n",
              "      <td>NaN</td>\n",
              "      <td>NaN</td>\n",
              "      <td>NaN</td>\n",
              "      <td>NaN</td>\n",
              "      <td>NaN</td>\n",
              "      <td>NaN</td>\n",
              "      <td>NaN</td>\n",
              "      <td>NaN</td>\n",
              "      <td>NaN</td>\n",
              "      <td>2017</td>\n",
              "    </tr>\n",
              "    <tr>\n",
              "      <th>1</th>\n",
              "      <td>Brisbane</td>\n",
              "      <td>2017-01-13</td>\n",
              "      <td>male</td>\n",
              "      <td>ODI</td>\n",
              "      <td>92.0</td>\n",
              "      <td>Australia</td>\n",
              "      <td>50</td>\n",
              "      <td>MS Wade</td>\n",
              "      <td>Pakistan</td>\n",
              "      <td>bat</td>\n",
              "      <td>...</td>\n",
              "      <td>NaN</td>\n",
              "      <td>NaN</td>\n",
              "      <td>NaN</td>\n",
              "      <td>NaN</td>\n",
              "      <td>NaN</td>\n",
              "      <td>NaN</td>\n",
              "      <td>NaN</td>\n",
              "      <td>NaN</td>\n",
              "      <td>NaN</td>\n",
              "      <td>2017</td>\n",
              "    </tr>\n",
              "    <tr>\n",
              "      <th>2</th>\n",
              "      <td>NaN</td>\n",
              "      <td>2017-01-15</td>\n",
              "      <td>male</td>\n",
              "      <td>ODI</td>\n",
              "      <td>NaN</td>\n",
              "      <td>Pakistan</td>\n",
              "      <td>50</td>\n",
              "      <td>Mohammad Hafeez</td>\n",
              "      <td>Australia</td>\n",
              "      <td>bat</td>\n",
              "      <td>...</td>\n",
              "      <td>NaN</td>\n",
              "      <td>NaN</td>\n",
              "      <td>NaN</td>\n",
              "      <td>NaN</td>\n",
              "      <td>NaN</td>\n",
              "      <td>NaN</td>\n",
              "      <td>NaN</td>\n",
              "      <td>NaN</td>\n",
              "      <td>NaN</td>\n",
              "      <td>2017</td>\n",
              "    </tr>\n",
              "    <tr>\n",
              "      <th>3</th>\n",
              "      <td>NaN</td>\n",
              "      <td>2017-01-15</td>\n",
              "      <td>male</td>\n",
              "      <td>ODI</td>\n",
              "      <td>NaN</td>\n",
              "      <td>Pakistan</td>\n",
              "      <td>50</td>\n",
              "      <td>Mohammad Hafeez</td>\n",
              "      <td>Pakistan</td>\n",
              "      <td>bat</td>\n",
              "      <td>...</td>\n",
              "      <td>NaN</td>\n",
              "      <td>NaN</td>\n",
              "      <td>NaN</td>\n",
              "      <td>NaN</td>\n",
              "      <td>NaN</td>\n",
              "      <td>NaN</td>\n",
              "      <td>NaN</td>\n",
              "      <td>NaN</td>\n",
              "      <td>NaN</td>\n",
              "      <td>2017</td>\n",
              "    </tr>\n",
              "    <tr>\n",
              "      <th>4</th>\n",
              "      <td>Perth</td>\n",
              "      <td>2017-01-19</td>\n",
              "      <td>male</td>\n",
              "      <td>ODI</td>\n",
              "      <td>NaN</td>\n",
              "      <td>Australia</td>\n",
              "      <td>50</td>\n",
              "      <td>SPD Smith</td>\n",
              "      <td>Australia</td>\n",
              "      <td>field</td>\n",
              "      <td>...</td>\n",
              "      <td>NaN</td>\n",
              "      <td>NaN</td>\n",
              "      <td>NaN</td>\n",
              "      <td>NaN</td>\n",
              "      <td>NaN</td>\n",
              "      <td>NaN</td>\n",
              "      <td>NaN</td>\n",
              "      <td>NaN</td>\n",
              "      <td>NaN</td>\n",
              "      <td>2017</td>\n",
              "    </tr>\n",
              "  </tbody>\n",
              "</table>\n",
              "<p>5 rows × 43 columns</p>\n",
              "</div>\n",
              "      <button class=\"colab-df-convert\" onclick=\"convertToInteractive('df-92ca630d-ba48-4971-9eff-469e6e9c8dca')\"\n",
              "              title=\"Convert this dataframe to an interactive table.\"\n",
              "              style=\"display:none;\">\n",
              "        \n",
              "  <svg xmlns=\"http://www.w3.org/2000/svg\" height=\"24px\"viewBox=\"0 0 24 24\"\n",
              "       width=\"24px\">\n",
              "    <path d=\"M0 0h24v24H0V0z\" fill=\"none\"/>\n",
              "    <path d=\"M18.56 5.44l.94 2.06.94-2.06 2.06-.94-2.06-.94-.94-2.06-.94 2.06-2.06.94zm-11 1L8.5 8.5l.94-2.06 2.06-.94-2.06-.94L8.5 2.5l-.94 2.06-2.06.94zm10 10l.94 2.06.94-2.06 2.06-.94-2.06-.94-.94-2.06-.94 2.06-2.06.94z\"/><path d=\"M17.41 7.96l-1.37-1.37c-.4-.4-.92-.59-1.43-.59-.52 0-1.04.2-1.43.59L10.3 9.45l-7.72 7.72c-.78.78-.78 2.05 0 2.83L4 21.41c.39.39.9.59 1.41.59.51 0 1.02-.2 1.41-.59l7.78-7.78 2.81-2.81c.8-.78.8-2.07 0-2.86zM5.41 20L4 18.59l7.72-7.72 1.47 1.35L5.41 20z\"/>\n",
              "  </svg>\n",
              "      </button>\n",
              "      \n",
              "  <style>\n",
              "    .colab-df-container {\n",
              "      display:flex;\n",
              "      flex-wrap:wrap;\n",
              "      gap: 12px;\n",
              "    }\n",
              "\n",
              "    .colab-df-convert {\n",
              "      background-color: #E8F0FE;\n",
              "      border: none;\n",
              "      border-radius: 50%;\n",
              "      cursor: pointer;\n",
              "      display: none;\n",
              "      fill: #1967D2;\n",
              "      height: 32px;\n",
              "      padding: 0 0 0 0;\n",
              "      width: 32px;\n",
              "    }\n",
              "\n",
              "    .colab-df-convert:hover {\n",
              "      background-color: #E2EBFA;\n",
              "      box-shadow: 0px 1px 2px rgba(60, 64, 67, 0.3), 0px 1px 3px 1px rgba(60, 64, 67, 0.15);\n",
              "      fill: #174EA6;\n",
              "    }\n",
              "\n",
              "    [theme=dark] .colab-df-convert {\n",
              "      background-color: #3B4455;\n",
              "      fill: #D2E3FC;\n",
              "    }\n",
              "\n",
              "    [theme=dark] .colab-df-convert:hover {\n",
              "      background-color: #434B5C;\n",
              "      box-shadow: 0px 1px 3px 1px rgba(0, 0, 0, 0.15);\n",
              "      filter: drop-shadow(0px 1px 2px rgba(0, 0, 0, 0.3));\n",
              "      fill: #FFFFFF;\n",
              "    }\n",
              "  </style>\n",
              "\n",
              "      <script>\n",
              "        const buttonEl =\n",
              "          document.querySelector('#df-92ca630d-ba48-4971-9eff-469e6e9c8dca button.colab-df-convert');\n",
              "        buttonEl.style.display =\n",
              "          google.colab.kernel.accessAllowed ? 'block' : 'none';\n",
              "\n",
              "        async function convertToInteractive(key) {\n",
              "          const element = document.querySelector('#df-92ca630d-ba48-4971-9eff-469e6e9c8dca');\n",
              "          const dataTable =\n",
              "            await google.colab.kernel.invokeFunction('convertToInteractive',\n",
              "                                                     [key], {});\n",
              "          if (!dataTable) return;\n",
              "\n",
              "          const docLinkHtml = 'Like what you see? Visit the ' +\n",
              "            '<a target=\"_blank\" href=https://colab.research.google.com/notebooks/data_table.ipynb>data table notebook</a>'\n",
              "            + ' to learn more about interactive tables.';\n",
              "          element.innerHTML = '';\n",
              "          dataTable['output_type'] = 'display_data';\n",
              "          await google.colab.output.renderOutput(dataTable, element);\n",
              "          const docLink = document.createElement('div');\n",
              "          docLink.innerHTML = docLinkHtml;\n",
              "          element.appendChild(docLink);\n",
              "        }\n",
              "      </script>\n",
              "    </div>\n",
              "  </div>\n",
              "  "
            ]
          },
          "metadata": {},
          "execution_count": 15
        }
      ]
    },
    {
      "cell_type": "code",
      "source": [
        "# counting total matches each team played per year and gender\n",
        "total_matches = match_df.groupby(['teams', 'year', 'gender']).size().reset_index(name='total_matches')\n",
        "\n",
        "# count total matches each team won per year and gender\n",
        "wins = match_df[match_df['outcome.winner'] == match_df['teams']].groupby(['teams', 'year', 'gender']).size().reset_index(name='wins')\n",
        "\n",
        "# merge the two dataframes\n",
        "win_records = pd.merge(total_matches, wins, how='left', on=['teams', 'year', 'gender'])\n",
        "\n",
        "# calculate win percentage\n",
        "win_records['win_percentage'] = (win_records['wins'] / win_records['total_matches']) * 100\n",
        "\n",
        "win_records = win_records.fillna(0)  # replacing NaN values with 0 (for teams that didn't win any match)\n"
      ],
      "metadata": {
        "id": "3ESEVTwbHAPp"
      },
      "execution_count": 16,
      "outputs": []
    },
    {
      "cell_type": "code",
      "source": [
        "win_records.head() #This dataframe contains the win records (percentage win and total wins) for each team by year and gender."
      ],
      "metadata": {
        "colab": {
          "base_uri": "https://localhost:8080/",
          "height": 206
        },
        "id": "B_oo0BsaJ-e4",
        "outputId": "76172637-49e5-4e16-f658-7f7c196e50c2"
      },
      "execution_count": 17,
      "outputs": [
        {
          "output_type": "execute_result",
          "data": {
            "text/plain": [
              "         teams  year gender  total_matches  wins  win_percentage\n",
              "0  Afghanistan  2009   male              1   1.0      100.000000\n",
              "1  Afghanistan  2010   male              2   1.0       50.000000\n",
              "2  Afghanistan  2012   male              4   0.0        0.000000\n",
              "3  Afghanistan  2014   male             10   4.0       40.000000\n",
              "4  Afghanistan  2015   male             13   7.0       53.846154"
            ],
            "text/html": [
              "\n",
              "  <div id=\"df-fb999ff5-58da-4435-8e2d-0fb909b92e9f\">\n",
              "    <div class=\"colab-df-container\">\n",
              "      <div>\n",
              "<style scoped>\n",
              "    .dataframe tbody tr th:only-of-type {\n",
              "        vertical-align: middle;\n",
              "    }\n",
              "\n",
              "    .dataframe tbody tr th {\n",
              "        vertical-align: top;\n",
              "    }\n",
              "\n",
              "    .dataframe thead th {\n",
              "        text-align: right;\n",
              "    }\n",
              "</style>\n",
              "<table border=\"1\" class=\"dataframe\">\n",
              "  <thead>\n",
              "    <tr style=\"text-align: right;\">\n",
              "      <th></th>\n",
              "      <th>teams</th>\n",
              "      <th>year</th>\n",
              "      <th>gender</th>\n",
              "      <th>total_matches</th>\n",
              "      <th>wins</th>\n",
              "      <th>win_percentage</th>\n",
              "    </tr>\n",
              "  </thead>\n",
              "  <tbody>\n",
              "    <tr>\n",
              "      <th>0</th>\n",
              "      <td>Afghanistan</td>\n",
              "      <td>2009</td>\n",
              "      <td>male</td>\n",
              "      <td>1</td>\n",
              "      <td>1.0</td>\n",
              "      <td>100.000000</td>\n",
              "    </tr>\n",
              "    <tr>\n",
              "      <th>1</th>\n",
              "      <td>Afghanistan</td>\n",
              "      <td>2010</td>\n",
              "      <td>male</td>\n",
              "      <td>2</td>\n",
              "      <td>1.0</td>\n",
              "      <td>50.000000</td>\n",
              "    </tr>\n",
              "    <tr>\n",
              "      <th>2</th>\n",
              "      <td>Afghanistan</td>\n",
              "      <td>2012</td>\n",
              "      <td>male</td>\n",
              "      <td>4</td>\n",
              "      <td>0.0</td>\n",
              "      <td>0.000000</td>\n",
              "    </tr>\n",
              "    <tr>\n",
              "      <th>3</th>\n",
              "      <td>Afghanistan</td>\n",
              "      <td>2014</td>\n",
              "      <td>male</td>\n",
              "      <td>10</td>\n",
              "      <td>4.0</td>\n",
              "      <td>40.000000</td>\n",
              "    </tr>\n",
              "    <tr>\n",
              "      <th>4</th>\n",
              "      <td>Afghanistan</td>\n",
              "      <td>2015</td>\n",
              "      <td>male</td>\n",
              "      <td>13</td>\n",
              "      <td>7.0</td>\n",
              "      <td>53.846154</td>\n",
              "    </tr>\n",
              "  </tbody>\n",
              "</table>\n",
              "</div>\n",
              "      <button class=\"colab-df-convert\" onclick=\"convertToInteractive('df-fb999ff5-58da-4435-8e2d-0fb909b92e9f')\"\n",
              "              title=\"Convert this dataframe to an interactive table.\"\n",
              "              style=\"display:none;\">\n",
              "        \n",
              "  <svg xmlns=\"http://www.w3.org/2000/svg\" height=\"24px\"viewBox=\"0 0 24 24\"\n",
              "       width=\"24px\">\n",
              "    <path d=\"M0 0h24v24H0V0z\" fill=\"none\"/>\n",
              "    <path d=\"M18.56 5.44l.94 2.06.94-2.06 2.06-.94-2.06-.94-.94-2.06-.94 2.06-2.06.94zm-11 1L8.5 8.5l.94-2.06 2.06-.94-2.06-.94L8.5 2.5l-.94 2.06-2.06.94zm10 10l.94 2.06.94-2.06 2.06-.94-2.06-.94-.94-2.06-.94 2.06-2.06.94z\"/><path d=\"M17.41 7.96l-1.37-1.37c-.4-.4-.92-.59-1.43-.59-.52 0-1.04.2-1.43.59L10.3 9.45l-7.72 7.72c-.78.78-.78 2.05 0 2.83L4 21.41c.39.39.9.59 1.41.59.51 0 1.02-.2 1.41-.59l7.78-7.78 2.81-2.81c.8-.78.8-2.07 0-2.86zM5.41 20L4 18.59l7.72-7.72 1.47 1.35L5.41 20z\"/>\n",
              "  </svg>\n",
              "      </button>\n",
              "      \n",
              "  <style>\n",
              "    .colab-df-container {\n",
              "      display:flex;\n",
              "      flex-wrap:wrap;\n",
              "      gap: 12px;\n",
              "    }\n",
              "\n",
              "    .colab-df-convert {\n",
              "      background-color: #E8F0FE;\n",
              "      border: none;\n",
              "      border-radius: 50%;\n",
              "      cursor: pointer;\n",
              "      display: none;\n",
              "      fill: #1967D2;\n",
              "      height: 32px;\n",
              "      padding: 0 0 0 0;\n",
              "      width: 32px;\n",
              "    }\n",
              "\n",
              "    .colab-df-convert:hover {\n",
              "      background-color: #E2EBFA;\n",
              "      box-shadow: 0px 1px 2px rgba(60, 64, 67, 0.3), 0px 1px 3px 1px rgba(60, 64, 67, 0.15);\n",
              "      fill: #174EA6;\n",
              "    }\n",
              "\n",
              "    [theme=dark] .colab-df-convert {\n",
              "      background-color: #3B4455;\n",
              "      fill: #D2E3FC;\n",
              "    }\n",
              "\n",
              "    [theme=dark] .colab-df-convert:hover {\n",
              "      background-color: #434B5C;\n",
              "      box-shadow: 0px 1px 3px 1px rgba(0, 0, 0, 0.15);\n",
              "      filter: drop-shadow(0px 1px 2px rgba(0, 0, 0, 0.3));\n",
              "      fill: #FFFFFF;\n",
              "    }\n",
              "  </style>\n",
              "\n",
              "      <script>\n",
              "        const buttonEl =\n",
              "          document.querySelector('#df-fb999ff5-58da-4435-8e2d-0fb909b92e9f button.colab-df-convert');\n",
              "        buttonEl.style.display =\n",
              "          google.colab.kernel.accessAllowed ? 'block' : 'none';\n",
              "\n",
              "        async function convertToInteractive(key) {\n",
              "          const element = document.querySelector('#df-fb999ff5-58da-4435-8e2d-0fb909b92e9f');\n",
              "          const dataTable =\n",
              "            await google.colab.kernel.invokeFunction('convertToInteractive',\n",
              "                                                     [key], {});\n",
              "          if (!dataTable) return;\n",
              "\n",
              "          const docLinkHtml = 'Like what you see? Visit the ' +\n",
              "            '<a target=\"_blank\" href=https://colab.research.google.com/notebooks/data_table.ipynb>data table notebook</a>'\n",
              "            + ' to learn more about interactive tables.';\n",
              "          element.innerHTML = '';\n",
              "          dataTable['output_type'] = 'display_data';\n",
              "          await google.colab.output.renderOutput(dataTable, element);\n",
              "          const docLink = document.createElement('div');\n",
              "          docLink.innerHTML = docLinkHtml;\n",
              "          element.appendChild(docLink);\n",
              "        }\n",
              "      </script>\n",
              "    </div>\n",
              "  </div>\n",
              "  "
            ]
          },
          "metadata": {},
          "execution_count": 17
        }
      ]
    },
    {
      "cell_type": "code",
      "source": [
        "# filtering data for year 2019\n",
        "df_2019 = win_records[win_records['year'] == 2019]\n",
        "\n",
        "# calculating the teams with highest win percentage for male and female\n",
        "highest_win_percent_male = df_2019[df_2019['gender'] == 'male']['win_percentage'].idxmax()\n",
        "highest_win_percent_female = df_2019[df_2019['gender'] == 'female']['win_percentage'].idxmax()\n",
        "\n",
        "# calculate the teams with highest total wins for male and female\n",
        "highest_wins_male = df_2019[df_2019['gender'] == 'male']['wins'].idxmax()\n",
        "highest_wins_female = df_2019[df_2019['gender'] == 'female']['wins'].idxmax()\n",
        "\n",
        "# print the teams\n",
        "print(\"Male team with highest win percentage in 2019:\", df_2019.loc[highest_win_percent_male, 'teams'])\n",
        "print(\"Female team with highest win percentage in 2019:\", df_2019.loc[highest_win_percent_female, 'teams'])\n",
        "print(\"Male team with highest total wins in 2019:\", df_2019.loc[highest_wins_male, 'teams'])\n",
        "print(\"Female team with highest total wins in 2019:\", df_2019.loc[highest_wins_female, 'teams'])\n"
      ],
      "metadata": {
        "colab": {
          "base_uri": "https://localhost:8080/"
        },
        "id": "qt-ehco5J_3f",
        "outputId": "20f0a6fd-aaba-4c5c-a914-6cfd21c3dd88"
      },
      "execution_count": 18,
      "outputs": [
        {
          "output_type": "stream",
          "name": "stdout",
          "text": [
            "Male team with highest win percentage in 2019: Netherlands\n",
            "Female team with highest win percentage in 2019: Australia\n",
            "Male team with highest total wins in 2019: Australia\n",
            "Female team with highest total wins in 2019: Australia\n"
          ]
        }
      ]
    },
    {
      "cell_type": "code",
      "source": [
        "df_2019"
      ],
      "metadata": {
        "colab": {
          "base_uri": "https://localhost:8080/",
          "height": 927
        },
        "id": "MMAiloaA5DW1",
        "outputId": "5b452227-dbd8-47c5-bf50-82dcbd0e60f6"
      },
      "execution_count": 19,
      "outputs": [
        {
          "output_type": "execute_result",
          "data": {
            "text/plain": [
              "                        teams  year  gender  total_matches  wins  \\\n",
              "8                 Afghanistan  2019    male             16   3.0   \n",
              "38                  Australia  2019  female             10  10.0   \n",
              "39                  Australia  2019    male             23  16.0   \n",
              "62                 Bangladesh  2019    male             17   6.0   \n",
              "98                    England  2019  female             11   6.0   \n",
              "99                    England  2019    male             20  14.0   \n",
              "134                     India  2019  female             11   9.0   \n",
              "135                     India  2019    male             23  15.0   \n",
              "157                   Ireland  2019    male             13   6.0   \n",
              "169                   Namibia  2019    male              4   3.0   \n",
              "172                     Nepal  2019    male              3   2.0   \n",
              "183               Netherlands  2019    male              1   1.0   \n",
              "207               New Zealand  2019  female              6   1.0   \n",
              "208               New Zealand  2019    male             20  13.0   \n",
              "213                      Oman  2019    male              5   3.0   \n",
              "238                  Pakistan  2019  female              6   2.0   \n",
              "239                  Pakistan  2019    male             22   9.0   \n",
              "246          Papua New Guinea  2019    male              8   1.0   \n",
              "257                  Scotland  2019    male              7   4.0   \n",
              "284              South Africa  2019  female              7   3.0   \n",
              "285              South Africa  2019    male             14   7.0   \n",
              "312                 Sri Lanka  2019  female              7   0.0   \n",
              "313                 Sri Lanka  2019    male             17   5.0   \n",
              "322      United Arab Emirates  2019    male              7   2.0   \n",
              "326  United States of America  2019    male              7   5.0   \n",
              "349               West Indies  2019  female              6   1.0   \n",
              "350               West Indies  2019    male             22  10.0   \n",
              "368                  Zimbabwe  2019    male              5   1.0   \n",
              "\n",
              "     win_percentage  \n",
              "8         18.750000  \n",
              "38       100.000000  \n",
              "39        69.565217  \n",
              "62        35.294118  \n",
              "98        54.545455  \n",
              "99        70.000000  \n",
              "134       81.818182  \n",
              "135       65.217391  \n",
              "157       46.153846  \n",
              "169       75.000000  \n",
              "172       66.666667  \n",
              "183      100.000000  \n",
              "207       16.666667  \n",
              "208       65.000000  \n",
              "213       60.000000  \n",
              "238       33.333333  \n",
              "239       40.909091  \n",
              "246       12.500000  \n",
              "257       57.142857  \n",
              "284       42.857143  \n",
              "285       50.000000  \n",
              "312        0.000000  \n",
              "313       29.411765  \n",
              "322       28.571429  \n",
              "326       71.428571  \n",
              "349       16.666667  \n",
              "350       45.454545  \n",
              "368       20.000000  "
            ],
            "text/html": [
              "\n",
              "  <div id=\"df-2af89308-43f5-468b-a481-80c9ef3e6b53\">\n",
              "    <div class=\"colab-df-container\">\n",
              "      <div>\n",
              "<style scoped>\n",
              "    .dataframe tbody tr th:only-of-type {\n",
              "        vertical-align: middle;\n",
              "    }\n",
              "\n",
              "    .dataframe tbody tr th {\n",
              "        vertical-align: top;\n",
              "    }\n",
              "\n",
              "    .dataframe thead th {\n",
              "        text-align: right;\n",
              "    }\n",
              "</style>\n",
              "<table border=\"1\" class=\"dataframe\">\n",
              "  <thead>\n",
              "    <tr style=\"text-align: right;\">\n",
              "      <th></th>\n",
              "      <th>teams</th>\n",
              "      <th>year</th>\n",
              "      <th>gender</th>\n",
              "      <th>total_matches</th>\n",
              "      <th>wins</th>\n",
              "      <th>win_percentage</th>\n",
              "    </tr>\n",
              "  </thead>\n",
              "  <tbody>\n",
              "    <tr>\n",
              "      <th>8</th>\n",
              "      <td>Afghanistan</td>\n",
              "      <td>2019</td>\n",
              "      <td>male</td>\n",
              "      <td>16</td>\n",
              "      <td>3.0</td>\n",
              "      <td>18.750000</td>\n",
              "    </tr>\n",
              "    <tr>\n",
              "      <th>38</th>\n",
              "      <td>Australia</td>\n",
              "      <td>2019</td>\n",
              "      <td>female</td>\n",
              "      <td>10</td>\n",
              "      <td>10.0</td>\n",
              "      <td>100.000000</td>\n",
              "    </tr>\n",
              "    <tr>\n",
              "      <th>39</th>\n",
              "      <td>Australia</td>\n",
              "      <td>2019</td>\n",
              "      <td>male</td>\n",
              "      <td>23</td>\n",
              "      <td>16.0</td>\n",
              "      <td>69.565217</td>\n",
              "    </tr>\n",
              "    <tr>\n",
              "      <th>62</th>\n",
              "      <td>Bangladesh</td>\n",
              "      <td>2019</td>\n",
              "      <td>male</td>\n",
              "      <td>17</td>\n",
              "      <td>6.0</td>\n",
              "      <td>35.294118</td>\n",
              "    </tr>\n",
              "    <tr>\n",
              "      <th>98</th>\n",
              "      <td>England</td>\n",
              "      <td>2019</td>\n",
              "      <td>female</td>\n",
              "      <td>11</td>\n",
              "      <td>6.0</td>\n",
              "      <td>54.545455</td>\n",
              "    </tr>\n",
              "    <tr>\n",
              "      <th>99</th>\n",
              "      <td>England</td>\n",
              "      <td>2019</td>\n",
              "      <td>male</td>\n",
              "      <td>20</td>\n",
              "      <td>14.0</td>\n",
              "      <td>70.000000</td>\n",
              "    </tr>\n",
              "    <tr>\n",
              "      <th>134</th>\n",
              "      <td>India</td>\n",
              "      <td>2019</td>\n",
              "      <td>female</td>\n",
              "      <td>11</td>\n",
              "      <td>9.0</td>\n",
              "      <td>81.818182</td>\n",
              "    </tr>\n",
              "    <tr>\n",
              "      <th>135</th>\n",
              "      <td>India</td>\n",
              "      <td>2019</td>\n",
              "      <td>male</td>\n",
              "      <td>23</td>\n",
              "      <td>15.0</td>\n",
              "      <td>65.217391</td>\n",
              "    </tr>\n",
              "    <tr>\n",
              "      <th>157</th>\n",
              "      <td>Ireland</td>\n",
              "      <td>2019</td>\n",
              "      <td>male</td>\n",
              "      <td>13</td>\n",
              "      <td>6.0</td>\n",
              "      <td>46.153846</td>\n",
              "    </tr>\n",
              "    <tr>\n",
              "      <th>169</th>\n",
              "      <td>Namibia</td>\n",
              "      <td>2019</td>\n",
              "      <td>male</td>\n",
              "      <td>4</td>\n",
              "      <td>3.0</td>\n",
              "      <td>75.000000</td>\n",
              "    </tr>\n",
              "    <tr>\n",
              "      <th>172</th>\n",
              "      <td>Nepal</td>\n",
              "      <td>2019</td>\n",
              "      <td>male</td>\n",
              "      <td>3</td>\n",
              "      <td>2.0</td>\n",
              "      <td>66.666667</td>\n",
              "    </tr>\n",
              "    <tr>\n",
              "      <th>183</th>\n",
              "      <td>Netherlands</td>\n",
              "      <td>2019</td>\n",
              "      <td>male</td>\n",
              "      <td>1</td>\n",
              "      <td>1.0</td>\n",
              "      <td>100.000000</td>\n",
              "    </tr>\n",
              "    <tr>\n",
              "      <th>207</th>\n",
              "      <td>New Zealand</td>\n",
              "      <td>2019</td>\n",
              "      <td>female</td>\n",
              "      <td>6</td>\n",
              "      <td>1.0</td>\n",
              "      <td>16.666667</td>\n",
              "    </tr>\n",
              "    <tr>\n",
              "      <th>208</th>\n",
              "      <td>New Zealand</td>\n",
              "      <td>2019</td>\n",
              "      <td>male</td>\n",
              "      <td>20</td>\n",
              "      <td>13.0</td>\n",
              "      <td>65.000000</td>\n",
              "    </tr>\n",
              "    <tr>\n",
              "      <th>213</th>\n",
              "      <td>Oman</td>\n",
              "      <td>2019</td>\n",
              "      <td>male</td>\n",
              "      <td>5</td>\n",
              "      <td>3.0</td>\n",
              "      <td>60.000000</td>\n",
              "    </tr>\n",
              "    <tr>\n",
              "      <th>238</th>\n",
              "      <td>Pakistan</td>\n",
              "      <td>2019</td>\n",
              "      <td>female</td>\n",
              "      <td>6</td>\n",
              "      <td>2.0</td>\n",
              "      <td>33.333333</td>\n",
              "    </tr>\n",
              "    <tr>\n",
              "      <th>239</th>\n",
              "      <td>Pakistan</td>\n",
              "      <td>2019</td>\n",
              "      <td>male</td>\n",
              "      <td>22</td>\n",
              "      <td>9.0</td>\n",
              "      <td>40.909091</td>\n",
              "    </tr>\n",
              "    <tr>\n",
              "      <th>246</th>\n",
              "      <td>Papua New Guinea</td>\n",
              "      <td>2019</td>\n",
              "      <td>male</td>\n",
              "      <td>8</td>\n",
              "      <td>1.0</td>\n",
              "      <td>12.500000</td>\n",
              "    </tr>\n",
              "    <tr>\n",
              "      <th>257</th>\n",
              "      <td>Scotland</td>\n",
              "      <td>2019</td>\n",
              "      <td>male</td>\n",
              "      <td>7</td>\n",
              "      <td>4.0</td>\n",
              "      <td>57.142857</td>\n",
              "    </tr>\n",
              "    <tr>\n",
              "      <th>284</th>\n",
              "      <td>South Africa</td>\n",
              "      <td>2019</td>\n",
              "      <td>female</td>\n",
              "      <td>7</td>\n",
              "      <td>3.0</td>\n",
              "      <td>42.857143</td>\n",
              "    </tr>\n",
              "    <tr>\n",
              "      <th>285</th>\n",
              "      <td>South Africa</td>\n",
              "      <td>2019</td>\n",
              "      <td>male</td>\n",
              "      <td>14</td>\n",
              "      <td>7.0</td>\n",
              "      <td>50.000000</td>\n",
              "    </tr>\n",
              "    <tr>\n",
              "      <th>312</th>\n",
              "      <td>Sri Lanka</td>\n",
              "      <td>2019</td>\n",
              "      <td>female</td>\n",
              "      <td>7</td>\n",
              "      <td>0.0</td>\n",
              "      <td>0.000000</td>\n",
              "    </tr>\n",
              "    <tr>\n",
              "      <th>313</th>\n",
              "      <td>Sri Lanka</td>\n",
              "      <td>2019</td>\n",
              "      <td>male</td>\n",
              "      <td>17</td>\n",
              "      <td>5.0</td>\n",
              "      <td>29.411765</td>\n",
              "    </tr>\n",
              "    <tr>\n",
              "      <th>322</th>\n",
              "      <td>United Arab Emirates</td>\n",
              "      <td>2019</td>\n",
              "      <td>male</td>\n",
              "      <td>7</td>\n",
              "      <td>2.0</td>\n",
              "      <td>28.571429</td>\n",
              "    </tr>\n",
              "    <tr>\n",
              "      <th>326</th>\n",
              "      <td>United States of America</td>\n",
              "      <td>2019</td>\n",
              "      <td>male</td>\n",
              "      <td>7</td>\n",
              "      <td>5.0</td>\n",
              "      <td>71.428571</td>\n",
              "    </tr>\n",
              "    <tr>\n",
              "      <th>349</th>\n",
              "      <td>West Indies</td>\n",
              "      <td>2019</td>\n",
              "      <td>female</td>\n",
              "      <td>6</td>\n",
              "      <td>1.0</td>\n",
              "      <td>16.666667</td>\n",
              "    </tr>\n",
              "    <tr>\n",
              "      <th>350</th>\n",
              "      <td>West Indies</td>\n",
              "      <td>2019</td>\n",
              "      <td>male</td>\n",
              "      <td>22</td>\n",
              "      <td>10.0</td>\n",
              "      <td>45.454545</td>\n",
              "    </tr>\n",
              "    <tr>\n",
              "      <th>368</th>\n",
              "      <td>Zimbabwe</td>\n",
              "      <td>2019</td>\n",
              "      <td>male</td>\n",
              "      <td>5</td>\n",
              "      <td>1.0</td>\n",
              "      <td>20.000000</td>\n",
              "    </tr>\n",
              "  </tbody>\n",
              "</table>\n",
              "</div>\n",
              "      <button class=\"colab-df-convert\" onclick=\"convertToInteractive('df-2af89308-43f5-468b-a481-80c9ef3e6b53')\"\n",
              "              title=\"Convert this dataframe to an interactive table.\"\n",
              "              style=\"display:none;\">\n",
              "        \n",
              "  <svg xmlns=\"http://www.w3.org/2000/svg\" height=\"24px\"viewBox=\"0 0 24 24\"\n",
              "       width=\"24px\">\n",
              "    <path d=\"M0 0h24v24H0V0z\" fill=\"none\"/>\n",
              "    <path d=\"M18.56 5.44l.94 2.06.94-2.06 2.06-.94-2.06-.94-.94-2.06-.94 2.06-2.06.94zm-11 1L8.5 8.5l.94-2.06 2.06-.94-2.06-.94L8.5 2.5l-.94 2.06-2.06.94zm10 10l.94 2.06.94-2.06 2.06-.94-2.06-.94-.94-2.06-.94 2.06-2.06.94z\"/><path d=\"M17.41 7.96l-1.37-1.37c-.4-.4-.92-.59-1.43-.59-.52 0-1.04.2-1.43.59L10.3 9.45l-7.72 7.72c-.78.78-.78 2.05 0 2.83L4 21.41c.39.39.9.59 1.41.59.51 0 1.02-.2 1.41-.59l7.78-7.78 2.81-2.81c.8-.78.8-2.07 0-2.86zM5.41 20L4 18.59l7.72-7.72 1.47 1.35L5.41 20z\"/>\n",
              "  </svg>\n",
              "      </button>\n",
              "      \n",
              "  <style>\n",
              "    .colab-df-container {\n",
              "      display:flex;\n",
              "      flex-wrap:wrap;\n",
              "      gap: 12px;\n",
              "    }\n",
              "\n",
              "    .colab-df-convert {\n",
              "      background-color: #E8F0FE;\n",
              "      border: none;\n",
              "      border-radius: 50%;\n",
              "      cursor: pointer;\n",
              "      display: none;\n",
              "      fill: #1967D2;\n",
              "      height: 32px;\n",
              "      padding: 0 0 0 0;\n",
              "      width: 32px;\n",
              "    }\n",
              "\n",
              "    .colab-df-convert:hover {\n",
              "      background-color: #E2EBFA;\n",
              "      box-shadow: 0px 1px 2px rgba(60, 64, 67, 0.3), 0px 1px 3px 1px rgba(60, 64, 67, 0.15);\n",
              "      fill: #174EA6;\n",
              "    }\n",
              "\n",
              "    [theme=dark] .colab-df-convert {\n",
              "      background-color: #3B4455;\n",
              "      fill: #D2E3FC;\n",
              "    }\n",
              "\n",
              "    [theme=dark] .colab-df-convert:hover {\n",
              "      background-color: #434B5C;\n",
              "      box-shadow: 0px 1px 3px 1px rgba(0, 0, 0, 0.15);\n",
              "      filter: drop-shadow(0px 1px 2px rgba(0, 0, 0, 0.3));\n",
              "      fill: #FFFFFF;\n",
              "    }\n",
              "  </style>\n",
              "\n",
              "      <script>\n",
              "        const buttonEl =\n",
              "          document.querySelector('#df-2af89308-43f5-468b-a481-80c9ef3e6b53 button.colab-df-convert');\n",
              "        buttonEl.style.display =\n",
              "          google.colab.kernel.accessAllowed ? 'block' : 'none';\n",
              "\n",
              "        async function convertToInteractive(key) {\n",
              "          const element = document.querySelector('#df-2af89308-43f5-468b-a481-80c9ef3e6b53');\n",
              "          const dataTable =\n",
              "            await google.colab.kernel.invokeFunction('convertToInteractive',\n",
              "                                                     [key], {});\n",
              "          if (!dataTable) return;\n",
              "\n",
              "          const docLinkHtml = 'Like what you see? Visit the ' +\n",
              "            '<a target=\"_blank\" href=https://colab.research.google.com/notebooks/data_table.ipynb>data table notebook</a>'\n",
              "            + ' to learn more about interactive tables.';\n",
              "          element.innerHTML = '';\n",
              "          dataTable['output_type'] = 'display_data';\n",
              "          await google.colab.output.renderOutput(dataTable, element);\n",
              "          const docLink = document.createElement('div');\n",
              "          docLink.innerHTML = docLinkHtml;\n",
              "          element.appendChild(docLink);\n",
              "        }\n",
              "      </script>\n",
              "    </div>\n",
              "  </div>\n",
              "  "
            ]
          },
          "metadata": {},
          "execution_count": 19
        }
      ]
    },
    {
      "cell_type": "markdown",
      "source": [
        "The male teams with the highest win percentages and those with the highest total wins are not the same. This is because of the differences in the number of matches played by each team. A team might have a high win percentage but fewer total wins if it played fewer matches. Conversely, a team might have more total wins but a lower win percentage if it played a large number of matches and lost a significant portion of them. The Netherlands male team has a higher win percentage because they won the only game they played in 2019. The Australian male team played 23 games and won 16 of them. For the female team, the highest no.of wins as well as the highest win percentage belongs to the Australian team who won all of the 10 games they played in 2019."
      ],
      "metadata": {
        "id": "4Rjv1PRHK8AG"
      }
    },
    {
      "cell_type": "markdown",
      "source": [
        "Ans 2 -"
      ],
      "metadata": {
        "id": "MYJbk7XQ5c4q"
      }
    },
    {
      "cell_type": "code",
      "source": [
        "with open('/content/gdrive/MyDrive/innings_results.json') as file:\n",
        "  innings_data = json.load(file) #loading the innings descripton data"
      ],
      "metadata": {
        "id": "MMRygLqJRf65"
      },
      "execution_count": 20,
      "outputs": []
    },
    {
      "cell_type": "code",
      "source": [
        "innings_df = pd.DataFrame(innings_data) #converting data to dataframe"
      ],
      "metadata": {
        "id": "bcdqSA-ERzBC"
      },
      "execution_count": 21,
      "outputs": []
    },
    {
      "cell_type": "code",
      "source": [
        "innings_df"
      ],
      "metadata": {
        "colab": {
          "base_uri": "https://localhost:8080/",
          "height": 679
        },
        "id": "X4sJCPkKR46B",
        "outputId": "6762772f-c815-4a24-f09b-a717f1de58ce"
      },
      "execution_count": 22,
      "outputs": [
        {
          "output_type": "execute_result",
          "data": {
            "text/plain": [
              "               batsman                bowler    non_striker  runs.batsman  \\\n",
              "0            DA Warner         Mohammad Amir        TM Head             0   \n",
              "1            DA Warner         Mohammad Amir        TM Head             0   \n",
              "2            DA Warner         Mohammad Amir        TM Head             0   \n",
              "3            DA Warner         Mohammad Amir        TM Head             0   \n",
              "4            DA Warner         Mohammad Amir        TM Head             0   \n",
              "...                ...                   ...            ...           ...   \n",
              "1150196     PL Mommsen  Mohammad Shahzad (2)  RD Berrington             0   \n",
              "1150197  RD Berrington         Rohan Mustafa     PL Mommsen             0   \n",
              "1150198  RD Berrington         Rohan Mustafa     PL Mommsen             0   \n",
              "1150199  RD Berrington         Rohan Mustafa     PL Mommsen             0   \n",
              "1150200  RD Berrington         Rohan Mustafa     PL Mommsen             4   \n",
              "\n",
              "         runs.extras  runs.total  over       team  innings  matchid  ...  \\\n",
              "0                  0           0   0.1  Australia        1  1000887  ...   \n",
              "1                  0           0   0.2  Australia        1  1000887  ...   \n",
              "2                  0           0   0.3  Australia        1  1000887  ...   \n",
              "3                  0           0   0.4  Australia        1  1000887  ...   \n",
              "4                  1           1   0.5  Australia        1  1000887  ...   \n",
              "...              ...         ...   ...        ...      ...      ...  ...   \n",
              "1150196            0           0  46.6   Scotland        2   997995  ...   \n",
              "1150197            0           0  47.1   Scotland        2   997995  ...   \n",
              "1150198            0           0  47.2   Scotland        2   997995  ...   \n",
              "1150199            0           0  47.3   Scotland        2   997995  ...   \n",
              "1150200            0           4  47.4   Scotland        2   997995  ...   \n",
              "\n",
              "         replacements.match.in replacements.match.out replacements.match.team  \\\n",
              "0                          NaN                    NaN                     NaN   \n",
              "1                          NaN                    NaN                     NaN   \n",
              "2                          NaN                    NaN                     NaN   \n",
              "3                          NaN                    NaN                     NaN   \n",
              "4                          NaN                    NaN                     NaN   \n",
              "...                        ...                    ...                     ...   \n",
              "1150196                    NaN                    NaN                     NaN   \n",
              "1150197                    NaN                    NaN                     NaN   \n",
              "1150198                    NaN                    NaN                     NaN   \n",
              "1150199                    NaN                    NaN                     NaN   \n",
              "1150200                    NaN                    NaN                     NaN   \n",
              "\n",
              "        replacements.match.reason  replacements.match.in.1  \\\n",
              "0                             NaN                      NaN   \n",
              "1                             NaN                      NaN   \n",
              "2                             NaN                      NaN   \n",
              "3                             NaN                      NaN   \n",
              "4                             NaN                      NaN   \n",
              "...                           ...                      ...   \n",
              "1150196                       NaN                      NaN   \n",
              "1150197                       NaN                      NaN   \n",
              "1150198                       NaN                      NaN   \n",
              "1150199                       NaN                      NaN   \n",
              "1150200                       NaN                      NaN   \n",
              "\n",
              "         replacements.match.out.1  replacements.match.reason.1  \\\n",
              "0                             NaN                          NaN   \n",
              "1                             NaN                          NaN   \n",
              "2                             NaN                          NaN   \n",
              "3                             NaN                          NaN   \n",
              "4                             NaN                          NaN   \n",
              "...                           ...                          ...   \n",
              "1150196                       NaN                          NaN   \n",
              "1150197                       NaN                          NaN   \n",
              "1150198                       NaN                          NaN   \n",
              "1150199                       NaN                          NaN   \n",
              "1150200                       NaN                          NaN   \n",
              "\n",
              "         replacements.match.team.1 extras.penalty extras.wides  \n",
              "0                              NaN            NaN          NaN  \n",
              "1                              NaN            NaN          NaN  \n",
              "2                              NaN            NaN          NaN  \n",
              "3                              NaN            NaN          NaN  \n",
              "4                              NaN            NaN          NaN  \n",
              "...                            ...            ...          ...  \n",
              "1150196                        NaN            NaN          NaN  \n",
              "1150197                        NaN            NaN          NaN  \n",
              "1150198                        NaN            NaN          NaN  \n",
              "1150199                        NaN            NaN          NaN  \n",
              "1150200                        NaN            NaN          NaN  \n",
              "\n",
              "[1150201 rows x 36 columns]"
            ],
            "text/html": [
              "\n",
              "  <div id=\"df-20827acd-a8e9-4dc2-aa06-0e3c2f6d5472\">\n",
              "    <div class=\"colab-df-container\">\n",
              "      <div>\n",
              "<style scoped>\n",
              "    .dataframe tbody tr th:only-of-type {\n",
              "        vertical-align: middle;\n",
              "    }\n",
              "\n",
              "    .dataframe tbody tr th {\n",
              "        vertical-align: top;\n",
              "    }\n",
              "\n",
              "    .dataframe thead th {\n",
              "        text-align: right;\n",
              "    }\n",
              "</style>\n",
              "<table border=\"1\" class=\"dataframe\">\n",
              "  <thead>\n",
              "    <tr style=\"text-align: right;\">\n",
              "      <th></th>\n",
              "      <th>batsman</th>\n",
              "      <th>bowler</th>\n",
              "      <th>non_striker</th>\n",
              "      <th>runs.batsman</th>\n",
              "      <th>runs.extras</th>\n",
              "      <th>runs.total</th>\n",
              "      <th>over</th>\n",
              "      <th>team</th>\n",
              "      <th>innings</th>\n",
              "      <th>matchid</th>\n",
              "      <th>...</th>\n",
              "      <th>replacements.match.in</th>\n",
              "      <th>replacements.match.out</th>\n",
              "      <th>replacements.match.team</th>\n",
              "      <th>replacements.match.reason</th>\n",
              "      <th>replacements.match.in.1</th>\n",
              "      <th>replacements.match.out.1</th>\n",
              "      <th>replacements.match.reason.1</th>\n",
              "      <th>replacements.match.team.1</th>\n",
              "      <th>extras.penalty</th>\n",
              "      <th>extras.wides</th>\n",
              "    </tr>\n",
              "  </thead>\n",
              "  <tbody>\n",
              "    <tr>\n",
              "      <th>0</th>\n",
              "      <td>DA Warner</td>\n",
              "      <td>Mohammad Amir</td>\n",
              "      <td>TM Head</td>\n",
              "      <td>0</td>\n",
              "      <td>0</td>\n",
              "      <td>0</td>\n",
              "      <td>0.1</td>\n",
              "      <td>Australia</td>\n",
              "      <td>1</td>\n",
              "      <td>1000887</td>\n",
              "      <td>...</td>\n",
              "      <td>NaN</td>\n",
              "      <td>NaN</td>\n",
              "      <td>NaN</td>\n",
              "      <td>NaN</td>\n",
              "      <td>NaN</td>\n",
              "      <td>NaN</td>\n",
              "      <td>NaN</td>\n",
              "      <td>NaN</td>\n",
              "      <td>NaN</td>\n",
              "      <td>NaN</td>\n",
              "    </tr>\n",
              "    <tr>\n",
              "      <th>1</th>\n",
              "      <td>DA Warner</td>\n",
              "      <td>Mohammad Amir</td>\n",
              "      <td>TM Head</td>\n",
              "      <td>0</td>\n",
              "      <td>0</td>\n",
              "      <td>0</td>\n",
              "      <td>0.2</td>\n",
              "      <td>Australia</td>\n",
              "      <td>1</td>\n",
              "      <td>1000887</td>\n",
              "      <td>...</td>\n",
              "      <td>NaN</td>\n",
              "      <td>NaN</td>\n",
              "      <td>NaN</td>\n",
              "      <td>NaN</td>\n",
              "      <td>NaN</td>\n",
              "      <td>NaN</td>\n",
              "      <td>NaN</td>\n",
              "      <td>NaN</td>\n",
              "      <td>NaN</td>\n",
              "      <td>NaN</td>\n",
              "    </tr>\n",
              "    <tr>\n",
              "      <th>2</th>\n",
              "      <td>DA Warner</td>\n",
              "      <td>Mohammad Amir</td>\n",
              "      <td>TM Head</td>\n",
              "      <td>0</td>\n",
              "      <td>0</td>\n",
              "      <td>0</td>\n",
              "      <td>0.3</td>\n",
              "      <td>Australia</td>\n",
              "      <td>1</td>\n",
              "      <td>1000887</td>\n",
              "      <td>...</td>\n",
              "      <td>NaN</td>\n",
              "      <td>NaN</td>\n",
              "      <td>NaN</td>\n",
              "      <td>NaN</td>\n",
              "      <td>NaN</td>\n",
              "      <td>NaN</td>\n",
              "      <td>NaN</td>\n",
              "      <td>NaN</td>\n",
              "      <td>NaN</td>\n",
              "      <td>NaN</td>\n",
              "    </tr>\n",
              "    <tr>\n",
              "      <th>3</th>\n",
              "      <td>DA Warner</td>\n",
              "      <td>Mohammad Amir</td>\n",
              "      <td>TM Head</td>\n",
              "      <td>0</td>\n",
              "      <td>0</td>\n",
              "      <td>0</td>\n",
              "      <td>0.4</td>\n",
              "      <td>Australia</td>\n",
              "      <td>1</td>\n",
              "      <td>1000887</td>\n",
              "      <td>...</td>\n",
              "      <td>NaN</td>\n",
              "      <td>NaN</td>\n",
              "      <td>NaN</td>\n",
              "      <td>NaN</td>\n",
              "      <td>NaN</td>\n",
              "      <td>NaN</td>\n",
              "      <td>NaN</td>\n",
              "      <td>NaN</td>\n",
              "      <td>NaN</td>\n",
              "      <td>NaN</td>\n",
              "    </tr>\n",
              "    <tr>\n",
              "      <th>4</th>\n",
              "      <td>DA Warner</td>\n",
              "      <td>Mohammad Amir</td>\n",
              "      <td>TM Head</td>\n",
              "      <td>0</td>\n",
              "      <td>1</td>\n",
              "      <td>1</td>\n",
              "      <td>0.5</td>\n",
              "      <td>Australia</td>\n",
              "      <td>1</td>\n",
              "      <td>1000887</td>\n",
              "      <td>...</td>\n",
              "      <td>NaN</td>\n",
              "      <td>NaN</td>\n",
              "      <td>NaN</td>\n",
              "      <td>NaN</td>\n",
              "      <td>NaN</td>\n",
              "      <td>NaN</td>\n",
              "      <td>NaN</td>\n",
              "      <td>NaN</td>\n",
              "      <td>NaN</td>\n",
              "      <td>NaN</td>\n",
              "    </tr>\n",
              "    <tr>\n",
              "      <th>...</th>\n",
              "      <td>...</td>\n",
              "      <td>...</td>\n",
              "      <td>...</td>\n",
              "      <td>...</td>\n",
              "      <td>...</td>\n",
              "      <td>...</td>\n",
              "      <td>...</td>\n",
              "      <td>...</td>\n",
              "      <td>...</td>\n",
              "      <td>...</td>\n",
              "      <td>...</td>\n",
              "      <td>...</td>\n",
              "      <td>...</td>\n",
              "      <td>...</td>\n",
              "      <td>...</td>\n",
              "      <td>...</td>\n",
              "      <td>...</td>\n",
              "      <td>...</td>\n",
              "      <td>...</td>\n",
              "      <td>...</td>\n",
              "      <td>...</td>\n",
              "    </tr>\n",
              "    <tr>\n",
              "      <th>1150196</th>\n",
              "      <td>PL Mommsen</td>\n",
              "      <td>Mohammad Shahzad (2)</td>\n",
              "      <td>RD Berrington</td>\n",
              "      <td>0</td>\n",
              "      <td>0</td>\n",
              "      <td>0</td>\n",
              "      <td>46.6</td>\n",
              "      <td>Scotland</td>\n",
              "      <td>2</td>\n",
              "      <td>997995</td>\n",
              "      <td>...</td>\n",
              "      <td>NaN</td>\n",
              "      <td>NaN</td>\n",
              "      <td>NaN</td>\n",
              "      <td>NaN</td>\n",
              "      <td>NaN</td>\n",
              "      <td>NaN</td>\n",
              "      <td>NaN</td>\n",
              "      <td>NaN</td>\n",
              "      <td>NaN</td>\n",
              "      <td>NaN</td>\n",
              "    </tr>\n",
              "    <tr>\n",
              "      <th>1150197</th>\n",
              "      <td>RD Berrington</td>\n",
              "      <td>Rohan Mustafa</td>\n",
              "      <td>PL Mommsen</td>\n",
              "      <td>0</td>\n",
              "      <td>0</td>\n",
              "      <td>0</td>\n",
              "      <td>47.1</td>\n",
              "      <td>Scotland</td>\n",
              "      <td>2</td>\n",
              "      <td>997995</td>\n",
              "      <td>...</td>\n",
              "      <td>NaN</td>\n",
              "      <td>NaN</td>\n",
              "      <td>NaN</td>\n",
              "      <td>NaN</td>\n",
              "      <td>NaN</td>\n",
              "      <td>NaN</td>\n",
              "      <td>NaN</td>\n",
              "      <td>NaN</td>\n",
              "      <td>NaN</td>\n",
              "      <td>NaN</td>\n",
              "    </tr>\n",
              "    <tr>\n",
              "      <th>1150198</th>\n",
              "      <td>RD Berrington</td>\n",
              "      <td>Rohan Mustafa</td>\n",
              "      <td>PL Mommsen</td>\n",
              "      <td>0</td>\n",
              "      <td>0</td>\n",
              "      <td>0</td>\n",
              "      <td>47.2</td>\n",
              "      <td>Scotland</td>\n",
              "      <td>2</td>\n",
              "      <td>997995</td>\n",
              "      <td>...</td>\n",
              "      <td>NaN</td>\n",
              "      <td>NaN</td>\n",
              "      <td>NaN</td>\n",
              "      <td>NaN</td>\n",
              "      <td>NaN</td>\n",
              "      <td>NaN</td>\n",
              "      <td>NaN</td>\n",
              "      <td>NaN</td>\n",
              "      <td>NaN</td>\n",
              "      <td>NaN</td>\n",
              "    </tr>\n",
              "    <tr>\n",
              "      <th>1150199</th>\n",
              "      <td>RD Berrington</td>\n",
              "      <td>Rohan Mustafa</td>\n",
              "      <td>PL Mommsen</td>\n",
              "      <td>0</td>\n",
              "      <td>0</td>\n",
              "      <td>0</td>\n",
              "      <td>47.3</td>\n",
              "      <td>Scotland</td>\n",
              "      <td>2</td>\n",
              "      <td>997995</td>\n",
              "      <td>...</td>\n",
              "      <td>NaN</td>\n",
              "      <td>NaN</td>\n",
              "      <td>NaN</td>\n",
              "      <td>NaN</td>\n",
              "      <td>NaN</td>\n",
              "      <td>NaN</td>\n",
              "      <td>NaN</td>\n",
              "      <td>NaN</td>\n",
              "      <td>NaN</td>\n",
              "      <td>NaN</td>\n",
              "    </tr>\n",
              "    <tr>\n",
              "      <th>1150200</th>\n",
              "      <td>RD Berrington</td>\n",
              "      <td>Rohan Mustafa</td>\n",
              "      <td>PL Mommsen</td>\n",
              "      <td>4</td>\n",
              "      <td>0</td>\n",
              "      <td>4</td>\n",
              "      <td>47.4</td>\n",
              "      <td>Scotland</td>\n",
              "      <td>2</td>\n",
              "      <td>997995</td>\n",
              "      <td>...</td>\n",
              "      <td>NaN</td>\n",
              "      <td>NaN</td>\n",
              "      <td>NaN</td>\n",
              "      <td>NaN</td>\n",
              "      <td>NaN</td>\n",
              "      <td>NaN</td>\n",
              "      <td>NaN</td>\n",
              "      <td>NaN</td>\n",
              "      <td>NaN</td>\n",
              "      <td>NaN</td>\n",
              "    </tr>\n",
              "  </tbody>\n",
              "</table>\n",
              "<p>1150201 rows × 36 columns</p>\n",
              "</div>\n",
              "      <button class=\"colab-df-convert\" onclick=\"convertToInteractive('df-20827acd-a8e9-4dc2-aa06-0e3c2f6d5472')\"\n",
              "              title=\"Convert this dataframe to an interactive table.\"\n",
              "              style=\"display:none;\">\n",
              "        \n",
              "  <svg xmlns=\"http://www.w3.org/2000/svg\" height=\"24px\"viewBox=\"0 0 24 24\"\n",
              "       width=\"24px\">\n",
              "    <path d=\"M0 0h24v24H0V0z\" fill=\"none\"/>\n",
              "    <path d=\"M18.56 5.44l.94 2.06.94-2.06 2.06-.94-2.06-.94-.94-2.06-.94 2.06-2.06.94zm-11 1L8.5 8.5l.94-2.06 2.06-.94-2.06-.94L8.5 2.5l-.94 2.06-2.06.94zm10 10l.94 2.06.94-2.06 2.06-.94-2.06-.94-.94-2.06-.94 2.06-2.06.94z\"/><path d=\"M17.41 7.96l-1.37-1.37c-.4-.4-.92-.59-1.43-.59-.52 0-1.04.2-1.43.59L10.3 9.45l-7.72 7.72c-.78.78-.78 2.05 0 2.83L4 21.41c.39.39.9.59 1.41.59.51 0 1.02-.2 1.41-.59l7.78-7.78 2.81-2.81c.8-.78.8-2.07 0-2.86zM5.41 20L4 18.59l7.72-7.72 1.47 1.35L5.41 20z\"/>\n",
              "  </svg>\n",
              "      </button>\n",
              "      \n",
              "  <style>\n",
              "    .colab-df-container {\n",
              "      display:flex;\n",
              "      flex-wrap:wrap;\n",
              "      gap: 12px;\n",
              "    }\n",
              "\n",
              "    .colab-df-convert {\n",
              "      background-color: #E8F0FE;\n",
              "      border: none;\n",
              "      border-radius: 50%;\n",
              "      cursor: pointer;\n",
              "      display: none;\n",
              "      fill: #1967D2;\n",
              "      height: 32px;\n",
              "      padding: 0 0 0 0;\n",
              "      width: 32px;\n",
              "    }\n",
              "\n",
              "    .colab-df-convert:hover {\n",
              "      background-color: #E2EBFA;\n",
              "      box-shadow: 0px 1px 2px rgba(60, 64, 67, 0.3), 0px 1px 3px 1px rgba(60, 64, 67, 0.15);\n",
              "      fill: #174EA6;\n",
              "    }\n",
              "\n",
              "    [theme=dark] .colab-df-convert {\n",
              "      background-color: #3B4455;\n",
              "      fill: #D2E3FC;\n",
              "    }\n",
              "\n",
              "    [theme=dark] .colab-df-convert:hover {\n",
              "      background-color: #434B5C;\n",
              "      box-shadow: 0px 1px 3px 1px rgba(0, 0, 0, 0.15);\n",
              "      filter: drop-shadow(0px 1px 2px rgba(0, 0, 0, 0.3));\n",
              "      fill: #FFFFFF;\n",
              "    }\n",
              "  </style>\n",
              "\n",
              "      <script>\n",
              "        const buttonEl =\n",
              "          document.querySelector('#df-20827acd-a8e9-4dc2-aa06-0e3c2f6d5472 button.colab-df-convert');\n",
              "        buttonEl.style.display =\n",
              "          google.colab.kernel.accessAllowed ? 'block' : 'none';\n",
              "\n",
              "        async function convertToInteractive(key) {\n",
              "          const element = document.querySelector('#df-20827acd-a8e9-4dc2-aa06-0e3c2f6d5472');\n",
              "          const dataTable =\n",
              "            await google.colab.kernel.invokeFunction('convertToInteractive',\n",
              "                                                     [key], {});\n",
              "          if (!dataTable) return;\n",
              "\n",
              "          const docLinkHtml = 'Like what you see? Visit the ' +\n",
              "            '<a target=\"_blank\" href=https://colab.research.google.com/notebooks/data_table.ipynb>data table notebook</a>'\n",
              "            + ' to learn more about interactive tables.';\n",
              "          element.innerHTML = '';\n",
              "          dataTable['output_type'] = 'display_data';\n",
              "          await google.colab.output.renderOutput(dataTable, element);\n",
              "          const docLink = document.createElement('div');\n",
              "          docLink.innerHTML = docLinkHtml;\n",
              "          element.appendChild(docLink);\n",
              "        }\n",
              "      </script>\n",
              "    </div>\n",
              "  </div>\n",
              "  "
            ]
          },
          "metadata": {},
          "execution_count": 22
        }
      ]
    },
    {
      "cell_type": "code",
      "source": [
        "innings_df.columns"
      ],
      "metadata": {
        "colab": {
          "base_uri": "https://localhost:8080/"
        },
        "id": "0ONCFrBMR6xA",
        "outputId": "2a964a7b-fe15-4f85-e9ef-87ee3028fa3d"
      },
      "execution_count": 23,
      "outputs": [
        {
          "output_type": "execute_result",
          "data": {
            "text/plain": [
              "Index(['batsman', 'bowler', 'non_striker', 'runs.batsman', 'runs.extras',\n",
              "       'runs.total', 'over', 'team', 'innings', 'matchid', 'wides',\n",
              "       'wicket.kind', 'wicket.player_out', 'wicket.fielders',\n",
              "       'runs.non_boundary', 'legbyes', 'noballs', 'byes',\n",
              "       'replacements.role.in', 'replacements.role.out',\n",
              "       'replacements.role.reason', 'replacements.role.role', 'penalty',\n",
              "       'extras.legbyes', 'extras.noballs', 'extras.byes',\n",
              "       'replacements.match.in', 'replacements.match.out',\n",
              "       'replacements.match.team', 'replacements.match.reason',\n",
              "       'replacements.match.in.1', 'replacements.match.out.1',\n",
              "       'replacements.match.reason.1', 'replacements.match.team.1',\n",
              "       'extras.penalty', 'extras.wides'],\n",
              "      dtype='object')"
            ]
          },
          "metadata": {},
          "execution_count": 23
        }
      ]
    },
    {
      "cell_type": "code",
      "source": [
        "innings_df['wicket.kind'].value_counts()"
      ],
      "metadata": {
        "colab": {
          "base_uri": "https://localhost:8080/"
        },
        "id": "fkCPAJRE-8zG",
        "outputId": "a553e27b-9e27-44a4-fbfb-10bdeeec15ba"
      },
      "execution_count": 24,
      "outputs": [
        {
          "output_type": "execute_result",
          "data": {
            "text/plain": [
              "caught                   17449\n",
              "bowled                    5661\n",
              "lbw                       3458\n",
              "run out                   3367\n",
              "caught and bowled          959\n",
              "stumped                    882\n",
              "retired hurt                48\n",
              "hit wicket                  27\n",
              "obstructing the field        6\n",
              "Name: wicket.kind, dtype: int64"
            ]
          },
          "metadata": {},
          "execution_count": 24
        }
      ]
    },
    {
      "cell_type": "markdown",
      "source": [
        "Dataset with runs and wickets on every ball"
      ],
      "metadata": {
        "id": "6VAdlHLNUFI6"
      }
    },
    {
      "cell_type": "code",
      "source": [
        "# Calculate wickets on each delivery\n",
        "innings_df['wickets'] = np.where(innings_df['wicket.kind'].notna(), 1, 0) #a 1 in the wicket column means that there was a wicket on that ball, a 0 means there wasn't\n",
        "\n",
        "# Creating a DataFrame with only required columns\n",
        "df_outcomes = innings_df[['team','matchid', 'innings', 'over', 'runs.total', 'wickets']]\n",
        "\n",
        "# Filtering out matches with no result\n",
        "df_outcomes = df_outcomes[~df_outcomes['matchid'].isin(no_result_matchids_list)]\n",
        "\n",
        "# Saving processed DataFrame\n",
        "df_outcomes.to_csv('processed_cricket.csv', index=False)\n"
      ],
      "metadata": {
        "id": "Hm5MJ0rRR8V6"
      },
      "execution_count": 25,
      "outputs": []
    },
    {
      "cell_type": "code",
      "source": [
        "df_outcomes"
      ],
      "metadata": {
        "colab": {
          "base_uri": "https://localhost:8080/",
          "height": 424
        },
        "id": "4TptzEA9_rwt",
        "outputId": "91bf2169-1cc4-4089-f693-bb63ef8ce7d9"
      },
      "execution_count": 26,
      "outputs": [
        {
          "output_type": "execute_result",
          "data": {
            "text/plain": [
              "              team  matchid  innings  over  runs.total  wickets\n",
              "0        Australia  1000887        1   0.1           0        0\n",
              "1        Australia  1000887        1   0.2           0        0\n",
              "2        Australia  1000887        1   0.3           0        0\n",
              "3        Australia  1000887        1   0.4           0        0\n",
              "4        Australia  1000887        1   0.5           1        0\n",
              "...            ...      ...      ...   ...         ...      ...\n",
              "1150196   Scotland   997995        2  46.6           0        0\n",
              "1150197   Scotland   997995        2  47.1           0        0\n",
              "1150198   Scotland   997995        2  47.2           0        0\n",
              "1150199   Scotland   997995        2  47.3           0        0\n",
              "1150200   Scotland   997995        2  47.4           4        0\n",
              "\n",
              "[1141163 rows x 6 columns]"
            ],
            "text/html": [
              "\n",
              "  <div id=\"df-b2d3e72b-3912-4165-ace6-c842110f3f3f\">\n",
              "    <div class=\"colab-df-container\">\n",
              "      <div>\n",
              "<style scoped>\n",
              "    .dataframe tbody tr th:only-of-type {\n",
              "        vertical-align: middle;\n",
              "    }\n",
              "\n",
              "    .dataframe tbody tr th {\n",
              "        vertical-align: top;\n",
              "    }\n",
              "\n",
              "    .dataframe thead th {\n",
              "        text-align: right;\n",
              "    }\n",
              "</style>\n",
              "<table border=\"1\" class=\"dataframe\">\n",
              "  <thead>\n",
              "    <tr style=\"text-align: right;\">\n",
              "      <th></th>\n",
              "      <th>team</th>\n",
              "      <th>matchid</th>\n",
              "      <th>innings</th>\n",
              "      <th>over</th>\n",
              "      <th>runs.total</th>\n",
              "      <th>wickets</th>\n",
              "    </tr>\n",
              "  </thead>\n",
              "  <tbody>\n",
              "    <tr>\n",
              "      <th>0</th>\n",
              "      <td>Australia</td>\n",
              "      <td>1000887</td>\n",
              "      <td>1</td>\n",
              "      <td>0.1</td>\n",
              "      <td>0</td>\n",
              "      <td>0</td>\n",
              "    </tr>\n",
              "    <tr>\n",
              "      <th>1</th>\n",
              "      <td>Australia</td>\n",
              "      <td>1000887</td>\n",
              "      <td>1</td>\n",
              "      <td>0.2</td>\n",
              "      <td>0</td>\n",
              "      <td>0</td>\n",
              "    </tr>\n",
              "    <tr>\n",
              "      <th>2</th>\n",
              "      <td>Australia</td>\n",
              "      <td>1000887</td>\n",
              "      <td>1</td>\n",
              "      <td>0.3</td>\n",
              "      <td>0</td>\n",
              "      <td>0</td>\n",
              "    </tr>\n",
              "    <tr>\n",
              "      <th>3</th>\n",
              "      <td>Australia</td>\n",
              "      <td>1000887</td>\n",
              "      <td>1</td>\n",
              "      <td>0.4</td>\n",
              "      <td>0</td>\n",
              "      <td>0</td>\n",
              "    </tr>\n",
              "    <tr>\n",
              "      <th>4</th>\n",
              "      <td>Australia</td>\n",
              "      <td>1000887</td>\n",
              "      <td>1</td>\n",
              "      <td>0.5</td>\n",
              "      <td>1</td>\n",
              "      <td>0</td>\n",
              "    </tr>\n",
              "    <tr>\n",
              "      <th>...</th>\n",
              "      <td>...</td>\n",
              "      <td>...</td>\n",
              "      <td>...</td>\n",
              "      <td>...</td>\n",
              "      <td>...</td>\n",
              "      <td>...</td>\n",
              "    </tr>\n",
              "    <tr>\n",
              "      <th>1150196</th>\n",
              "      <td>Scotland</td>\n",
              "      <td>997995</td>\n",
              "      <td>2</td>\n",
              "      <td>46.6</td>\n",
              "      <td>0</td>\n",
              "      <td>0</td>\n",
              "    </tr>\n",
              "    <tr>\n",
              "      <th>1150197</th>\n",
              "      <td>Scotland</td>\n",
              "      <td>997995</td>\n",
              "      <td>2</td>\n",
              "      <td>47.1</td>\n",
              "      <td>0</td>\n",
              "      <td>0</td>\n",
              "    </tr>\n",
              "    <tr>\n",
              "      <th>1150198</th>\n",
              "      <td>Scotland</td>\n",
              "      <td>997995</td>\n",
              "      <td>2</td>\n",
              "      <td>47.2</td>\n",
              "      <td>0</td>\n",
              "      <td>0</td>\n",
              "    </tr>\n",
              "    <tr>\n",
              "      <th>1150199</th>\n",
              "      <td>Scotland</td>\n",
              "      <td>997995</td>\n",
              "      <td>2</td>\n",
              "      <td>47.3</td>\n",
              "      <td>0</td>\n",
              "      <td>0</td>\n",
              "    </tr>\n",
              "    <tr>\n",
              "      <th>1150200</th>\n",
              "      <td>Scotland</td>\n",
              "      <td>997995</td>\n",
              "      <td>2</td>\n",
              "      <td>47.4</td>\n",
              "      <td>4</td>\n",
              "      <td>0</td>\n",
              "    </tr>\n",
              "  </tbody>\n",
              "</table>\n",
              "<p>1141163 rows × 6 columns</p>\n",
              "</div>\n",
              "      <button class=\"colab-df-convert\" onclick=\"convertToInteractive('df-b2d3e72b-3912-4165-ace6-c842110f3f3f')\"\n",
              "              title=\"Convert this dataframe to an interactive table.\"\n",
              "              style=\"display:none;\">\n",
              "        \n",
              "  <svg xmlns=\"http://www.w3.org/2000/svg\" height=\"24px\"viewBox=\"0 0 24 24\"\n",
              "       width=\"24px\">\n",
              "    <path d=\"M0 0h24v24H0V0z\" fill=\"none\"/>\n",
              "    <path d=\"M18.56 5.44l.94 2.06.94-2.06 2.06-.94-2.06-.94-.94-2.06-.94 2.06-2.06.94zm-11 1L8.5 8.5l.94-2.06 2.06-.94-2.06-.94L8.5 2.5l-.94 2.06-2.06.94zm10 10l.94 2.06.94-2.06 2.06-.94-2.06-.94-.94-2.06-.94 2.06-2.06.94z\"/><path d=\"M17.41 7.96l-1.37-1.37c-.4-.4-.92-.59-1.43-.59-.52 0-1.04.2-1.43.59L10.3 9.45l-7.72 7.72c-.78.78-.78 2.05 0 2.83L4 21.41c.39.39.9.59 1.41.59.51 0 1.02-.2 1.41-.59l7.78-7.78 2.81-2.81c.8-.78.8-2.07 0-2.86zM5.41 20L4 18.59l7.72-7.72 1.47 1.35L5.41 20z\"/>\n",
              "  </svg>\n",
              "      </button>\n",
              "      \n",
              "  <style>\n",
              "    .colab-df-container {\n",
              "      display:flex;\n",
              "      flex-wrap:wrap;\n",
              "      gap: 12px;\n",
              "    }\n",
              "\n",
              "    .colab-df-convert {\n",
              "      background-color: #E8F0FE;\n",
              "      border: none;\n",
              "      border-radius: 50%;\n",
              "      cursor: pointer;\n",
              "      display: none;\n",
              "      fill: #1967D2;\n",
              "      height: 32px;\n",
              "      padding: 0 0 0 0;\n",
              "      width: 32px;\n",
              "    }\n",
              "\n",
              "    .colab-df-convert:hover {\n",
              "      background-color: #E2EBFA;\n",
              "      box-shadow: 0px 1px 2px rgba(60, 64, 67, 0.3), 0px 1px 3px 1px rgba(60, 64, 67, 0.15);\n",
              "      fill: #174EA6;\n",
              "    }\n",
              "\n",
              "    [theme=dark] .colab-df-convert {\n",
              "      background-color: #3B4455;\n",
              "      fill: #D2E3FC;\n",
              "    }\n",
              "\n",
              "    [theme=dark] .colab-df-convert:hover {\n",
              "      background-color: #434B5C;\n",
              "      box-shadow: 0px 1px 3px 1px rgba(0, 0, 0, 0.15);\n",
              "      filter: drop-shadow(0px 1px 2px rgba(0, 0, 0, 0.3));\n",
              "      fill: #FFFFFF;\n",
              "    }\n",
              "  </style>\n",
              "\n",
              "      <script>\n",
              "        const buttonEl =\n",
              "          document.querySelector('#df-b2d3e72b-3912-4165-ace6-c842110f3f3f button.colab-df-convert');\n",
              "        buttonEl.style.display =\n",
              "          google.colab.kernel.accessAllowed ? 'block' : 'none';\n",
              "\n",
              "        async function convertToInteractive(key) {\n",
              "          const element = document.querySelector('#df-b2d3e72b-3912-4165-ace6-c842110f3f3f');\n",
              "          const dataTable =\n",
              "            await google.colab.kernel.invokeFunction('convertToInteractive',\n",
              "                                                     [key], {});\n",
              "          if (!dataTable) return;\n",
              "\n",
              "          const docLinkHtml = 'Like what you see? Visit the ' +\n",
              "            '<a target=\"_blank\" href=https://colab.research.google.com/notebooks/data_table.ipynb>data table notebook</a>'\n",
              "            + ' to learn more about interactive tables.';\n",
              "          element.innerHTML = '';\n",
              "          dataTable['output_type'] = 'display_data';\n",
              "          await google.colab.output.renderOutput(dataTable, element);\n",
              "          const docLink = document.createElement('div');\n",
              "          docLink.innerHTML = docLinkHtml;\n",
              "          element.appendChild(docLink);\n",
              "        }\n",
              "      </script>\n",
              "    </div>\n",
              "  </div>\n",
              "  "
            ]
          },
          "metadata": {},
          "execution_count": 26
        }
      ]
    },
    {
      "cell_type": "markdown",
      "source": [
        "Developing a model to predict an average team’s expected runs per over"
      ],
      "metadata": {
        "id": "hFAuExprUC0b"
      }
    },
    {
      "cell_type": "code",
      "source": [
        "df = pd.read_csv('/content/processed_cricket.csv')"
      ],
      "metadata": {
        "id": "5TBTRvX_UCL9"
      },
      "execution_count": 111,
      "outputs": []
    },
    {
      "cell_type": "code",
      "source": [
        "df"
      ],
      "metadata": {
        "colab": {
          "base_uri": "https://localhost:8080/",
          "height": 424
        },
        "id": "fBJZmNH8UlbQ",
        "outputId": "e7a304af-2a8f-4c43-d969-98d570e87e2e"
      },
      "execution_count": 112,
      "outputs": [
        {
          "output_type": "execute_result",
          "data": {
            "text/plain": [
              "              team    matchid  innings  over  runs.total  wickets\n",
              "0        Australia  1000887.0        1   0.1           0        0\n",
              "1        Australia  1000887.0        1   0.2           0        0\n",
              "2        Australia  1000887.0        1   0.3           0        0\n",
              "3        Australia  1000887.0        1   0.4           0        0\n",
              "4        Australia  1000887.0        1   0.5           1        0\n",
              "...            ...        ...      ...   ...         ...      ...\n",
              "1141158   Scotland   997995.0        2  46.6           0        0\n",
              "1141159   Scotland   997995.0        2  47.1           0        0\n",
              "1141160   Scotland   997995.0        2  47.2           0        0\n",
              "1141161   Scotland   997995.0        2  47.3           0        0\n",
              "1141162   Scotland   997995.0        2  47.4           4        0\n",
              "\n",
              "[1141163 rows x 6 columns]"
            ],
            "text/html": [
              "\n",
              "  <div id=\"df-a5417f8a-a033-409d-9130-b653a9832457\">\n",
              "    <div class=\"colab-df-container\">\n",
              "      <div>\n",
              "<style scoped>\n",
              "    .dataframe tbody tr th:only-of-type {\n",
              "        vertical-align: middle;\n",
              "    }\n",
              "\n",
              "    .dataframe tbody tr th {\n",
              "        vertical-align: top;\n",
              "    }\n",
              "\n",
              "    .dataframe thead th {\n",
              "        text-align: right;\n",
              "    }\n",
              "</style>\n",
              "<table border=\"1\" class=\"dataframe\">\n",
              "  <thead>\n",
              "    <tr style=\"text-align: right;\">\n",
              "      <th></th>\n",
              "      <th>team</th>\n",
              "      <th>matchid</th>\n",
              "      <th>innings</th>\n",
              "      <th>over</th>\n",
              "      <th>runs.total</th>\n",
              "      <th>wickets</th>\n",
              "    </tr>\n",
              "  </thead>\n",
              "  <tbody>\n",
              "    <tr>\n",
              "      <th>0</th>\n",
              "      <td>Australia</td>\n",
              "      <td>1000887.0</td>\n",
              "      <td>1</td>\n",
              "      <td>0.1</td>\n",
              "      <td>0</td>\n",
              "      <td>0</td>\n",
              "    </tr>\n",
              "    <tr>\n",
              "      <th>1</th>\n",
              "      <td>Australia</td>\n",
              "      <td>1000887.0</td>\n",
              "      <td>1</td>\n",
              "      <td>0.2</td>\n",
              "      <td>0</td>\n",
              "      <td>0</td>\n",
              "    </tr>\n",
              "    <tr>\n",
              "      <th>2</th>\n",
              "      <td>Australia</td>\n",
              "      <td>1000887.0</td>\n",
              "      <td>1</td>\n",
              "      <td>0.3</td>\n",
              "      <td>0</td>\n",
              "      <td>0</td>\n",
              "    </tr>\n",
              "    <tr>\n",
              "      <th>3</th>\n",
              "      <td>Australia</td>\n",
              "      <td>1000887.0</td>\n",
              "      <td>1</td>\n",
              "      <td>0.4</td>\n",
              "      <td>0</td>\n",
              "      <td>0</td>\n",
              "    </tr>\n",
              "    <tr>\n",
              "      <th>4</th>\n",
              "      <td>Australia</td>\n",
              "      <td>1000887.0</td>\n",
              "      <td>1</td>\n",
              "      <td>0.5</td>\n",
              "      <td>1</td>\n",
              "      <td>0</td>\n",
              "    </tr>\n",
              "    <tr>\n",
              "      <th>...</th>\n",
              "      <td>...</td>\n",
              "      <td>...</td>\n",
              "      <td>...</td>\n",
              "      <td>...</td>\n",
              "      <td>...</td>\n",
              "      <td>...</td>\n",
              "    </tr>\n",
              "    <tr>\n",
              "      <th>1141158</th>\n",
              "      <td>Scotland</td>\n",
              "      <td>997995.0</td>\n",
              "      <td>2</td>\n",
              "      <td>46.6</td>\n",
              "      <td>0</td>\n",
              "      <td>0</td>\n",
              "    </tr>\n",
              "    <tr>\n",
              "      <th>1141159</th>\n",
              "      <td>Scotland</td>\n",
              "      <td>997995.0</td>\n",
              "      <td>2</td>\n",
              "      <td>47.1</td>\n",
              "      <td>0</td>\n",
              "      <td>0</td>\n",
              "    </tr>\n",
              "    <tr>\n",
              "      <th>1141160</th>\n",
              "      <td>Scotland</td>\n",
              "      <td>997995.0</td>\n",
              "      <td>2</td>\n",
              "      <td>47.2</td>\n",
              "      <td>0</td>\n",
              "      <td>0</td>\n",
              "    </tr>\n",
              "    <tr>\n",
              "      <th>1141161</th>\n",
              "      <td>Scotland</td>\n",
              "      <td>997995.0</td>\n",
              "      <td>2</td>\n",
              "      <td>47.3</td>\n",
              "      <td>0</td>\n",
              "      <td>0</td>\n",
              "    </tr>\n",
              "    <tr>\n",
              "      <th>1141162</th>\n",
              "      <td>Scotland</td>\n",
              "      <td>997995.0</td>\n",
              "      <td>2</td>\n",
              "      <td>47.4</td>\n",
              "      <td>4</td>\n",
              "      <td>0</td>\n",
              "    </tr>\n",
              "  </tbody>\n",
              "</table>\n",
              "<p>1141163 rows × 6 columns</p>\n",
              "</div>\n",
              "      <button class=\"colab-df-convert\" onclick=\"convertToInteractive('df-a5417f8a-a033-409d-9130-b653a9832457')\"\n",
              "              title=\"Convert this dataframe to an interactive table.\"\n",
              "              style=\"display:none;\">\n",
              "        \n",
              "  <svg xmlns=\"http://www.w3.org/2000/svg\" height=\"24px\"viewBox=\"0 0 24 24\"\n",
              "       width=\"24px\">\n",
              "    <path d=\"M0 0h24v24H0V0z\" fill=\"none\"/>\n",
              "    <path d=\"M18.56 5.44l.94 2.06.94-2.06 2.06-.94-2.06-.94-.94-2.06-.94 2.06-2.06.94zm-11 1L8.5 8.5l.94-2.06 2.06-.94-2.06-.94L8.5 2.5l-.94 2.06-2.06.94zm10 10l.94 2.06.94-2.06 2.06-.94-2.06-.94-.94-2.06-.94 2.06-2.06.94z\"/><path d=\"M17.41 7.96l-1.37-1.37c-.4-.4-.92-.59-1.43-.59-.52 0-1.04.2-1.43.59L10.3 9.45l-7.72 7.72c-.78.78-.78 2.05 0 2.83L4 21.41c.39.39.9.59 1.41.59.51 0 1.02-.2 1.41-.59l7.78-7.78 2.81-2.81c.8-.78.8-2.07 0-2.86zM5.41 20L4 18.59l7.72-7.72 1.47 1.35L5.41 20z\"/>\n",
              "  </svg>\n",
              "      </button>\n",
              "      \n",
              "  <style>\n",
              "    .colab-df-container {\n",
              "      display:flex;\n",
              "      flex-wrap:wrap;\n",
              "      gap: 12px;\n",
              "    }\n",
              "\n",
              "    .colab-df-convert {\n",
              "      background-color: #E8F0FE;\n",
              "      border: none;\n",
              "      border-radius: 50%;\n",
              "      cursor: pointer;\n",
              "      display: none;\n",
              "      fill: #1967D2;\n",
              "      height: 32px;\n",
              "      padding: 0 0 0 0;\n",
              "      width: 32px;\n",
              "    }\n",
              "\n",
              "    .colab-df-convert:hover {\n",
              "      background-color: #E2EBFA;\n",
              "      box-shadow: 0px 1px 2px rgba(60, 64, 67, 0.3), 0px 1px 3px 1px rgba(60, 64, 67, 0.15);\n",
              "      fill: #174EA6;\n",
              "    }\n",
              "\n",
              "    [theme=dark] .colab-df-convert {\n",
              "      background-color: #3B4455;\n",
              "      fill: #D2E3FC;\n",
              "    }\n",
              "\n",
              "    [theme=dark] .colab-df-convert:hover {\n",
              "      background-color: #434B5C;\n",
              "      box-shadow: 0px 1px 3px 1px rgba(0, 0, 0, 0.15);\n",
              "      filter: drop-shadow(0px 1px 2px rgba(0, 0, 0, 0.3));\n",
              "      fill: #FFFFFF;\n",
              "    }\n",
              "  </style>\n",
              "\n",
              "      <script>\n",
              "        const buttonEl =\n",
              "          document.querySelector('#df-a5417f8a-a033-409d-9130-b653a9832457 button.colab-df-convert');\n",
              "        buttonEl.style.display =\n",
              "          google.colab.kernel.accessAllowed ? 'block' : 'none';\n",
              "\n",
              "        async function convertToInteractive(key) {\n",
              "          const element = document.querySelector('#df-a5417f8a-a033-409d-9130-b653a9832457');\n",
              "          const dataTable =\n",
              "            await google.colab.kernel.invokeFunction('convertToInteractive',\n",
              "                                                     [key], {});\n",
              "          if (!dataTable) return;\n",
              "\n",
              "          const docLinkHtml = 'Like what you see? Visit the ' +\n",
              "            '<a target=\"_blank\" href=https://colab.research.google.com/notebooks/data_table.ipynb>data table notebook</a>'\n",
              "            + ' to learn more about interactive tables.';\n",
              "          element.innerHTML = '';\n",
              "          dataTable['output_type'] = 'display_data';\n",
              "          await google.colab.output.renderOutput(dataTable, element);\n",
              "          const docLink = document.createElement('div');\n",
              "          docLink.innerHTML = docLinkHtml;\n",
              "          element.appendChild(docLink);\n",
              "        }\n",
              "      </script>\n",
              "    </div>\n",
              "  </div>\n",
              "  "
            ]
          },
          "metadata": {},
          "execution_count": 112
        }
      ]
    },
    {
      "cell_type": "code",
      "source": [
        "# Converting over to the integer form (1.4 to 2, 2.2 to 3 etc.)\n",
        "\n",
        "df['over'] = df['over'].apply(lambda x: int(x)+1 if x%1 != 0 else int(x))\n",
        "\n",
        "# Calculating cumulative wickets up to each over\n",
        "df['cumulative_wickets'] = df.groupby(['matchid', 'innings'])['wickets'].cumsum()\n",
        "\n",
        "# Creating a new dataframe df_over where we group by matchid, innings, team, and over, and sum the runs\n",
        "df_over = df.groupby(['matchid', 'innings', 'team', 'over'])['runs.total'].sum().reset_index()\n",
        "\n",
        "# Calculating remaining overs and wickets for each over\n",
        "df_over['remaining_overs'] = 50 - df_over['over']\n",
        "df_over['remaining_wickets'] = 10 - df.groupby(['matchid', 'innings', 'over'])['cumulative_wickets'].max().values\n",
        "\n",
        "# Saving intermediate data to CSV\n",
        "df_over.to_csv('intermediate_data.csv', index=False)"
      ],
      "metadata": {
        "id": "h5flpGNWXjOP"
      },
      "execution_count": 113,
      "outputs": []
    },
    {
      "cell_type": "code",
      "source": [
        "df_over.shape"
      ],
      "metadata": {
        "colab": {
          "base_uri": "https://localhost:8080/"
        },
        "id": "BklvzY16kgh4",
        "outputId": "1b1ac2a5-261a-44c6-996c-22f96e150427"
      },
      "execution_count": 114,
      "outputs": [
        {
          "output_type": "execute_result",
          "data": {
            "text/plain": [
              "(184787, 7)"
            ]
          },
          "metadata": {},
          "execution_count": 114
        }
      ]
    },
    {
      "cell_type": "code",
      "source": [
        "df_over['runs.total'].describe()"
      ],
      "metadata": {
        "colab": {
          "base_uri": "https://localhost:8080/"
        },
        "id": "-sibIruI1Win",
        "outputId": "25225a3c-3cc0-469a-b143-85581db21f36"
      },
      "execution_count": 115,
      "outputs": [
        {
          "output_type": "execute_result",
          "data": {
            "text/plain": [
              "count    184787.000000\n",
              "mean          5.081819\n",
              "std           3.573154\n",
              "min           0.000000\n",
              "25%           2.000000\n",
              "50%           4.000000\n",
              "75%           7.000000\n",
              "max          36.000000\n",
              "Name: runs.total, dtype: float64"
            ]
          },
          "metadata": {},
          "execution_count": 115
        }
      ]
    },
    {
      "cell_type": "code",
      "source": [
        "df_over"
      ],
      "metadata": {
        "colab": {
          "base_uri": "https://localhost:8080/",
          "height": 424
        },
        "id": "llfKP1ZkDbDG",
        "outputId": "74423e9d-a731-45c6-b671-b8e6ee36d82e"
      },
      "execution_count": 116,
      "outputs": [
        {
          "output_type": "execute_result",
          "data": {
            "text/plain": [
              "          matchid  innings        team  over  runs.total  remaining_overs  \\\n",
              "0         64857.0        1    Pakistan     1           4               49   \n",
              "1         64857.0        1    Pakistan     2           5               48   \n",
              "2         64857.0        1    Pakistan     3           1               47   \n",
              "3         64857.0        1    Pakistan     4           2               46   \n",
              "4         64857.0        1    Pakistan     5           6               45   \n",
              "...           ...      ...         ...   ...         ...              ...   \n",
              "184782  1262347.0        2  Bangladesh    39           1               11   \n",
              "184783  1262347.0        2  Bangladesh    40           9               10   \n",
              "184784  1262347.0        2  Bangladesh    41           1                9   \n",
              "184785  1262347.0        2  Bangladesh    42           9                8   \n",
              "184786  1262347.0        2  Bangladesh    43           8                7   \n",
              "\n",
              "        remaining_wickets  \n",
              "0                    10.0  \n",
              "1                    10.0  \n",
              "2                    10.0  \n",
              "3                    10.0  \n",
              "4                    10.0  \n",
              "...                   ...  \n",
              "184782                2.0  \n",
              "184783                2.0  \n",
              "184784                2.0  \n",
              "184785                1.0  \n",
              "184786                0.0  \n",
              "\n",
              "[184787 rows x 7 columns]"
            ],
            "text/html": [
              "\n",
              "  <div id=\"df-3ac55194-318e-4f5d-9e38-65406b5f2663\">\n",
              "    <div class=\"colab-df-container\">\n",
              "      <div>\n",
              "<style scoped>\n",
              "    .dataframe tbody tr th:only-of-type {\n",
              "        vertical-align: middle;\n",
              "    }\n",
              "\n",
              "    .dataframe tbody tr th {\n",
              "        vertical-align: top;\n",
              "    }\n",
              "\n",
              "    .dataframe thead th {\n",
              "        text-align: right;\n",
              "    }\n",
              "</style>\n",
              "<table border=\"1\" class=\"dataframe\">\n",
              "  <thead>\n",
              "    <tr style=\"text-align: right;\">\n",
              "      <th></th>\n",
              "      <th>matchid</th>\n",
              "      <th>innings</th>\n",
              "      <th>team</th>\n",
              "      <th>over</th>\n",
              "      <th>runs.total</th>\n",
              "      <th>remaining_overs</th>\n",
              "      <th>remaining_wickets</th>\n",
              "    </tr>\n",
              "  </thead>\n",
              "  <tbody>\n",
              "    <tr>\n",
              "      <th>0</th>\n",
              "      <td>64857.0</td>\n",
              "      <td>1</td>\n",
              "      <td>Pakistan</td>\n",
              "      <td>1</td>\n",
              "      <td>4</td>\n",
              "      <td>49</td>\n",
              "      <td>10.0</td>\n",
              "    </tr>\n",
              "    <tr>\n",
              "      <th>1</th>\n",
              "      <td>64857.0</td>\n",
              "      <td>1</td>\n",
              "      <td>Pakistan</td>\n",
              "      <td>2</td>\n",
              "      <td>5</td>\n",
              "      <td>48</td>\n",
              "      <td>10.0</td>\n",
              "    </tr>\n",
              "    <tr>\n",
              "      <th>2</th>\n",
              "      <td>64857.0</td>\n",
              "      <td>1</td>\n",
              "      <td>Pakistan</td>\n",
              "      <td>3</td>\n",
              "      <td>1</td>\n",
              "      <td>47</td>\n",
              "      <td>10.0</td>\n",
              "    </tr>\n",
              "    <tr>\n",
              "      <th>3</th>\n",
              "      <td>64857.0</td>\n",
              "      <td>1</td>\n",
              "      <td>Pakistan</td>\n",
              "      <td>4</td>\n",
              "      <td>2</td>\n",
              "      <td>46</td>\n",
              "      <td>10.0</td>\n",
              "    </tr>\n",
              "    <tr>\n",
              "      <th>4</th>\n",
              "      <td>64857.0</td>\n",
              "      <td>1</td>\n",
              "      <td>Pakistan</td>\n",
              "      <td>5</td>\n",
              "      <td>6</td>\n",
              "      <td>45</td>\n",
              "      <td>10.0</td>\n",
              "    </tr>\n",
              "    <tr>\n",
              "      <th>...</th>\n",
              "      <td>...</td>\n",
              "      <td>...</td>\n",
              "      <td>...</td>\n",
              "      <td>...</td>\n",
              "      <td>...</td>\n",
              "      <td>...</td>\n",
              "      <td>...</td>\n",
              "    </tr>\n",
              "    <tr>\n",
              "      <th>184782</th>\n",
              "      <td>1262347.0</td>\n",
              "      <td>2</td>\n",
              "      <td>Bangladesh</td>\n",
              "      <td>39</td>\n",
              "      <td>1</td>\n",
              "      <td>11</td>\n",
              "      <td>2.0</td>\n",
              "    </tr>\n",
              "    <tr>\n",
              "      <th>184783</th>\n",
              "      <td>1262347.0</td>\n",
              "      <td>2</td>\n",
              "      <td>Bangladesh</td>\n",
              "      <td>40</td>\n",
              "      <td>9</td>\n",
              "      <td>10</td>\n",
              "      <td>2.0</td>\n",
              "    </tr>\n",
              "    <tr>\n",
              "      <th>184784</th>\n",
              "      <td>1262347.0</td>\n",
              "      <td>2</td>\n",
              "      <td>Bangladesh</td>\n",
              "      <td>41</td>\n",
              "      <td>1</td>\n",
              "      <td>9</td>\n",
              "      <td>2.0</td>\n",
              "    </tr>\n",
              "    <tr>\n",
              "      <th>184785</th>\n",
              "      <td>1262347.0</td>\n",
              "      <td>2</td>\n",
              "      <td>Bangladesh</td>\n",
              "      <td>42</td>\n",
              "      <td>9</td>\n",
              "      <td>8</td>\n",
              "      <td>1.0</td>\n",
              "    </tr>\n",
              "    <tr>\n",
              "      <th>184786</th>\n",
              "      <td>1262347.0</td>\n",
              "      <td>2</td>\n",
              "      <td>Bangladesh</td>\n",
              "      <td>43</td>\n",
              "      <td>8</td>\n",
              "      <td>7</td>\n",
              "      <td>0.0</td>\n",
              "    </tr>\n",
              "  </tbody>\n",
              "</table>\n",
              "<p>184787 rows × 7 columns</p>\n",
              "</div>\n",
              "      <button class=\"colab-df-convert\" onclick=\"convertToInteractive('df-3ac55194-318e-4f5d-9e38-65406b5f2663')\"\n",
              "              title=\"Convert this dataframe to an interactive table.\"\n",
              "              style=\"display:none;\">\n",
              "        \n",
              "  <svg xmlns=\"http://www.w3.org/2000/svg\" height=\"24px\"viewBox=\"0 0 24 24\"\n",
              "       width=\"24px\">\n",
              "    <path d=\"M0 0h24v24H0V0z\" fill=\"none\"/>\n",
              "    <path d=\"M18.56 5.44l.94 2.06.94-2.06 2.06-.94-2.06-.94-.94-2.06-.94 2.06-2.06.94zm-11 1L8.5 8.5l.94-2.06 2.06-.94-2.06-.94L8.5 2.5l-.94 2.06-2.06.94zm10 10l.94 2.06.94-2.06 2.06-.94-2.06-.94-.94-2.06-.94 2.06-2.06.94z\"/><path d=\"M17.41 7.96l-1.37-1.37c-.4-.4-.92-.59-1.43-.59-.52 0-1.04.2-1.43.59L10.3 9.45l-7.72 7.72c-.78.78-.78 2.05 0 2.83L4 21.41c.39.39.9.59 1.41.59.51 0 1.02-.2 1.41-.59l7.78-7.78 2.81-2.81c.8-.78.8-2.07 0-2.86zM5.41 20L4 18.59l7.72-7.72 1.47 1.35L5.41 20z\"/>\n",
              "  </svg>\n",
              "      </button>\n",
              "      \n",
              "  <style>\n",
              "    .colab-df-container {\n",
              "      display:flex;\n",
              "      flex-wrap:wrap;\n",
              "      gap: 12px;\n",
              "    }\n",
              "\n",
              "    .colab-df-convert {\n",
              "      background-color: #E8F0FE;\n",
              "      border: none;\n",
              "      border-radius: 50%;\n",
              "      cursor: pointer;\n",
              "      display: none;\n",
              "      fill: #1967D2;\n",
              "      height: 32px;\n",
              "      padding: 0 0 0 0;\n",
              "      width: 32px;\n",
              "    }\n",
              "\n",
              "    .colab-df-convert:hover {\n",
              "      background-color: #E2EBFA;\n",
              "      box-shadow: 0px 1px 2px rgba(60, 64, 67, 0.3), 0px 1px 3px 1px rgba(60, 64, 67, 0.15);\n",
              "      fill: #174EA6;\n",
              "    }\n",
              "\n",
              "    [theme=dark] .colab-df-convert {\n",
              "      background-color: #3B4455;\n",
              "      fill: #D2E3FC;\n",
              "    }\n",
              "\n",
              "    [theme=dark] .colab-df-convert:hover {\n",
              "      background-color: #434B5C;\n",
              "      box-shadow: 0px 1px 3px 1px rgba(0, 0, 0, 0.15);\n",
              "      filter: drop-shadow(0px 1px 2px rgba(0, 0, 0, 0.3));\n",
              "      fill: #FFFFFF;\n",
              "    }\n",
              "  </style>\n",
              "\n",
              "      <script>\n",
              "        const buttonEl =\n",
              "          document.querySelector('#df-3ac55194-318e-4f5d-9e38-65406b5f2663 button.colab-df-convert');\n",
              "        buttonEl.style.display =\n",
              "          google.colab.kernel.accessAllowed ? 'block' : 'none';\n",
              "\n",
              "        async function convertToInteractive(key) {\n",
              "          const element = document.querySelector('#df-3ac55194-318e-4f5d-9e38-65406b5f2663');\n",
              "          const dataTable =\n",
              "            await google.colab.kernel.invokeFunction('convertToInteractive',\n",
              "                                                     [key], {});\n",
              "          if (!dataTable) return;\n",
              "\n",
              "          const docLinkHtml = 'Like what you see? Visit the ' +\n",
              "            '<a target=\"_blank\" href=https://colab.research.google.com/notebooks/data_table.ipynb>data table notebook</a>'\n",
              "            + ' to learn more about interactive tables.';\n",
              "          element.innerHTML = '';\n",
              "          dataTable['output_type'] = 'display_data';\n",
              "          await google.colab.output.renderOutput(dataTable, element);\n",
              "          const docLink = document.createElement('div');\n",
              "          docLink.innerHTML = docLinkHtml;\n",
              "          element.appendChild(docLink);\n",
              "        }\n",
              "      </script>\n",
              "    </div>\n",
              "  </div>\n",
              "  "
            ]
          },
          "metadata": {},
          "execution_count": 116
        }
      ]
    },
    {
      "cell_type": "markdown",
      "source": [
        "Removing negative remaining wickets that were a result of faulty data"
      ],
      "metadata": {
        "id": "lMzD7F_YK57T"
      }
    },
    {
      "cell_type": "code",
      "source": [
        "df_over = df_over[df_over['remaining_wickets'] != -1.0]\n",
        "df_over = df_over[df_over['remaining_wickets'] != -2.0]\n",
        "df_over = df_over[df_over['remaining_wickets'] != -3.0]\n",
        "df_over = df_over[df_over['remaining_wickets'] != -4.0]"
      ],
      "metadata": {
        "id": "0EUG3R6QK4Wf"
      },
      "execution_count": 117,
      "outputs": []
    },
    {
      "cell_type": "markdown",
      "source": [
        "Visualising the data"
      ],
      "metadata": {
        "id": "DuDjh9tpDSsz"
      }
    },
    {
      "cell_type": "code",
      "source": [
        "#histogram of total runs in every over\n",
        "import matplotlib.pyplot as plt\n",
        "import seaborn as sns\n",
        "\n",
        "# Plot histogram for runs.total\n",
        "plt.figure(figsize=(10,6))\n",
        "sns.histplot(df_over['runs.total'], bins=30, kde=True)\n",
        "plt.title('Histogram of Runs per Over')\n",
        "plt.xlabel('Runs per Over')\n",
        "plt.ylabel('Frequency')\n",
        "plt.show()\n"
      ],
      "metadata": {
        "colab": {
          "base_uri": "https://localhost:8080/",
          "height": 564
        },
        "id": "Xve8lDjtDVCe",
        "outputId": "208280f2-acf0-4381-d77e-18c271d28d92"
      },
      "execution_count": 50,
      "outputs": [
        {
          "output_type": "display_data",
          "data": {
            "text/plain": [
              "<Figure size 1000x600 with 1 Axes>"
            ],
            "image/png": "[encoded data removed]"
          },
          "metadata": {}
        }
      ]
    },
    {
      "cell_type": "markdown",
      "source": [
        "This is not a normal distribution,the data is skewed towards the left and is multimodal."
      ],
      "metadata": {
        "id": "oQBYD9sjH7Ob"
      }
    },
    {
      "cell_type": "code",
      "source": [
        "#correlation plot\n",
        "\n",
        "import seaborn as sns\n",
        "import matplotlib.pyplot as plt\n",
        "\n",
        "# Compute the correlation matrix\n",
        "corr = df_over[['runs.total', 'innings', 'remaining_overs', 'remaining_wickets']].corr()\n",
        "\n",
        "# Create a heatmap\n",
        "plt.figure(figsize=(10,8))\n",
        "sns.heatmap(corr, annot=True, fmt=\".2f\", cmap='coolwarm',\n",
        "            xticklabels=corr.columns.values,\n",
        "            yticklabels=corr.columns.values)\n",
        "\n",
        "plt.title('Correlation heatmap of features')\n",
        "plt.show()\n",
        "\n"
      ],
      "metadata": {
        "colab": {
          "base_uri": "https://localhost:8080/",
          "height": 699
        },
        "id": "w0FgsgBKDVFL",
        "outputId": "e4ce2f60-a779-4fe1-c8ef-746e59b6b553"
      },
      "execution_count": 51,
      "outputs": [
        {
          "output_type": "display_data",
          "data": {
            "text/plain": [
              "<Figure size 1000x800 with 2 Axes>"
            ],
            "image/png": "[encoded data removed]"
          },
          "metadata": {}
        }
      ]
    },
    {
      "cell_type": "markdown",
      "source": [
        "No clear indication of any particular variable (innings, remaining_overs, remaining_wickets) being particulary correlated with total runs. The remaining wickets and remainings overs columns seem to have significant correlation, but I would not remove any one of them for now."
      ],
      "metadata": {
        "id": "hWVP8eLLL9kr"
      }
    },
    {
      "cell_type": "code",
      "source": [
        "# Scatterplot of runs.total vs remaining_overs\n",
        "plt.figure(figsize=(10,6))\n",
        "sns.scatterplot(x='remaining_overs', y='runs.total', data=df_over)\n",
        "plt.title('Runs per Over vs Remaining Overs')\n",
        "plt.xlabel('Remaining Overs')\n",
        "plt.ylabel('Runs per Over')\n",
        "plt.show()\n",
        "\n",
        "# Scatterplot of runs.total vs remaining_wickets\n",
        "plt.figure(figsize=(10,6))\n",
        "sns.scatterplot(x='remaining_wickets', y='runs.total', data=df_over)\n",
        "plt.title('Runs per Over vs Remaining Wickets')\n",
        "plt.xlabel('Remaining Wickets')\n",
        "plt.ylabel('Runs per Over')\n",
        "plt.show()"
      ],
      "metadata": {
        "colab": {
          "base_uri": "https://localhost:8080/",
          "height": 1000
        },
        "id": "BcANQIR7DVK9",
        "outputId": "f6986a26-3af5-4bb8-bf59-d660b9618b4f"
      },
      "execution_count": 52,
      "outputs": [
        {
          "output_type": "display_data",
          "data": {
            "text/plain": [
              "<Figure size 1000x600 with 1 Axes>"
            ],
            "image/png": "[encoded data removed]"
          },
          "metadata": {}
        },
        {
          "output_type": "display_data",
          "data": {
            "text/plain": [
              "<Figure size 1000x600 with 1 Axes>"
            ],
            "image/png": "[encoded data removed]"
          },
          "metadata": {}
        }
      ]
    },
    {
      "cell_type": "markdown",
      "source": [
        "None of the features seem to have a non-linear relationship with the target variable"
      ],
      "metadata": {
        "id": "XI16vcAVOAQw"
      }
    },
    {
      "cell_type": "code",
      "source": [
        "# Boxplot of runs.total by innings\n",
        "plt.figure(figsize=(10,6))\n",
        "sns.boxplot(x='innings', y='runs.total', data=df_over)\n",
        "plt.title('Boxplot of Runs per Over by innings')\n",
        "plt.xlabel('Innings')\n",
        "plt.ylabel('Runs per Over')\n",
        "plt.xticks(rotation=90)\n",
        "plt.show()\n"
      ],
      "metadata": {
        "colab": {
          "base_uri": "https://localhost:8080/",
          "height": 559
        },
        "id": "Xg-qyO57OSkc",
        "outputId": "eea3aa11-70a5-4610-a353-589fbbed95ef"
      },
      "execution_count": 53,
      "outputs": [
        {
          "output_type": "display_data",
          "data": {
            "text/plain": [
              "<Figure size 1000x600 with 1 Axes>"
            ],
            "image/png": "[encoded data removed]"
          },
          "metadata": {}
        }
      ]
    },
    {
      "cell_type": "code",
      "source": [
        "from scipy.stats import mannwhitneyu\n",
        "\n",
        "# Select the 'runs.total' values for the two teams you want to compare\n",
        "innings_1_runs = df_over[df_over['innings'] == 1]['runs.total']\n",
        "innings_2_runs = df_over[df_over['innings'] == 2]['runs.total']\n",
        "\n",
        "# Perform the Mann-Whitney U test\n",
        "stat, p = mannwhitneyu(innings_1_runs, innings_2_runs)\n",
        "\n",
        "print(f'Mann-Whitney U test p-value: {p}')\n"
      ],
      "metadata": {
        "colab": {
          "base_uri": "https://localhost:8080/"
        },
        "id": "LN6aepKnOsSL",
        "outputId": "57b9f647-445a-41bc-b402-9f25bde08b12"
      },
      "execution_count": 54,
      "outputs": [
        {
          "output_type": "stream",
          "name": "stdout",
          "text": [
            "Mann-Whitney U test p-value: 3.7590243555201632e-06\n"
          ]
        }
      ]
    },
    {
      "cell_type": "markdown",
      "source": [
        "Since the p-value is significantly smaller than 0.05 (a commonly used significance level), we can reject the null hypothesis and conclude that there is a statistically significant difference in the distributions of 'runs.total' for the two innings. This means that innings could be an important predictor for the model\n",
        "\n"
      ],
      "metadata": {
        "id": "62YSEgZePaA3"
      }
    },
    {
      "cell_type": "markdown",
      "source": [
        "Creating non-linear models with features - innings, remaining wickets and remaining overs to predict the target variable of total runs per over"
      ],
      "metadata": {
        "id": "wpUwvJFfQ8a9"
      }
    },
    {
      "cell_type": "markdown",
      "source": [
        "Polynomial regression"
      ],
      "metadata": {
        "id": "N2ZP4oNvR_-M"
      }
    },
    {
      "cell_type": "code",
      "source": [
        "from sklearn.model_selection import train_test_split"
      ],
      "metadata": {
        "id": "mK0IoMmvSlBQ"
      },
      "execution_count": 118,
      "outputs": []
    },
    {
      "cell_type": "code",
      "source": [
        "# Defining the feature set X and the target y\n",
        "X = df_over[['innings', 'remaining_overs', 'remaining_wickets']]\n",
        "y = df_over['runs.total']\n",
        "\n",
        "# Split data into train and test sets\n",
        "X_train, X_test, y_train, y_test = train_test_split(X, y, test_size=0.2, random_state=42)"
      ],
      "metadata": {
        "id": "l4fiiz33SX31"
      },
      "execution_count": 119,
      "outputs": []
    },
    {
      "cell_type": "code",
      "source": [
        "X"
      ],
      "metadata": {
        "colab": {
          "base_uri": "https://localhost:8080/",
          "height": 424
        },
        "id": "52I2QA6FbsLs",
        "outputId": "fec170aa-c281-4370-8ec6-d25e6a1d43c4"
      },
      "execution_count": 57,
      "outputs": [
        {
          "output_type": "execute_result",
          "data": {
            "text/plain": [
              "        innings  remaining_overs  remaining_wickets\n",
              "0             1               49               10.0\n",
              "1             1               48               10.0\n",
              "2             1               47               10.0\n",
              "3             1               46               10.0\n",
              "4             1               45               10.0\n",
              "...         ...              ...                ...\n",
              "184782        2               11                2.0\n",
              "184783        2               10                2.0\n",
              "184784        2                9                2.0\n",
              "184785        2                8                1.0\n",
              "184786        2                7                0.0\n",
              "\n",
              "[184284 rows x 3 columns]"
            ],
            "text/html": [
              "\n",
              "  <div id=\"df-a6b5c703-05e3-4000-9f0c-ce0feb50e958\">\n",
              "    <div class=\"colab-df-container\">\n",
              "      <div>\n",
              "<style scoped>\n",
              "    .dataframe tbody tr th:only-of-type {\n",
              "        vertical-align: middle;\n",
              "    }\n",
              "\n",
              "    .dataframe tbody tr th {\n",
              "        vertical-align: top;\n",
              "    }\n",
              "\n",
              "    .dataframe thead th {\n",
              "        text-align: right;\n",
              "    }\n",
              "</style>\n",
              "<table border=\"1\" class=\"dataframe\">\n",
              "  <thead>\n",
              "    <tr style=\"text-align: right;\">\n",
              "      <th></th>\n",
              "      <th>innings</th>\n",
              "      <th>remaining_overs</th>\n",
              "      <th>remaining_wickets</th>\n",
              "    </tr>\n",
              "  </thead>\n",
              "  <tbody>\n",
              "    <tr>\n",
              "      <th>0</th>\n",
              "      <td>1</td>\n",
              "      <td>49</td>\n",
              "      <td>10.0</td>\n",
              "    </tr>\n",
              "    <tr>\n",
              "      <th>1</th>\n",
              "      <td>1</td>\n",
              "      <td>48</td>\n",
              "      <td>10.0</td>\n",
              "    </tr>\n",
              "    <tr>\n",
              "      <th>2</th>\n",
              "      <td>1</td>\n",
              "      <td>47</td>\n",
              "      <td>10.0</td>\n",
              "    </tr>\n",
              "    <tr>\n",
              "      <th>3</th>\n",
              "      <td>1</td>\n",
              "      <td>46</td>\n",
              "      <td>10.0</td>\n",
              "    </tr>\n",
              "    <tr>\n",
              "      <th>4</th>\n",
              "      <td>1</td>\n",
              "      <td>45</td>\n",
              "      <td>10.0</td>\n",
              "    </tr>\n",
              "    <tr>\n",
              "      <th>...</th>\n",
              "      <td>...</td>\n",
              "      <td>...</td>\n",
              "      <td>...</td>\n",
              "    </tr>\n",
              "    <tr>\n",
              "      <th>184782</th>\n",
              "      <td>2</td>\n",
              "      <td>11</td>\n",
              "      <td>2.0</td>\n",
              "    </tr>\n",
              "    <tr>\n",
              "      <th>184783</th>\n",
              "      <td>2</td>\n",
              "      <td>10</td>\n",
              "      <td>2.0</td>\n",
              "    </tr>\n",
              "    <tr>\n",
              "      <th>184784</th>\n",
              "      <td>2</td>\n",
              "      <td>9</td>\n",
              "      <td>2.0</td>\n",
              "    </tr>\n",
              "    <tr>\n",
              "      <th>184785</th>\n",
              "      <td>2</td>\n",
              "      <td>8</td>\n",
              "      <td>1.0</td>\n",
              "    </tr>\n",
              "    <tr>\n",
              "      <th>184786</th>\n",
              "      <td>2</td>\n",
              "      <td>7</td>\n",
              "      <td>0.0</td>\n",
              "    </tr>\n",
              "  </tbody>\n",
              "</table>\n",
              "<p>184284 rows × 3 columns</p>\n",
              "</div>\n",
              "      <button class=\"colab-df-convert\" onclick=\"convertToInteractive('df-a6b5c703-05e3-4000-9f0c-ce0feb50e958')\"\n",
              "              title=\"Convert this dataframe to an interactive table.\"\n",
              "              style=\"display:none;\">\n",
              "        \n",
              "  <svg xmlns=\"http://www.w3.org/2000/svg\" height=\"24px\"viewBox=\"0 0 24 24\"\n",
              "       width=\"24px\">\n",
              "    <path d=\"M0 0h24v24H0V0z\" fill=\"none\"/>\n",
              "    <path d=\"M18.56 5.44l.94 2.06.94-2.06 2.06-.94-2.06-.94-.94-2.06-.94 2.06-2.06.94zm-11 1L8.5 8.5l.94-2.06 2.06-.94-2.06-.94L8.5 2.5l-.94 2.06-2.06.94zm10 10l.94 2.06.94-2.06 2.06-.94-2.06-.94-.94-2.06-.94 2.06-2.06.94z\"/><path d=\"M17.41 7.96l-1.37-1.37c-.4-.4-.92-.59-1.43-.59-.52 0-1.04.2-1.43.59L10.3 9.45l-7.72 7.72c-.78.78-.78 2.05 0 2.83L4 21.41c.39.39.9.59 1.41.59.51 0 1.02-.2 1.41-.59l7.78-7.78 2.81-2.81c.8-.78.8-2.07 0-2.86zM5.41 20L4 18.59l7.72-7.72 1.47 1.35L5.41 20z\"/>\n",
              "  </svg>\n",
              "      </button>\n",
              "      \n",
              "  <style>\n",
              "    .colab-df-container {\n",
              "      display:flex;\n",
              "      flex-wrap:wrap;\n",
              "      gap: 12px;\n",
              "    }\n",
              "\n",
              "    .colab-df-convert {\n",
              "      background-color: #E8F0FE;\n",
              "      border: none;\n",
              "      border-radius: 50%;\n",
              "      cursor: pointer;\n",
              "      display: none;\n",
              "      fill: #1967D2;\n",
              "      height: 32px;\n",
              "      padding: 0 0 0 0;\n",
              "      width: 32px;\n",
              "    }\n",
              "\n",
              "    .colab-df-convert:hover {\n",
              "      background-color: #E2EBFA;\n",
              "      box-shadow: 0px 1px 2px rgba(60, 64, 67, 0.3), 0px 1px 3px 1px rgba(60, 64, 67, 0.15);\n",
              "      fill: #174EA6;\n",
              "    }\n",
              "\n",
              "    [theme=dark] .colab-df-convert {\n",
              "      background-color: #3B4455;\n",
              "      fill: #D2E3FC;\n",
              "    }\n",
              "\n",
              "    [theme=dark] .colab-df-convert:hover {\n",
              "      background-color: #434B5C;\n",
              "      box-shadow: 0px 1px 3px 1px rgba(0, 0, 0, 0.15);\n",
              "      filter: drop-shadow(0px 1px 2px rgba(0, 0, 0, 0.3));\n",
              "      fill: #FFFFFF;\n",
              "    }\n",
              "  </style>\n",
              "\n",
              "      <script>\n",
              "        const buttonEl =\n",
              "          document.querySelector('#df-a6b5c703-05e3-4000-9f0c-ce0feb50e958 button.colab-df-convert');\n",
              "        buttonEl.style.display =\n",
              "          google.colab.kernel.accessAllowed ? 'block' : 'none';\n",
              "\n",
              "        async function convertToInteractive(key) {\n",
              "          const element = document.querySelector('#df-a6b5c703-05e3-4000-9f0c-ce0feb50e958');\n",
              "          const dataTable =\n",
              "            await google.colab.kernel.invokeFunction('convertToInteractive',\n",
              "                                                     [key], {});\n",
              "          if (!dataTable) return;\n",
              "\n",
              "          const docLinkHtml = 'Like what you see? Visit the ' +\n",
              "            '<a target=\"_blank\" href=https://colab.research.google.com/notebooks/data_table.ipynb>data table notebook</a>'\n",
              "            + ' to learn more about interactive tables.';\n",
              "          element.innerHTML = '';\n",
              "          dataTable['output_type'] = 'display_data';\n",
              "          await google.colab.output.renderOutput(dataTable, element);\n",
              "          const docLink = document.createElement('div');\n",
              "          docLink.innerHTML = docLinkHtml;\n",
              "          element.appendChild(docLink);\n",
              "        }\n",
              "      </script>\n",
              "    </div>\n",
              "  </div>\n",
              "  "
            ]
          },
          "metadata": {},
          "execution_count": 57
        }
      ]
    },
    {
      "cell_type": "code",
      "source": [
        "from sklearn.preprocessing import PolynomialFeatures\n",
        "from sklearn.linear_model import LinearRegression\n",
        "from sklearn.metrics import mean_squared_error, mean_absolute_error, r2_score\n",
        "\n",
        "\n",
        "# Create a PolynomialFeatures object with degree 2\n",
        "poly_features = PolynomialFeatures(degree=2)\n",
        "\n",
        "# Transform the features to higher degree features.\n",
        "X_train_poly = poly_features.fit_transform(X_train)\n",
        "X_test_poly = poly_features.fit_transform(X_test)\n",
        "\n",
        "# Fit the transformed features to Linear Regression\n",
        "poly_model = LinearRegression()\n",
        "poly_model.fit(X_train_poly, y_train)\n",
        "\n",
        "# Predicting on the training data-set\n",
        "y_train_predicted = poly_model.predict(X_train_poly)\n",
        "\n",
        "# Predicting on the test data-set\n",
        "y_test_predict = poly_model.predict(X_test_poly)\n",
        "\n",
        "# Calculate the RMSE\n",
        "rmse_train = np.sqrt(mean_squared_error(y_train, y_train_predicted))\n",
        "rmse_test = np.sqrt(mean_squared_error(y_test, y_test_predict))\n",
        "print(f'Root Mean Squared Error (Train set, Polynomial Regression): {rmse_train}')\n",
        "print(f'Root Mean Squared Error (Test set, Polynomial Regression): {rmse_test}')\n",
        "\n",
        "# Calculate the MAE\n",
        "mae_train = mean_absolute_error(y_train, y_train_predicted)\n",
        "mae_test = mean_absolute_error(y_test, y_test_predict)\n",
        "print(f'Mean Absolute Error (Train set, Polynomial Regression): {mae_train}')\n",
        "print(f'Mean Absolute Error (Test set, Polynomial Regression): {mae_test}')\n",
        "\n",
        "# Calculate the R^2 score\n",
        "r2_train = r2_score(y_train, y_train_predicted)\n",
        "r2_test = r2_score(y_test, y_test_predict)\n",
        "print(f'R^2 Score (Train set, Polynomial Regression): {r2_train}')\n",
        "print(f'R^2 Score (Test set, Polynomial Regression): {r2_test}')"
      ],
      "metadata": {
        "colab": {
          "base_uri": "https://localhost:8080/"
        },
        "id": "w9VKR671SB5-",
        "outputId": "23550ed7-c68f-4d8c-d97b-1ceda5975f68"
      },
      "execution_count": 58,
      "outputs": [
        {
          "output_type": "stream",
          "name": "stdout",
          "text": [
            "Root Mean Squared Error (Train set, Polynomial Regression): 3.380675890505586\n",
            "Root Mean Squared Error (Test set, Polynomial Regression): 3.401280555293729\n",
            "Mean Absolute Error (Train set, Polynomial Regression): 2.6372536273163867\n",
            "Mean Absolute Error (Test set, Polynomial Regression): 2.648800416684561\n",
            "R^2 Score (Train set, Polynomial Regression): 0.10247195326375813\n",
            "R^2 Score (Test set, Polynomial Regression): 0.1003505866546881\n"
          ]
        }
      ]
    },
    {
      "cell_type": "markdown",
      "source": [
        "Random forest regressor"
      ],
      "metadata": {
        "id": "N8bOUYhyNE_8"
      }
    },
    {
      "cell_type": "code",
      "source": [
        "from sklearn.ensemble import RandomForestRegressor\n",
        "forest = RandomForestRegressor(n_estimators=100, random_state=42)\n",
        "forest.fit(X_train, y_train)"
      ],
      "metadata": {
        "colab": {
          "base_uri": "https://localhost:8080/",
          "height": 75
        },
        "id": "cpC7TCECemT-",
        "outputId": "ecb8ac20-7d0d-44e8-b01a-9a2549378fd1"
      },
      "execution_count": 59,
      "outputs": [
        {
          "output_type": "execute_result",
          "data": {
            "text/plain": [
              "RandomForestRegressor(random_state=42)"
            ],
            "text/html": [
              "<style>#sk-container-id-1 {color: black;background-color: white;}#sk-container-id-1 pre{padding: 0;}#sk-container-id-1 div.sk-toggleable {background-color: white;}#sk-container-id-1 label.sk-toggleable__label {cursor: pointer;display: block;width: 100%;margin-bottom: 0;padding: 0.3em;box-sizing: border-box;text-align: center;}#sk-container-id-1 label.sk-toggleable__label-arrow:before {content: \"▸\";float: left;margin-right: 0.25em;color: #696969;}#sk-container-id-1 label.sk-toggleable__label-arrow:hover:before {color: black;}#sk-container-id-1 div.sk-estimator:hover label.sk-toggleable__label-arrow:before {color: black;}#sk-container-id-1 div.sk-toggleable__content {max-height: 0;max-width: 0;overflow: hidden;text-align: left;background-color: #f0f8ff;}#sk-container-id-1 div.sk-toggleable__content pre {margin: 0.2em;color: black;border-radius: 0.25em;background-color: #f0f8ff;}#sk-container-id-1 input.sk-toggleable__control:checked~div.sk-toggleable__content {max-height: 200px;max-width: 100%;overflow: auto;}#sk-container-id-1 input.sk-toggleable__control:checked~label.sk-toggleable__label-arrow:before {content: \"▾\";}#sk-container-id-1 div.sk-estimator input.sk-toggleable__control:checked~label.sk-toggleable__label {background-color: #d4ebff;}#sk-container-id-1 div.sk-label input.sk-toggleable__control:checked~label.sk-toggleable__label {background-color: #d4ebff;}#sk-container-id-1 input.sk-hidden--visually {border: 0;clip: rect(1px 1px 1px 1px);clip: rect(1px, 1px, 1px, 1px);height: 1px;margin: -1px;overflow: hidden;padding: 0;position: absolute;width: 1px;}#sk-container-id-1 div.sk-estimator {font-family: monospace;background-color: #f0f8ff;border: 1px dotted black;border-radius: 0.25em;box-sizing: border-box;margin-bottom: 0.5em;}#sk-container-id-1 div.sk-estimator:hover {background-color: #d4ebff;}#sk-container-id-1 div.sk-parallel-item::after {content: \"\";width: 100%;border-bottom: 1px solid gray;flex-grow: 1;}#sk-container-id-1 div.sk-label:hover label.sk-toggleable__label {background-color: #d4ebff;}#sk-container-id-1 div.sk-serial::before {content: \"\";position: absolute;border-left: 1px solid gray;box-sizing: border-box;top: 0;bottom: 0;left: 50%;z-index: 0;}#sk-container-id-1 div.sk-serial {display: flex;flex-direction: column;align-items: center;background-color: white;padding-right: 0.2em;padding-left: 0.2em;position: relative;}#sk-container-id-1 div.sk-item {position: relative;z-index: 1;}#sk-container-id-1 div.sk-parallel {display: flex;align-items: stretch;justify-content: center;background-color: white;position: relative;}#sk-container-id-1 div.sk-item::before, #sk-container-id-1 div.sk-parallel-item::before {content: \"\";position: absolute;border-left: 1px solid gray;box-sizing: border-box;top: 0;bottom: 0;left: 50%;z-index: -1;}#sk-container-id-1 div.sk-parallel-item {display: flex;flex-direction: column;z-index: 1;position: relative;background-color: white;}#sk-container-id-1 div.sk-parallel-item:first-child::after {align-self: flex-end;width: 50%;}#sk-container-id-1 div.sk-parallel-item:last-child::after {align-self: flex-start;width: 50%;}#sk-container-id-1 div.sk-parallel-item:only-child::after {width: 0;}#sk-container-id-1 div.sk-dashed-wrapped {border: 1px dashed gray;margin: 0 0.4em 0.5em 0.4em;box-sizing: border-box;padding-bottom: 0.4em;background-color: white;}#sk-container-id-1 div.sk-label label {font-family: monospace;font-weight: bold;display: inline-block;line-height: 1.2em;}#sk-container-id-1 div.sk-label-container {text-align: center;}#sk-container-id-1 div.sk-container {/* jupyter's `normalize.less` sets `[hidden] { display: none; }` but bootstrap.min.css set `[hidden] { display: none !important; }` so we also need the `!important` here to be able to override the default hidden behavior on the sphinx rendered scikit-learn.org. See: https://github.com/scikit-learn/scikit-learn/issues/21755 */display: inline-block !important;position: relative;}#sk-container-id-1 div.sk-text-repr-fallback {display: none;}</style><div id=\"sk-container-id-1\" class=\"sk-top-container\"><div class=\"sk-text-repr-fallback\"><pre>RandomForestRegressor(random_state=42)</pre><b>In a Jupyter environment, please rerun this cell to show the HTML representation or trust the notebook. <br />On GitHub, the HTML representation is unable to render, please try loading this page with nbviewer.org.</b></div><div class=\"sk-container\" hidden><div class=\"sk-item\"><div class=\"sk-estimator sk-toggleable\"><input class=\"sk-toggleable__control sk-hidden--visually\" id=\"sk-estimator-id-1\" type=\"checkbox\" checked><label for=\"sk-estimator-id-1\" class=\"sk-toggleable__label sk-toggleable__label-arrow\">RandomForestRegressor</label><div class=\"sk-toggleable__content\"><pre>RandomForestRegressor(random_state=42)</pre></div></div></div></div></div>"
            ]
          },
          "metadata": {},
          "execution_count": 59
        }
      ]
    },
    {
      "cell_type": "code",
      "source": [
        "# Predicting on the test set\n",
        "y_pred_forest = forest.predict(X_test)\n",
        "\n",
        "# Calculating the RMSE\n",
        "rmse_forest = np.sqrt(mean_squared_error(y_test, y_pred_forest))\n",
        "print(f'Root Mean Squared Error (Random Forest): {rmse_forest}')\n",
        "\n",
        "# Calculating the MAE\n",
        "mae_forest = mean_absolute_error(y_test, y_pred_forest)\n",
        "print(f'Mean Absolute Error (Random Forest): {mae_forest}')\n",
        "\n",
        "# Calculating the R^2 score\n",
        "r2_forest = r2_score(y_test, y_pred_forest)\n",
        "print(f'R^2 Score (Random Forest): {r2_forest}')"
      ],
      "metadata": {
        "colab": {
          "base_uri": "https://localhost:8080/"
        },
        "id": "fh8b9343emXA",
        "outputId": "00753131-614c-461b-d835-fd478a00bd84"
      },
      "execution_count": 60,
      "outputs": [
        {
          "output_type": "stream",
          "name": "stdout",
          "text": [
            "Root Mean Squared Error (Random Forest): 3.356541691420904\n",
            "Mean Absolute Error (Random Forest): 2.6116421461636623\n",
            "R^2 Score (Random Forest): 0.12386207401423677\n"
          ]
        }
      ]
    },
    {
      "cell_type": "code",
      "source": [
        "from sklearn.model_selection import GridSearchCV\n",
        "from sklearn.ensemble import RandomForestRegressor\n",
        "\n",
        "# Define the parameters for exploration\n",
        "param_grid = {\n",
        "    'n_estimators': [100, 200, 300],\n",
        "    'max_depth': [None, 10, 20, 30],\n",
        "    'min_samples_split': [2, 5, 10]\n",
        "}\n",
        "\n",
        "# Create the grid search object\n",
        "grid_search = GridSearchCV(\n",
        "    estimator=RandomForestRegressor(random_state=42),\n",
        "    param_grid=param_grid,\n",
        "    cv=3,\n",
        "    verbose=2,\n",
        "    n_jobs=-1\n",
        ")\n",
        "\n",
        "# Fit the grid search (this will take some time)\n",
        "grid_search.fit(X_train, y_train)\n",
        "\n",
        "# View the best parameters from the fit\n",
        "print(grid_search.best_params_)\n",
        "\n",
        "# We can now use the best estimator to make predictions\n",
        "best_rf = grid_search.best_estimator_\n",
        "\n",
        "y_pred = best_rf.predict(X_test)\n"
      ],
      "metadata": {
        "colab": {
          "base_uri": "https://localhost:8080/"
        },
        "id": "MA1dtfOjgsFf",
        "outputId": "37c2d1ab-eddf-49ff-f093-b0e9344ae2e9"
      },
      "execution_count": 61,
      "outputs": [
        {
          "output_type": "stream",
          "name": "stdout",
          "text": [
            "Fitting 3 folds for each of 36 candidates, totalling 108 fits\n",
            "{'max_depth': 10, 'min_samples_split': 10, 'n_estimators': 300}\n"
          ]
        }
      ]
    },
    {
      "cell_type": "code",
      "source": [
        "rmse_forest = np.sqrt(mean_squared_error(y_test, y_pred))\n",
        "print(f'Root Mean Squared Error (Random Forest): {rmse_forest}')\n",
        "\n",
        "# Calculating the MAE\n",
        "mae_forest = mean_absolute_error(y_test, y_pred)\n",
        "print(f'Mean Absolute Error (Random Forest): {mae_forest}')\n",
        "\n",
        "# Calculating the R^2 score\n",
        "r2_forest = r2_score(y_test, y_pred)\n",
        "print(f'R^2 Score (Random Forest): {r2_forest}')"
      ],
      "metadata": {
        "colab": {
          "base_uri": "https://localhost:8080/"
        },
        "id": "3Be-KlToT-F_",
        "outputId": "a62348dc-49e4-4409-a464-d37c41f19822"
      },
      "execution_count": 62,
      "outputs": [
        {
          "output_type": "stream",
          "name": "stdout",
          "text": [
            "Root Mean Squared Error (Random Forest): 3.351547780533525\n",
            "Mean Absolute Error (Random Forest): 2.606125935866615\n",
            "R^2 Score (Random Forest): 0.12646719575655307\n"
          ]
        }
      ]
    },
    {
      "cell_type": "code",
      "source": [
        "!pip install xgboost lightgbm catboost"
      ],
      "metadata": {
        "colab": {
          "base_uri": "https://localhost:8080/"
        },
        "id": "A0yKNxtwT-Iv",
        "outputId": "30338431-dcde-40df-8557-91b5fdd0044a"
      },
      "execution_count": 63,
      "outputs": [
        {
          "output_type": "stream",
          "name": "stdout",
          "text": [
            "Requirement already satisfied: xgboost in /usr/local/lib/python3.10/dist-packages (1.7.6)\n",
            "Requirement already satisfied: lightgbm in /usr/local/lib/python3.10/dist-packages (3.3.5)\n",
            "Requirement already satisfied: catboost in /usr/local/lib/python3.10/dist-packages (1.2)\n",
            "Requirement already satisfied: numpy in /usr/local/lib/python3.10/dist-packages (from xgboost) (1.22.4)\n",
            "Requirement already satisfied: scipy in /usr/local/lib/python3.10/dist-packages (from xgboost) (1.10.1)\n",
            "Requirement already satisfied: wheel in /usr/local/lib/python3.10/dist-packages (from lightgbm) (0.40.0)\n",
            "Requirement already satisfied: scikit-learn!=0.22.0 in /usr/local/lib/python3.10/dist-packages (from lightgbm) (1.2.2)\n",
            "Requirement already satisfied: graphviz in /usr/local/lib/python3.10/dist-packages (from catboost) (0.20.1)\n",
            "Requirement already satisfied: matplotlib in /usr/local/lib/python3.10/dist-packages (from catboost) (3.7.1)\n",
            "Requirement already satisfied: pandas>=0.24 in /usr/local/lib/python3.10/dist-packages (from catboost) (1.5.3)\n",
            "Requirement already satisfied: plotly in /usr/local/lib/python3.10/dist-packages (from catboost) (5.13.1)\n",
            "Requirement already satisfied: six in /usr/local/lib/python3.10/dist-packages (from catboost) (1.16.0)\n",
            "Requirement already satisfied: python-dateutil>=2.8.1 in /usr/local/lib/python3.10/dist-packages (from pandas>=0.24->catboost) (2.8.2)\n",
            "Requirement already satisfied: pytz>=2020.1 in /usr/local/lib/python3.10/dist-packages (from pandas>=0.24->catboost) (2022.7.1)\n",
            "Requirement already satisfied: joblib>=1.1.1 in /usr/local/lib/python3.10/dist-packages (from scikit-learn!=0.22.0->lightgbm) (1.2.0)\n",
            "Requirement already satisfied: threadpoolctl>=2.0.0 in /usr/local/lib/python3.10/dist-packages (from scikit-learn!=0.22.0->lightgbm) (3.1.0)\n",
            "Requirement already satisfied: contourpy>=1.0.1 in /usr/local/lib/python3.10/dist-packages (from matplotlib->catboost) (1.1.0)\n",
            "Requirement already satisfied: cycler>=0.10 in /usr/local/lib/python3.10/dist-packages (from matplotlib->catboost) (0.11.0)\n",
            "Requirement already satisfied: fonttools>=4.22.0 in /usr/local/lib/python3.10/dist-packages (from matplotlib->catboost) (4.40.0)\n",
            "Requirement already satisfied: kiwisolver>=1.0.1 in /usr/local/lib/python3.10/dist-packages (from matplotlib->catboost) (1.4.4)\n",
            "Requirement already satisfied: packaging>=20.0 in /usr/local/lib/python3.10/dist-packages (from matplotlib->catboost) (23.1)\n",
            "Requirement already satisfied: pillow>=6.2.0 in /usr/local/lib/python3.10/dist-packages (from matplotlib->catboost) (8.4.0)\n",
            "Requirement already satisfied: pyparsing>=2.3.1 in /usr/local/lib/python3.10/dist-packages (from matplotlib->catboost) (3.1.0)\n",
            "Requirement already satisfied: tenacity>=6.2.0 in /usr/local/lib/python3.10/dist-packages (from plotly->catboost) (8.2.2)\n"
          ]
        }
      ]
    },
    {
      "cell_type": "markdown",
      "source": [
        "XGBoost regression"
      ],
      "metadata": {
        "id": "nyjWpOEBV9a9"
      }
    },
    {
      "cell_type": "code",
      "source": [
        "import xgboost as xgb\n",
        "\n",
        "# Instantiate an XGBoost model\n",
        "xgb_model = xgb.XGBRegressor(objective='reg:squarederror', random_state=42)\n",
        "\n",
        "# Fit the model to the training data\n",
        "xgb_model.fit(X_train, y_train)\n",
        "\n",
        "# Use the model to predict on the test set\n",
        "y_pred_xgb = xgb_model.predict(X_test)"
      ],
      "metadata": {
        "id": "LCUA3ha0T-LN"
      },
      "execution_count": 120,
      "outputs": []
    },
    {
      "cell_type": "code",
      "source": [
        "rmse_xgb = np.sqrt(mean_squared_error(y_test, y_pred_xgb))\n",
        "print(f'Root Mean Squared Error (XGboost): {rmse_xgb}')\n",
        "\n",
        "# Calculate the MAE\n",
        "mae_xgb = mean_absolute_error(y_test, y_pred_xgb)\n",
        "print(f'Mean Absolute Error (XGboost): {mae_xgb}')\n",
        "\n",
        "# Calculate the R^2 score\n",
        "r2_xgb = r2_score(y_test, y_pred_xgb)\n",
        "print(f'R^2 Score (XGboost): {r2_xgb}')"
      ],
      "metadata": {
        "colab": {
          "base_uri": "https://localhost:8080/"
        },
        "id": "QL_KItiiT-OU",
        "outputId": "16139395-b229-42ba-f72d-421ebb899c79"
      },
      "execution_count": 121,
      "outputs": [
        {
          "output_type": "stream",
          "name": "stdout",
          "text": [
            "Root Mean Squared Error (XGboost): 3.353754560786025\n",
            "Mean Absolute Error (XGboost): 2.609393791194691\n",
            "R^2 Score (XGboost): 0.12531648587525968\n"
          ]
        }
      ]
    },
    {
      "cell_type": "markdown",
      "source": [
        "LightGBM"
      ],
      "metadata": {
        "id": "ffpjjvwvWLym"
      }
    },
    {
      "cell_type": "code",
      "source": [
        "import lightgbm as lgb\n",
        "\n",
        "# Instantiate a LightGBM model\n",
        "lgb_model = lgb.LGBMRegressor(random_state=42)\n",
        "\n",
        "# Fit the model to the training data\n",
        "lgb_model.fit(X_train, y_train)\n",
        "\n",
        "# Use the model to predict on the test set\n",
        "y_pred_lgb = lgb_model.predict(X_test)"
      ],
      "metadata": {
        "id": "cviJle00WRNW"
      },
      "execution_count": 122,
      "outputs": []
    },
    {
      "cell_type": "code",
      "source": [
        "rmse_lgb = np.sqrt(mean_squared_error(y_test, y_pred_lgb))\n",
        "print(f'Root Mean Squared Error (LGB): {rmse_lgb}')\n",
        "\n",
        "# Calculate the MAE\n",
        "mae_lgb = mean_absolute_error(y_test, y_pred_lgb)\n",
        "print(f'Mean Absolute Error (LGB): {mae_lgb}')\n",
        "\n",
        "# Calculate the R^2 score\n",
        "r2_lgb = r2_score(y_test, y_pred_lgb)\n",
        "print(f'R^2 Score (LGB): {r2_lgb}')"
      ],
      "metadata": {
        "colab": {
          "base_uri": "https://localhost:8080/"
        },
        "id": "mdMrJXD6WRP8",
        "outputId": "0f737f60-fd0f-45e4-d25f-e1220da03b37"
      },
      "execution_count": 123,
      "outputs": [
        {
          "output_type": "stream",
          "name": "stdout",
          "text": [
            "Root Mean Squared Error (LGB): 3.3479205425877248\n",
            "Mean Absolute Error (LGB): 2.6044625911823167\n",
            "R^2 Score (LGB): 0.12835694757818195\n"
          ]
        }
      ]
    },
    {
      "cell_type": "markdown",
      "source": [
        "Catboost"
      ],
      "metadata": {
        "id": "iR5-nlqXWo6q"
      }
    },
    {
      "cell_type": "code",
      "source": [
        "import catboost as cb\n",
        "\n",
        "# Instantiate a CatBoost model\n",
        "cb_model = cb.CatBoostRegressor(random_state=42, verbose=False)\n",
        "\n",
        "# Fit the model to the training data\n",
        "cb_model.fit(X_train, y_train)\n",
        "\n",
        "# Use the model to predict on the test set\n",
        "y_pred_cb = cb_model.predict(X_test)"
      ],
      "metadata": {
        "id": "iba-Yys2Wrge"
      },
      "execution_count": 68,
      "outputs": []
    },
    {
      "cell_type": "code",
      "source": [
        "rmse_cb = np.sqrt(mean_squared_error(y_test, y_pred_cb))\n",
        "print(f'Root Mean Squared Error (Catboost): {rmse_cb}')\n",
        "\n",
        "# Calculate the MAE\n",
        "mae_cb = mean_absolute_error(y_test, y_pred_cb)\n",
        "print(f'Mean Absolute Error (Catboost): {mae_cb}')\n",
        "\n",
        "# Calculate the R^2 score\n",
        "r2_cb = r2_score(y_test, y_pred_cb)\n",
        "print(f'R^2 Score (Catboost): {r2_cb}')"
      ],
      "metadata": {
        "colab": {
          "base_uri": "https://localhost:8080/"
        },
        "id": "Tg-lZN6RWrjA",
        "outputId": "1e327c6f-0450-4778-dc2b-9fbbfc3d9352"
      },
      "execution_count": 124,
      "outputs": [
        {
          "output_type": "stream",
          "name": "stdout",
          "text": [
            "Root Mean Squared Error (Catboost): 3.350135292474529\n",
            "Mean Absolute Error (Catboost): 2.6064619110217215\n",
            "R^2 Score (Catboost): 0.12720333006577111\n"
          ]
        }
      ]
    },
    {
      "cell_type": "markdown",
      "source": [
        "Decision Tree Regressor"
      ],
      "metadata": {
        "id": "U-RKA5-xXUOQ"
      }
    },
    {
      "cell_type": "code",
      "source": [
        "from sklearn.tree import DecisionTreeRegressor\n",
        "tree = DecisionTreeRegressor(max_depth=3)\n",
        "tree.fit(X_train, y_train)\n"
      ],
      "metadata": {
        "colab": {
          "base_uri": "https://localhost:8080/",
          "height": 75
        },
        "id": "ID2S0E9UXavr",
        "outputId": "55a68ba1-df30-486f-d9b6-60f72c59f8d3"
      },
      "execution_count": 70,
      "outputs": [
        {
          "output_type": "execute_result",
          "data": {
            "text/plain": [
              "DecisionTreeRegressor(max_depth=3)"
            ],
            "text/html": [
              "<style>#sk-container-id-2 {color: black;background-color: white;}#sk-container-id-2 pre{padding: 0;}#sk-container-id-2 div.sk-toggleable {background-color: white;}#sk-container-id-2 label.sk-toggleable__label {cursor: pointer;display: block;width: 100%;margin-bottom: 0;padding: 0.3em;box-sizing: border-box;text-align: center;}#sk-container-id-2 label.sk-toggleable__label-arrow:before {content: \"▸\";float: left;margin-right: 0.25em;color: #696969;}#sk-container-id-2 label.sk-toggleable__label-arrow:hover:before {color: black;}#sk-container-id-2 div.sk-estimator:hover label.sk-toggleable__label-arrow:before {color: black;}#sk-container-id-2 div.sk-toggleable__content {max-height: 0;max-width: 0;overflow: hidden;text-align: left;background-color: #f0f8ff;}#sk-container-id-2 div.sk-toggleable__content pre {margin: 0.2em;color: black;border-radius: 0.25em;background-color: #f0f8ff;}#sk-container-id-2 input.sk-toggleable__control:checked~div.sk-toggleable__content {max-height: 200px;max-width: 100%;overflow: auto;}#sk-container-id-2 input.sk-toggleable__control:checked~label.sk-toggleable__label-arrow:before {content: \"▾\";}#sk-container-id-2 div.sk-estimator input.sk-toggleable__control:checked~label.sk-toggleable__label {background-color: #d4ebff;}#sk-container-id-2 div.sk-label input.sk-toggleable__control:checked~label.sk-toggleable__label {background-color: #d4ebff;}#sk-container-id-2 input.sk-hidden--visually {border: 0;clip: rect(1px 1px 1px 1px);clip: rect(1px, 1px, 1px, 1px);height: 1px;margin: -1px;overflow: hidden;padding: 0;position: absolute;width: 1px;}#sk-container-id-2 div.sk-estimator {font-family: monospace;background-color: #f0f8ff;border: 1px dotted black;border-radius: 0.25em;box-sizing: border-box;margin-bottom: 0.5em;}#sk-container-id-2 div.sk-estimator:hover {background-color: #d4ebff;}#sk-container-id-2 div.sk-parallel-item::after {content: \"\";width: 100%;border-bottom: 1px solid gray;flex-grow: 1;}#sk-container-id-2 div.sk-label:hover label.sk-toggleable__label {background-color: #d4ebff;}#sk-container-id-2 div.sk-serial::before {content: \"\";position: absolute;border-left: 1px solid gray;box-sizing: border-box;top: 0;bottom: 0;left: 50%;z-index: 0;}#sk-container-id-2 div.sk-serial {display: flex;flex-direction: column;align-items: center;background-color: white;padding-right: 0.2em;padding-left: 0.2em;position: relative;}#sk-container-id-2 div.sk-item {position: relative;z-index: 1;}#sk-container-id-2 div.sk-parallel {display: flex;align-items: stretch;justify-content: center;background-color: white;position: relative;}#sk-container-id-2 div.sk-item::before, #sk-container-id-2 div.sk-parallel-item::before {content: \"\";position: absolute;border-left: 1px solid gray;box-sizing: border-box;top: 0;bottom: 0;left: 50%;z-index: -1;}#sk-container-id-2 div.sk-parallel-item {display: flex;flex-direction: column;z-index: 1;position: relative;background-color: white;}#sk-container-id-2 div.sk-parallel-item:first-child::after {align-self: flex-end;width: 50%;}#sk-container-id-2 div.sk-parallel-item:last-child::after {align-self: flex-start;width: 50%;}#sk-container-id-2 div.sk-parallel-item:only-child::after {width: 0;}#sk-container-id-2 div.sk-dashed-wrapped {border: 1px dashed gray;margin: 0 0.4em 0.5em 0.4em;box-sizing: border-box;padding-bottom: 0.4em;background-color: white;}#sk-container-id-2 div.sk-label label {font-family: monospace;font-weight: bold;display: inline-block;line-height: 1.2em;}#sk-container-id-2 div.sk-label-container {text-align: center;}#sk-container-id-2 div.sk-container {/* jupyter's `normalize.less` sets `[hidden] { display: none; }` but bootstrap.min.css set `[hidden] { display: none !important; }` so we also need the `!important` here to be able to override the default hidden behavior on the sphinx rendered scikit-learn.org. See: https://github.com/scikit-learn/scikit-learn/issues/21755 */display: inline-block !important;position: relative;}#sk-container-id-2 div.sk-text-repr-fallback {display: none;}</style><div id=\"sk-container-id-2\" class=\"sk-top-container\"><div class=\"sk-text-repr-fallback\"><pre>DecisionTreeRegressor(max_depth=3)</pre><b>In a Jupyter environment, please rerun this cell to show the HTML representation or trust the notebook. <br />On GitHub, the HTML representation is unable to render, please try loading this page with nbviewer.org.</b></div><div class=\"sk-container\" hidden><div class=\"sk-item\"><div class=\"sk-estimator sk-toggleable\"><input class=\"sk-toggleable__control sk-hidden--visually\" id=\"sk-estimator-id-2\" type=\"checkbox\" checked><label for=\"sk-estimator-id-2\" class=\"sk-toggleable__label sk-toggleable__label-arrow\">DecisionTreeRegressor</label><div class=\"sk-toggleable__content\"><pre>DecisionTreeRegressor(max_depth=3)</pre></div></div></div></div></div>"
            ]
          },
          "metadata": {},
          "execution_count": 70
        }
      ]
    },
    {
      "cell_type": "code",
      "source": [
        "y_pred_dt = tree.predict(X_test)\n",
        "\n",
        "# Calculate the RMSE\n",
        "rmse_dt = np.sqrt(mean_squared_error(y_test, y_pred_dt))\n",
        "print(f'Root Mean Squared Error (Decision tree): {rmse_dt}')\n",
        "\n",
        "# Calculate the MAE\n",
        "mae_dt = mean_absolute_error(y_test, y_pred_dt)\n",
        "print(f'Mean Absolute Error (Decision tree): {mae_dt}')\n",
        "\n",
        "# Calculate the R^2 score\n",
        "r2_dt = r2_score(y_test, y_pred_dt)\n",
        "print(f'R^2 Score (Decision tree): {r2_dt}')"
      ],
      "metadata": {
        "colab": {
          "base_uri": "https://localhost:8080/"
        },
        "id": "al9okTMWXjIq",
        "outputId": "2f14791e-6478-4e45-aac3-be7b9ff1af1d"
      },
      "execution_count": 125,
      "outputs": [
        {
          "output_type": "stream",
          "name": "stdout",
          "text": [
            "Root Mean Squared Error (Decision tree): 3.4294693849418434\n",
            "Mean Absolute Error (Decision tree): 2.6647600627530488\n",
            "R^2 Score (Decision tree): 0.08537672485150649\n"
          ]
        }
      ]
    },
    {
      "cell_type": "markdown",
      "source": [
        "KNN Regression"
      ],
      "metadata": {
        "id": "lW5b_mx9ZjYX"
      }
    },
    {
      "cell_type": "code",
      "source": [
        "from sklearn.neighbors import KNeighborsRegressor\n",
        "knn = KNeighborsRegressor(n_neighbors=5)\n",
        "knn.fit(X_train, y_train)"
      ],
      "metadata": {
        "colab": {
          "base_uri": "https://localhost:8080/",
          "height": 75
        },
        "id": "Yc_CxUW_Zlwo",
        "outputId": "d594f85f-ef61-459b-8670-eba0a6bdeee9"
      },
      "execution_count": 72,
      "outputs": [
        {
          "output_type": "execute_result",
          "data": {
            "text/plain": [
              "KNeighborsRegressor()"
            ],
            "text/html": [
              "<style>#sk-container-id-3 {color: black;background-color: white;}#sk-container-id-3 pre{padding: 0;}#sk-container-id-3 div.sk-toggleable {background-color: white;}#sk-container-id-3 label.sk-toggleable__label {cursor: pointer;display: block;width: 100%;margin-bottom: 0;padding: 0.3em;box-sizing: border-box;text-align: center;}#sk-container-id-3 label.sk-toggleable__label-arrow:before {content: \"▸\";float: left;margin-right: 0.25em;color: #696969;}#sk-container-id-3 label.sk-toggleable__label-arrow:hover:before {color: black;}#sk-container-id-3 div.sk-estimator:hover label.sk-toggleable__label-arrow:before {color: black;}#sk-container-id-3 div.sk-toggleable__content {max-height: 0;max-width: 0;overflow: hidden;text-align: left;background-color: #f0f8ff;}#sk-container-id-3 div.sk-toggleable__content pre {margin: 0.2em;color: black;border-radius: 0.25em;background-color: #f0f8ff;}#sk-container-id-3 input.sk-toggleable__control:checked~div.sk-toggleable__content {max-height: 200px;max-width: 100%;overflow: auto;}#sk-container-id-3 input.sk-toggleable__control:checked~label.sk-toggleable__label-arrow:before {content: \"▾\";}#sk-container-id-3 div.sk-estimator input.sk-toggleable__control:checked~label.sk-toggleable__label {background-color: #d4ebff;}#sk-container-id-3 div.sk-label input.sk-toggleable__control:checked~label.sk-toggleable__label {background-color: #d4ebff;}#sk-container-id-3 input.sk-hidden--visually {border: 0;clip: rect(1px 1px 1px 1px);clip: rect(1px, 1px, 1px, 1px);height: 1px;margin: -1px;overflow: hidden;padding: 0;position: absolute;width: 1px;}#sk-container-id-3 div.sk-estimator {font-family: monospace;background-color: #f0f8ff;border: 1px dotted black;border-radius: 0.25em;box-sizing: border-box;margin-bottom: 0.5em;}#sk-container-id-3 div.sk-estimator:hover {background-color: #d4ebff;}#sk-container-id-3 div.sk-parallel-item::after {content: \"\";width: 100%;border-bottom: 1px solid gray;flex-grow: 1;}#sk-container-id-3 div.sk-label:hover label.sk-toggleable__label {background-color: #d4ebff;}#sk-container-id-3 div.sk-serial::before {content: \"\";position: absolute;border-left: 1px solid gray;box-sizing: border-box;top: 0;bottom: 0;left: 50%;z-index: 0;}#sk-container-id-3 div.sk-serial {display: flex;flex-direction: column;align-items: center;background-color: white;padding-right: 0.2em;padding-left: 0.2em;position: relative;}#sk-container-id-3 div.sk-item {position: relative;z-index: 1;}#sk-container-id-3 div.sk-parallel {display: flex;align-items: stretch;justify-content: center;background-color: white;position: relative;}#sk-container-id-3 div.sk-item::before, #sk-container-id-3 div.sk-parallel-item::before {content: \"\";position: absolute;border-left: 1px solid gray;box-sizing: border-box;top: 0;bottom: 0;left: 50%;z-index: -1;}#sk-container-id-3 div.sk-parallel-item {display: flex;flex-direction: column;z-index: 1;position: relative;background-color: white;}#sk-container-id-3 div.sk-parallel-item:first-child::after {align-self: flex-end;width: 50%;}#sk-container-id-3 div.sk-parallel-item:last-child::after {align-self: flex-start;width: 50%;}#sk-container-id-3 div.sk-parallel-item:only-child::after {width: 0;}#sk-container-id-3 div.sk-dashed-wrapped {border: 1px dashed gray;margin: 0 0.4em 0.5em 0.4em;box-sizing: border-box;padding-bottom: 0.4em;background-color: white;}#sk-container-id-3 div.sk-label label {font-family: monospace;font-weight: bold;display: inline-block;line-height: 1.2em;}#sk-container-id-3 div.sk-label-container {text-align: center;}#sk-container-id-3 div.sk-container {/* jupyter's `normalize.less` sets `[hidden] { display: none; }` but bootstrap.min.css set `[hidden] { display: none !important; }` so we also need the `!important` here to be able to override the default hidden behavior on the sphinx rendered scikit-learn.org. See: https://github.com/scikit-learn/scikit-learn/issues/21755 */display: inline-block !important;position: relative;}#sk-container-id-3 div.sk-text-repr-fallback {display: none;}</style><div id=\"sk-container-id-3\" class=\"sk-top-container\"><div class=\"sk-text-repr-fallback\"><pre>KNeighborsRegressor()</pre><b>In a Jupyter environment, please rerun this cell to show the HTML representation or trust the notebook. <br />On GitHub, the HTML representation is unable to render, please try loading this page with nbviewer.org.</b></div><div class=\"sk-container\" hidden><div class=\"sk-item\"><div class=\"sk-estimator sk-toggleable\"><input class=\"sk-toggleable__control sk-hidden--visually\" id=\"sk-estimator-id-3\" type=\"checkbox\" checked><label for=\"sk-estimator-id-3\" class=\"sk-toggleable__label sk-toggleable__label-arrow\">KNeighborsRegressor</label><div class=\"sk-toggleable__content\"><pre>KNeighborsRegressor()</pre></div></div></div></div></div>"
            ]
          },
          "metadata": {},
          "execution_count": 72
        }
      ]
    },
    {
      "cell_type": "code",
      "source": [
        "y_pred_knn = knn.predict(X_test)\n",
        "\n",
        "# Calculate the RMSE\n",
        "rmse_knn = np.sqrt(mean_squared_error(y_test, y_pred_knn))\n",
        "print(f'Root Mean Squared Error (KNN): {rmse_knn}')\n",
        "\n",
        "# Calculate the MAE\n",
        "mae_knn= mean_absolute_error(y_test, y_pred_knn)\n",
        "print(f'Mean Absolute Error (KNN): {mae_knn}')\n",
        "\n",
        "# Calculate the R^2 score\n",
        "r2_knn = r2_score(y_test, y_pred_knn)\n",
        "print(f'R^2 Score (Gradient KNN): {r2_knn}')"
      ],
      "metadata": {
        "colab": {
          "base_uri": "https://localhost:8080/"
        },
        "id": "bZmhWxefZl6K",
        "outputId": "d5ba096c-ed77-4bf9-d287-04f78f4bd255"
      },
      "execution_count": 73,
      "outputs": [
        {
          "output_type": "stream",
          "name": "stdout",
          "text": [
            "Root Mean Squared Error (KNN): 3.66377757740429\n",
            "Mean Absolute Error (KNN): 2.842222644273815\n",
            "R^2 Score (Gradient KNN): -0.04387041553125548\n"
          ]
        }
      ]
    },
    {
      "cell_type": "markdown",
      "source": [
        "Neural Networks"
      ],
      "metadata": {
        "id": "o3lnVHRjdgtb"
      }
    },
    {
      "cell_type": "code",
      "source": [
        "from keras.models import Sequential\n",
        "from keras.layers import Dense\n",
        "\n",
        "# Define model architecture\n",
        "model = Sequential()\n",
        "model.add(Dense(32, input_dim=X_train.shape[1], activation='relu')) # Input layer\n",
        "model.add(Dense(16, activation='relu')) # Hidden layer\n",
        "model.add(Dense(1)) # Output layer\n",
        "\n",
        "# Compile model\n",
        "model.compile(loss='mean_squared_error', optimizer='adam', metrics=['mae'])\n",
        "\n",
        "# Fit the model to the training data\n",
        "model.fit(X_train, y_train, epochs= 20, batch_size=50, verbose=0)\n",
        "\n",
        "# Predicting on the test set\n",
        "y_pred_nn = model.predict(X_test)\n",
        "\n",
        "# Since the output of the model is a 2D array and y_test is a 1D array,\n",
        "# we need to flatten y_pred_nn to calculate RMSE, MAE and R^2\n",
        "y_pred_nn = y_pred_nn.flatten()\n",
        "\n",
        "# Calculate the RMSE\n",
        "rmse_nn = np.sqrt(mean_squared_error(y_test, y_pred_nn))\n",
        "print(f'Root Mean Squared Error (Neural Network): {rmse_nn}')\n",
        "\n",
        "# Calculate the MAE\n",
        "mae_nn = mean_absolute_error(y_test, y_pred_nn)\n",
        "print(f'Mean Absolute Error (Neural Network): {mae_nn}')\n",
        "\n",
        "# Calculate the R^2 score\n",
        "r2_nn = r2_score(y_test, y_pred_nn)\n",
        "print(f'R^2 Score (Neural Network): {r2_nn}')\n"
      ],
      "metadata": {
        "colab": {
          "base_uri": "https://localhost:8080/"
        },
        "id": "VwlKRliIN6o7",
        "outputId": "fa97ebaa-cbbf-4de4-f7c7-33b1aa032b21"
      },
      "execution_count": 80,
      "outputs": [
        {
          "output_type": "stream",
          "name": "stdout",
          "text": [
            "1152/1152 [==============================] - 1s 1ms/step\n",
            "Root Mean Squared Error (Neural Network): 3.3519965849024045\n",
            "Mean Absolute Error (Neural Network): 2.6218208022852076\n",
            "R^2 Score (Neural Network): 0.12623323126379227\n"
          ]
        }
      ]
    },
    {
      "cell_type": "markdown",
      "source": [
        "Ans.4"
      ],
      "metadata": {
        "id": "AzKeN0Gb-jY6"
      }
    },
    {
      "cell_type": "code",
      "source": [
        "# Save your model\n",
        "model.save('/content/my_model/model/my_model.h5')"
      ],
      "metadata": {
        "id": "6EjVFP4UhRoY"
      },
      "execution_count": 84,
      "outputs": []
    },
    {
      "cell_type": "code",
      "source": [
        "import os\n",
        "\n",
        "# List of subdirectories to be created within the main directory\n",
        "sub_dirs = ['lib', 'data', 'model']\n",
        "\n",
        "# Define the main directory\n",
        "main_dir = \"my_model\"\n",
        "\n",
        "# Check if the main directory exists. If not, create it.\n",
        "if not os.path.exists(main_dir):\n",
        "    os.makedirs(main_dir)\n",
        "\n",
        "# Loop over the subdirectories and create them inside the main directory\n",
        "for dir_name in sub_dirs:\n",
        "    dir_path = os.path.join(main_dir, dir_name)\n",
        "    if not os.path.exists(dir_path):\n",
        "        os.makedirs(dir_path)\n"
      ],
      "metadata": {
        "id": "TOanXZ7RvHeN"
      },
      "execution_count": 82,
      "outputs": []
    },
    {
      "cell_type": "code",
      "source": [
        "df_over.to_csv('/content/my_model/data/intermediate_data.csv', index=False)"
      ],
      "metadata": {
        "id": "mgpWNjAHiW7c"
      },
      "execution_count": 85,
      "outputs": []
    },
    {
      "cell_type": "code",
      "source": [
        "ireland_data = pd.read_csv('/content/my_model/data/filtered_data.csv')"
      ],
      "metadata": {
        "id": "HDrWHhnMo796"
      },
      "execution_count": 91,
      "outputs": []
    },
    {
      "cell_type": "code",
      "source": [
        "ireland_data"
      ],
      "metadata": {
        "colab": {
          "base_uri": "https://localhost:8080/",
          "height": 424
        },
        "id": "qQUdbtEZo_cZ",
        "outputId": "84c3ac61-4aea-4118-d8d6-cdfc52908a13"
      },
      "execution_count": 93,
      "outputs": [
        {
          "output_type": "execute_result",
          "data": {
            "text/plain": [
              "       matchid  innings     team  over  runs.total  remaining_overs  \\\n",
              "0     225171.0        2  Ireland     1          10               49   \n",
              "1     225171.0        2  Ireland     2           2               48   \n",
              "2     225171.0        2  Ireland     3           9               47   \n",
              "3     225171.0        2  Ireland     4           4               46   \n",
              "4     225171.0        2  Ireland     5           5               45   \n",
              "..         ...      ...      ...   ...         ...              ...   \n",
              "645  1251964.0        1  Ireland     1           0               49   \n",
              "646  1251964.0        1  Ireland     2           1               48   \n",
              "647  1251964.0        1  Ireland     3           5               47   \n",
              "648  1251964.0        1  Ireland     4           7               46   \n",
              "649  1251964.0        1  Ireland     5           1               45   \n",
              "\n",
              "     remaining_wickets  \n",
              "0                  9.0  \n",
              "1                  9.0  \n",
              "2                  9.0  \n",
              "3                  9.0  \n",
              "4                  9.0  \n",
              "..                 ...  \n",
              "645                9.0  \n",
              "646                9.0  \n",
              "647                8.0  \n",
              "648                8.0  \n",
              "649                8.0  \n",
              "\n",
              "[650 rows x 7 columns]"
            ],
            "text/html": [
              "\n",
              "  <div id=\"df-0a7ddd70-70ea-410c-94b8-a8f2f6b38a93\">\n",
              "    <div class=\"colab-df-container\">\n",
              "      <div>\n",
              "<style scoped>\n",
              "    .dataframe tbody tr th:only-of-type {\n",
              "        vertical-align: middle;\n",
              "    }\n",
              "\n",
              "    .dataframe tbody tr th {\n",
              "        vertical-align: top;\n",
              "    }\n",
              "\n",
              "    .dataframe thead th {\n",
              "        text-align: right;\n",
              "    }\n",
              "</style>\n",
              "<table border=\"1\" class=\"dataframe\">\n",
              "  <thead>\n",
              "    <tr style=\"text-align: right;\">\n",
              "      <th></th>\n",
              "      <th>matchid</th>\n",
              "      <th>innings</th>\n",
              "      <th>team</th>\n",
              "      <th>over</th>\n",
              "      <th>runs.total</th>\n",
              "      <th>remaining_overs</th>\n",
              "      <th>remaining_wickets</th>\n",
              "    </tr>\n",
              "  </thead>\n",
              "  <tbody>\n",
              "    <tr>\n",
              "      <th>0</th>\n",
              "      <td>225171.0</td>\n",
              "      <td>2</td>\n",
              "      <td>Ireland</td>\n",
              "      <td>1</td>\n",
              "      <td>10</td>\n",
              "      <td>49</td>\n",
              "      <td>9.0</td>\n",
              "    </tr>\n",
              "    <tr>\n",
              "      <th>1</th>\n",
              "      <td>225171.0</td>\n",
              "      <td>2</td>\n",
              "      <td>Ireland</td>\n",
              "      <td>2</td>\n",
              "      <td>2</td>\n",
              "      <td>48</td>\n",
              "      <td>9.0</td>\n",
              "    </tr>\n",
              "    <tr>\n",
              "      <th>2</th>\n",
              "      <td>225171.0</td>\n",
              "      <td>2</td>\n",
              "      <td>Ireland</td>\n",
              "      <td>3</td>\n",
              "      <td>9</td>\n",
              "      <td>47</td>\n",
              "      <td>9.0</td>\n",
              "    </tr>\n",
              "    <tr>\n",
              "      <th>3</th>\n",
              "      <td>225171.0</td>\n",
              "      <td>2</td>\n",
              "      <td>Ireland</td>\n",
              "      <td>4</td>\n",
              "      <td>4</td>\n",
              "      <td>46</td>\n",
              "      <td>9.0</td>\n",
              "    </tr>\n",
              "    <tr>\n",
              "      <th>4</th>\n",
              "      <td>225171.0</td>\n",
              "      <td>2</td>\n",
              "      <td>Ireland</td>\n",
              "      <td>5</td>\n",
              "      <td>5</td>\n",
              "      <td>45</td>\n",
              "      <td>9.0</td>\n",
              "    </tr>\n",
              "    <tr>\n",
              "      <th>...</th>\n",
              "      <td>...</td>\n",
              "      <td>...</td>\n",
              "      <td>...</td>\n",
              "      <td>...</td>\n",
              "      <td>...</td>\n",
              "      <td>...</td>\n",
              "      <td>...</td>\n",
              "    </tr>\n",
              "    <tr>\n",
              "      <th>645</th>\n",
              "      <td>1251964.0</td>\n",
              "      <td>1</td>\n",
              "      <td>Ireland</td>\n",
              "      <td>1</td>\n",
              "      <td>0</td>\n",
              "      <td>49</td>\n",
              "      <td>9.0</td>\n",
              "    </tr>\n",
              "    <tr>\n",
              "      <th>646</th>\n",
              "      <td>1251964.0</td>\n",
              "      <td>1</td>\n",
              "      <td>Ireland</td>\n",
              "      <td>2</td>\n",
              "      <td>1</td>\n",
              "      <td>48</td>\n",
              "      <td>9.0</td>\n",
              "    </tr>\n",
              "    <tr>\n",
              "      <th>647</th>\n",
              "      <td>1251964.0</td>\n",
              "      <td>1</td>\n",
              "      <td>Ireland</td>\n",
              "      <td>3</td>\n",
              "      <td>5</td>\n",
              "      <td>47</td>\n",
              "      <td>8.0</td>\n",
              "    </tr>\n",
              "    <tr>\n",
              "      <th>648</th>\n",
              "      <td>1251964.0</td>\n",
              "      <td>1</td>\n",
              "      <td>Ireland</td>\n",
              "      <td>4</td>\n",
              "      <td>7</td>\n",
              "      <td>46</td>\n",
              "      <td>8.0</td>\n",
              "    </tr>\n",
              "    <tr>\n",
              "      <th>649</th>\n",
              "      <td>1251964.0</td>\n",
              "      <td>1</td>\n",
              "      <td>Ireland</td>\n",
              "      <td>5</td>\n",
              "      <td>1</td>\n",
              "      <td>45</td>\n",
              "      <td>8.0</td>\n",
              "    </tr>\n",
              "  </tbody>\n",
              "</table>\n",
              "<p>650 rows × 7 columns</p>\n",
              "</div>\n",
              "      <button class=\"colab-df-convert\" onclick=\"convertToInteractive('df-0a7ddd70-70ea-410c-94b8-a8f2f6b38a93')\"\n",
              "              title=\"Convert this dataframe to an interactive table.\"\n",
              "              style=\"display:none;\">\n",
              "        \n",
              "  <svg xmlns=\"http://www.w3.org/2000/svg\" height=\"24px\"viewBox=\"0 0 24 24\"\n",
              "       width=\"24px\">\n",
              "    <path d=\"M0 0h24v24H0V0z\" fill=\"none\"/>\n",
              "    <path d=\"M18.56 5.44l.94 2.06.94-2.06 2.06-.94-2.06-.94-.94-2.06-.94 2.06-2.06.94zm-11 1L8.5 8.5l.94-2.06 2.06-.94-2.06-.94L8.5 2.5l-.94 2.06-2.06.94zm10 10l.94 2.06.94-2.06 2.06-.94-2.06-.94-.94-2.06-.94 2.06-2.06.94z\"/><path d=\"M17.41 7.96l-1.37-1.37c-.4-.4-.92-.59-1.43-.59-.52 0-1.04.2-1.43.59L10.3 9.45l-7.72 7.72c-.78.78-.78 2.05 0 2.83L4 21.41c.39.39.9.59 1.41.59.51 0 1.02-.2 1.41-.59l7.78-7.78 2.81-2.81c.8-.78.8-2.07 0-2.86zM5.41 20L4 18.59l7.72-7.72 1.47 1.35L5.41 20z\"/>\n",
              "  </svg>\n",
              "      </button>\n",
              "      \n",
              "  <style>\n",
              "    .colab-df-container {\n",
              "      display:flex;\n",
              "      flex-wrap:wrap;\n",
              "      gap: 12px;\n",
              "    }\n",
              "\n",
              "    .colab-df-convert {\n",
              "      background-color: #E8F0FE;\n",
              "      border: none;\n",
              "      border-radius: 50%;\n",
              "      cursor: pointer;\n",
              "      display: none;\n",
              "      fill: #1967D2;\n",
              "      height: 32px;\n",
              "      padding: 0 0 0 0;\n",
              "      width: 32px;\n",
              "    }\n",
              "\n",
              "    .colab-df-convert:hover {\n",
              "      background-color: #E2EBFA;\n",
              "      box-shadow: 0px 1px 2px rgba(60, 64, 67, 0.3), 0px 1px 3px 1px rgba(60, 64, 67, 0.15);\n",
              "      fill: #174EA6;\n",
              "    }\n",
              "\n",
              "    [theme=dark] .colab-df-convert {\n",
              "      background-color: #3B4455;\n",
              "      fill: #D2E3FC;\n",
              "    }\n",
              "\n",
              "    [theme=dark] .colab-df-convert:hover {\n",
              "      background-color: #434B5C;\n",
              "      box-shadow: 0px 1px 3px 1px rgba(0, 0, 0, 0.15);\n",
              "      filter: drop-shadow(0px 1px 2px rgba(0, 0, 0, 0.3));\n",
              "      fill: #FFFFFF;\n",
              "    }\n",
              "  </style>\n",
              "\n",
              "      <script>\n",
              "        const buttonEl =\n",
              "          document.querySelector('#df-0a7ddd70-70ea-410c-94b8-a8f2f6b38a93 button.colab-df-convert');\n",
              "        buttonEl.style.display =\n",
              "          google.colab.kernel.accessAllowed ? 'block' : 'none';\n",
              "\n",
              "        async function convertToInteractive(key) {\n",
              "          const element = document.querySelector('#df-0a7ddd70-70ea-410c-94b8-a8f2f6b38a93');\n",
              "          const dataTable =\n",
              "            await google.colab.kernel.invokeFunction('convertToInteractive',\n",
              "                                                     [key], {});\n",
              "          if (!dataTable) return;\n",
              "\n",
              "          const docLinkHtml = 'Like what you see? Visit the ' +\n",
              "            '<a target=\"_blank\" href=https://colab.research.google.com/notebooks/data_table.ipynb>data table notebook</a>'\n",
              "            + ' to learn more about interactive tables.';\n",
              "          element.innerHTML = '';\n",
              "          dataTable['output_type'] = 'display_data';\n",
              "          await google.colab.output.renderOutput(dataTable, element);\n",
              "          const docLink = document.createElement('div');\n",
              "          docLink.innerHTML = docLinkHtml;\n",
              "          element.appendChild(docLink);\n",
              "        }\n",
              "      </script>\n",
              "    </div>\n",
              "  </div>\n",
              "  "
            ]
          },
          "metadata": {},
          "execution_count": 93
        }
      ]
    },
    {
      "cell_type": "code",
      "source": [
        "!bash /content/my_model/lib/run_model.sh"
      ],
      "metadata": {
        "colab": {
          "base_uri": "https://localhost:8080/"
        },
        "id": "CJ5vmOA_iW_r",
        "outputId": "e9c96f12-db7b-4453-eaaa-c9b1b5e0eb81"
      },
      "execution_count": 95,
      "outputs": [
        {
          "output_type": "stream",
          "name": "stdout",
          "text": [
            "2023-06-28 01:39:01.559492: W tensorflow/compiler/tf2tensorrt/utils/py_utils.cc:38] TF-TRT Warning: Could not find TensorRT\n",
            "2023-06-28 01:39:04.104925: W tensorflow/core/common_runtime/gpu/gpu_bfc_allocator.cc:47] Overriding orig_value setting because the TF_FORCE_GPU_ALLOW_GROWTH environment variable is set. Original config value was 0.\n",
            "21/21 [==============================] - 1s 1ms/step\n",
            "[3.9524024 4.0966787 4.2255373 4.362528  4.5614743 3.3819296 3.526206\n",
            " 3.6704826 3.8099115 3.9742155 4.785822  4.9864054 5.143342  4.362528\n",
            " 4.5614743 4.196927  3.526206  3.6704826 3.8099115 3.9742155 3.9524024\n",
            " 4.0966787 4.2255373 3.767806  3.9120827 4.196927  4.3975096 3.6704826\n",
            " 3.8099115 3.9742155 4.785822  4.0966787 4.2255373 4.362528  4.5614743\n",
            " 3.3819296 3.526206  3.6704826 2.8479247 2.878017  4.196927  4.3975096\n",
            " 4.598093  4.798676  4.9992595 4.196927  4.3975096 4.598093  4.798676\n",
            " 4.9992595 4.196927  4.3975096 4.598093  4.798676  3.9742155 4.785822\n",
            " 4.9864054 5.143342  5.286207  5.429072  4.196927  4.3975096 4.598093\n",
            " 4.798676  4.9992595 4.785822  4.9864054 5.143342  5.286207  4.5614743\n",
            " 4.785822  4.9864054 4.2255373 4.362528  3.9120827 4.785822  4.0966787\n",
            " 4.2255373 3.767806  3.9120827 4.785822  4.9864054 5.143342  5.286207\n",
            " 5.429072  4.785822  4.9864054 5.143342  5.286207  5.429072  4.785822\n",
            " 4.9864054 5.143342  5.286207  5.429072  3.9524024 4.0966787 4.2255373\n",
            " 4.362528  4.5614743 3.3819296 3.526206  3.0530567 3.197333  3.3416095\n",
            " 4.785822  4.0966787 4.2255373 4.362528  4.5614743 4.785822  4.0966787\n",
            " 4.2255373 3.767806  3.9120827 4.785822  4.9864054 5.143342  5.286207\n",
            " 5.429072  4.196927  4.3975096 4.598093  4.798676  3.9742155 4.785822\n",
            " 4.9864054 5.143342  5.286207  5.429072  4.785822  4.9864054 5.143342\n",
            " 5.286207  5.429072  4.196927  4.3975096 4.598093  4.798676  4.9992595\n",
            " 4.785822  4.0966787 4.2255373 4.362528  4.5614743 4.196927  4.3975096\n",
            " 4.598093  4.798676  4.9992595 4.196927  4.3975096 4.598093  4.798676\n",
            " 4.9992595 4.196927  4.3975096 4.598093  3.8099115 3.9742155 4.196927\n",
            " 4.3975096 4.598093  4.798676  4.9992595 4.196927  4.3975096 4.598093\n",
            " 3.8099115 3.9742155 4.196927  4.3975096 4.598093  3.8099115 3.9742155\n",
            " 4.785822  4.9864054 5.143342  5.286207  5.429072  3.3819296 3.526206\n",
            " 3.6704826 3.197333  3.3416095 4.196927  3.526206  3.6704826 3.8099115\n",
            " 3.9742155 4.785822  4.0966787 4.2255373 4.362528  4.5614743 4.785822\n",
            " 4.0966787 4.2255373 4.362528  4.5614743 4.785822  4.9864054 5.143342\n",
            " 5.286207  5.429072  4.785822  4.0966787 4.2255373 4.362528  4.5614743\n",
            " 4.785822  4.9864054 4.2255373 3.767806  3.2946568 4.196927  4.3975096\n",
            " 3.6704826 3.8099115 3.9742155 4.196927  4.3975096 4.598093  4.798676\n",
            " 4.9992595 4.196927  4.3975096 4.598093  3.8099115 3.9742155 4.785822\n",
            " 4.9864054 5.143342  5.286207  5.429072  4.196927  4.3975096 3.6704826\n",
            " 3.8099115 3.9742155 4.785822  4.0966787 4.2255373 4.362528  3.9120827\n",
            " 4.785822  4.9864054 5.143342  5.286207  5.429072  4.785822  4.9864054\n",
            " 5.143342  5.286207  5.429072  4.196927  4.3975096 4.598093  4.798676\n",
            " 4.9992595 3.9524024 3.479253  3.62353   3.767806  3.9120827 3.9524024\n",
            " 3.479253  3.62353   3.767806  3.9120827 4.785822  4.9864054 5.143342\n",
            " 5.286207  5.429072  4.785822  4.9864054 5.143342  5.286207  5.429072\n",
            " 3.9524024 4.0966787 4.2255373 4.362528  4.5614743 4.196927  4.3975096\n",
            " 4.598093  4.798676  4.9992595 4.196927  4.3975096 4.598093  4.798676\n",
            " 4.9992595 4.785822  4.9864054 5.143342  5.286207  5.429072  3.9524024\n",
            " 4.0966787 4.2255373 4.362528  4.5614743 4.196927  4.3975096 4.598093\n",
            " 4.798676  4.9992595 4.785822  4.9864054 5.143342  5.286207  5.429072\n",
            " 4.785822  4.9864054 5.143342  5.286207  5.429072  4.785822  4.9864054\n",
            " 5.143342  5.286207  5.429072  4.196927  4.3975096 4.598093  4.798676\n",
            " 3.9742155 4.196927  4.3975096 4.598093  4.798676  4.9992595 4.785822\n",
            " 4.9864054 5.143342  5.286207  5.429072  4.785822  4.9864054 5.143342\n",
            " 4.362528  4.5614743 4.196927  3.526206  3.6704826 3.8099115 3.9742155\n",
            " 4.785822  4.9864054 4.2255373 4.362528  4.5614743 4.785822  4.9864054\n",
            " 4.2255373 4.362528  4.5614743 4.785822  4.9864054 5.143342  5.286207\n",
            " 5.429072  4.785822  4.9864054 5.143342  4.362528  4.5614743 4.785822\n",
            " 4.9864054 5.143342  5.286207  5.429072  4.196927  4.3975096 4.598093\n",
            " 4.798676  4.9992595 4.785822  4.9864054 4.2255373 4.362528  4.5614743\n",
            " 3.9524024 4.0966787 3.62353   3.767806  3.9120827 4.196927  4.3975096\n",
            " 4.598093  4.798676  4.9992595 4.785822  4.9864054 5.143342  5.286207\n",
            " 4.5614743 4.196927  4.3975096 4.598093  4.798676  4.9992595 4.196927\n",
            " 4.3975096 3.6704826 3.8099115 3.3416095 4.785822  4.9864054 5.143342\n",
            " 5.286207  5.429072  4.196927  4.3975096 4.598093  4.798676  4.9992595\n",
            " 4.785822  4.9864054 5.143342  5.286207  5.429072  4.785822  4.9864054\n",
            " 5.143342  5.286207  5.429072  4.785822  4.9864054 5.143342  4.362528\n",
            " 4.5614743 4.196927  4.3975096 4.598093  4.798676  4.9992595 4.785822\n",
            " 4.9864054 5.143342  5.286207  5.429072  3.9524024 4.0966787 3.62353\n",
            " 3.767806  3.9120827 4.196927  4.3975096 4.598093  4.798676  4.9992595\n",
            " 3.9524024 4.0966787 4.2255373 4.362528  4.5614743 4.196927  4.3975096\n",
            " 3.6704826 3.8099115 3.9742155 4.785822  4.9864054 5.143342  5.286207\n",
            " 5.429072  4.785822  4.0966787 4.2255373 4.362528  4.5614743 4.196927\n",
            " 4.3975096 4.598093  4.798676  4.9992595 4.785822  4.9864054 5.143342\n",
            " 4.362528  4.5614743 3.3819296 3.526206  3.6704826 3.8099115 3.9742155\n",
            " 4.196927  4.3975096 4.598093  4.798676  4.9992595 3.9524024 4.0966787\n",
            " 4.2255373 4.362528  4.5614743 4.785822  4.9864054 5.143342  5.286207\n",
            " 5.429072  3.9524024 4.0966787 4.2255373 4.362528  4.5614743 4.196927\n",
            " 4.3975096 3.6704826 3.8099115 3.9742155 4.196927  4.3975096 4.598093\n",
            " 4.798676  4.9992595 4.196927  3.526206  3.6704826 3.8099115 3.9742155\n",
            " 4.785822  4.9864054 4.2255373 4.362528  4.5614743 4.785822  4.9864054\n",
            " 5.143342  5.286207  5.429072  4.785822  4.9864054 5.143342  5.286207\n",
            " 5.429072  4.785822  4.0966787 4.2255373 3.767806  3.2946568 4.196927\n",
            " 4.3975096 4.598093  4.798676  3.9742155 4.196927  4.3975096 4.598093\n",
            " 3.8099115 3.9742155 4.196927  4.3975096 4.598093  4.798676  3.9742155\n",
            " 4.785822  4.9864054 5.143342  5.286207  5.429072  4.785822  4.9864054\n",
            " 5.143342  5.286207  5.429072  4.196927  4.3975096 4.598093  4.798676\n",
            " 4.9992595 4.785822  4.9864054 5.143342  5.286207  5.429072  3.3819296\n",
            " 3.526206  3.0530567 3.197333  3.3416095 4.196927  4.3975096 4.598093\n",
            " 4.798676  3.9742155 4.785822  4.9864054 5.143342  5.286207  5.429072\n",
            " 4.196927  4.3975096 4.598093  4.798676  4.9992595 4.196927  4.3975096\n",
            " 4.598093  4.798676  3.9742155 4.196927  4.3975096 4.598093  4.798676\n",
            " 4.9992595 4.785822  4.9864054 4.2255373 4.362528  4.5614743 4.196927\n",
            " 3.526206  3.6704826 3.197333  3.3416095 4.785822  4.9864054 5.143342\n",
            " 5.286207  5.429072  4.196927  4.3975096 4.598093  4.798676  4.9992595\n",
            " 4.196927  3.526206  3.0530567 3.197333  2.8813565 4.785822  3.479253\n",
            " 3.1816833 3.2061622 3.2946568 4.787194  4.096592  4.2256026 4.3629403\n",
            " 4.5630636 3.3823457 3.5268002 3.0529442 3.1973588 3.341949 ]\n"
          ]
        }
      ]
    },
    {
      "cell_type": "code",
      "source": [
        "\n",
        "import pandas as pd\n",
        "import numpy as np\n",
        "from sklearn.model_selection import train_test_split\n",
        "from sklearn.linear_model import LinearRegression\n",
        "from sklearn.metrics import mean_squared_error, r2_score, mean_absolute_error\n",
        "from sklearn.preprocessing import OneHotEncoder\n",
        "\n",
        "# Load the dataframe (assuming df_over is your DataFrame)\n",
        "# df_over = pd.read_csv('your_dataframe.csv')\n",
        "\n",
        "# Calculate cumulative runs\n",
        "df_over['cumulative_runs'] = df_over.groupby(['matchid', 'innings'])['runs.total'].cumsum()\n",
        "\n",
        "# One-hot encode the 'team' feature\n",
        "encoder = OneHotEncoder(sparse=False)\n",
        "team_encoded = pd.DataFrame(encoder.fit_transform(df_over[['team']]))\n",
        "\n",
        "# Get feature names after one-hot encoding\n",
        "team_encoded.columns = encoder.get_feature_names_out(['team'])\n",
        "\n",
        "# Concatenate the original dataframe with the one-hot encoded 'team' feature dataframe\n",
        "df_over = pd.concat([df_over, team_encoded], axis=1)\n",
        "\n",
        "# Check for NaN values in the dataframe and handle them\n",
        "if df_over.isnull().values.any():\n",
        "    print(\"There are NaN values in the DataFrame. These need to be handled before proceeding.\")\n",
        "\n",
        "    # Remove NaN values. Uncomment the following line to use this option.\n",
        "    df_over.dropna(inplace=True)\n",
        "\n",
        "    df_over.fillna(df_over.mean(), inplace=True)\n",
        "\n",
        "# Define the feature set X and the target y\n",
        "X = df_over[['innings', 'remaining_overs', 'remaining_wickets', 'cumulative_runs'] + list(team_encoded.columns)]\n",
        "y = df_over['runs.total']\n",
        "\n",
        "# Split data into train and test sets\n",
        "X_train, X_test, y_train, y_test = train_test_split(X, y, test_size=0.2, random_state=42)\n",
        "\n",
        "# Fit a linear regression model\n",
        "model = LinearRegression()\n",
        "model.fit(X_train, y_train)\n",
        "\n",
        "# Predict on the test set\n",
        "y_pred = model.predict(X_test)\n",
        "\n",
        "# Calculate and print metrics\n",
        "print('RMSE:', np.sqrt(mean_squared_error(y_test, y_pred)))\n",
        "print('MAE:', mean_absolute_error(y_test, y_pred))\n",
        "print('R^2:', r2_score(y_test, y_pred))\n",
        "\n"
      ],
      "metadata": {
        "colab": {
          "base_uri": "https://localhost:8080/"
        },
        "id": "0BOo1DhpKCmD",
        "outputId": "6ad3ff2e-0743-44df-a7f3-86653d8a1420"
      },
      "execution_count": 103,
      "outputs": [
        {
          "output_type": "stream",
          "name": "stderr",
          "text": [
            "/usr/local/lib/python3.10/dist-packages/sklearn/preprocessing/_encoders.py:868: FutureWarning: `sparse` was renamed to `sparse_output` in version 1.2 and will be removed in 1.4. `sparse_output` is ignored unless you leave `sparse` to its default value.\n",
            "  warnings.warn(\n"
          ]
        },
        {
          "output_type": "stream",
          "name": "stdout",
          "text": [
            "There are NaN values in the DataFrame. These need to be handled before proceeding.\n"
          ]
        },
        {
          "output_type": "stream",
          "name": "stderr",
          "text": [
            "<ipython-input-103-c20843b34607>:31: FutureWarning: The default value of numeric_only in DataFrame.mean is deprecated. In a future version, it will default to False. In addition, specifying 'numeric_only=None' is deprecated. Select only valid columns or specify the value of numeric_only to silence this warning.\n",
            "  df_over.fillna(df_over.mean(), inplace=True)\n"
          ]
        },
        {
          "output_type": "stream",
          "name": "stdout",
          "text": [
            "RMSE: 3.275434548566657\n",
            "MAE: 2.55301589306066\n",
            "R^2: 0.16104335800497416\n"
          ]
        }
      ]
    },
    {
      "cell_type": "code",
      "source": [
        "!zip -r my_model.zip /content/my_model/"
      ],
      "metadata": {
        "colab": {
          "base_uri": "https://localhost:8080/"
        },
        "id": "avUCsSIdiXCw",
        "outputId": "2088d919-fe2d-41fe-a381-ee19c010bead"
      },
      "execution_count": 96,
      "outputs": [
        {
          "output_type": "stream",
          "name": "stdout",
          "text": [
            "  adding: content/my_model/ (stored 0%)\n",
            "  adding: content/my_model/.ipynb_checkpoints/ (stored 0%)\n",
            "  adding: content/my_model/model/ (stored 0%)\n",
            "  adding: content/my_model/model/my_model.h5 (deflated 74%)\n",
            "  adding: content/my_model/lib/ (stored 0%)\n",
            "  adding: content/my_model/lib/.ipynb_checkpoints/ (stored 0%)\n",
            "  adding: content/my_model/lib/predict.py (deflated 52%)\n",
            "  adding: content/my_model/lib/run_model.sh (deflated 39%)\n",
            "  adding: content/my_model/lib/filter_data.py (deflated 41%)\n",
            "  adding: content/my_model/data/ (stored 0%)\n",
            "  adding: content/my_model/data/intermediate_data.csv (deflated 86%)\n",
            "  adding: content/my_model/data/filtered_data.csv (deflated 86%)\n"
          ]
        }
      ]
    },
    {
      "cell_type": "code",
      "source": [
        "from google.colab import files\n",
        "files.download(\"/content/my_model.zip\")\n"
      ],
      "metadata": {
        "colab": {
          "base_uri": "https://localhost:8080/",
          "height": 17
        },
        "id": "vw1zqihqrAhI",
        "outputId": "73b885ef-085d-42b2-85d7-6ebb42bda5b7"
      },
      "execution_count": 99,
      "outputs": [
        {
          "output_type": "display_data",
          "data": {
            "text/plain": [
              "<IPython.core.display.Javascript object>"
            ],
            "application/javascript": [
              "\n",
              "    async function download(id, filename, size) {\n",
              "      if (!google.colab.kernel.accessAllowed) {\n",
              "        return;\n",
              "      }\n",
              "      const div = document.createElement('div');\n",
              "      const label = document.createElement('label');\n",
              "      label.textContent = `Downloading \"${filename}\": `;\n",
              "      div.appendChild(label);\n",
              "      const progress = document.createElement('progress');\n",
              "      progress.max = size;\n",
              "      div.appendChild(progress);\n",
              "      document.body.appendChild(div);\n",
              "\n",
              "      const buffers = [];\n",
              "      let downloaded = 0;\n",
              "\n",
              "      const channel = await google.colab.kernel.comms.open(id);\n",
              "      // Send a message to notify the kernel that we're ready.\n",
              "      channel.send({})\n",
              "\n",
              "      for await (const message of channel.messages) {\n",
              "        // Send a message to notify the kernel that we're ready.\n",
              "        channel.send({})\n",
              "        if (message.buffers) {\n",
              "          for (const buffer of message.buffers) {\n",
              "            buffers.push(buffer);\n",
              "            downloaded += buffer.byteLength;\n",
              "            progress.value = downloaded;\n",
              "          }\n",
              "        }\n",
              "      }\n",
              "      const blob = new Blob(buffers, {type: 'application/binary'});\n",
              "      const a = document.createElement('a');\n",
              "      a.href = window.URL.createObjectURL(blob);\n",
              "      a.download = filename;\n",
              "      div.appendChild(a);\n",
              "      a.click();\n",
              "      div.remove();\n",
              "    }\n",
              "  "
            ]
          },
          "metadata": {}
        },
        {
          "output_type": "display_data",
          "data": {
            "text/plain": [
              "<IPython.core.display.Javascript object>"
            ],
            "application/javascript": [
              "download(\"download_9aa7d292-ca3a-450a-9822-2ad99674016a\", \"my_model.zip\", 853095)"
            ]
          },
          "metadata": {}
        }
      ]
    },
    {
      "cell_type": "markdown",
      "source": [
        "EXTRA"
      ],
      "metadata": {
        "id": "BvV-U8mO1PdL"
      }
    },
    {
      "cell_type": "code",
      "source": [
        "from keras.layers import Dropout, BatchNormalization\n",
        "\n",
        "# Define model architecture\n",
        "model = Sequential()\n",
        "model.add(Dense(64, input_dim=X_train.shape[1], activation='relu')) # Input layer\n",
        "model.add(BatchNormalization())\n",
        "model.add(Dense(32, activation='relu')) # Hidden layer\n",
        "model.add(Dropout(0.5))\n",
        "model.add(Dense(16, activation='relu')) # Another Hidden layer\n",
        "model.add(Dropout(0.5))\n",
        "model.add(Dense(1)) # Output layer\n",
        "\n",
        "model.compile(loss='mean_squared_error', optimizer='adam', metrics=['mae'])\n",
        "\n",
        "# Fit the model to the training data\n",
        "model.fit(X_train, y_train, epochs= 20, batch_size=50, verbose=0)\n",
        "\n",
        "# Predicting on the test set\n",
        "y_pred_nn = model.predict(X_test)\n",
        "\n",
        "# Since the output of the model is a 2D array and y_test is a 1D array,\n",
        "# we need to flatten y_pred_nn to calculate RMSE, MAE and R^2\n",
        "y_pred_nn = y_pred_nn.flatten()\n",
        "\n",
        "# Calculate the RMSE\n",
        "rmse_nn = np.sqrt(mean_squared_error(y_test, y_pred_nn))\n",
        "print(f'Root Mean Squared Error (Neural Network): {rmse_nn}')\n",
        "\n",
        "# Calculate the MAE\n",
        "mae_nn = mean_absolute_error(y_test, y_pred_nn)\n",
        "print(f'Mean Absolute Error (Neural Network): {mae_nn}')\n",
        "\n",
        "# Calculate the R^2 score\n",
        "r2_nn = r2_score(y_test, y_pred_nn)\n",
        "print(f'R^2 Score (Neural Network): {r2_nn}')\n",
        "\n"
      ],
      "metadata": {
        "colab": {
          "base_uri": "https://localhost:8080/"
        },
        "id": "i85OkpdEN6rW",
        "outputId": "6dcbdb6f-22a8-4716-cf97-f72cab18c032"
      },
      "execution_count": 76,
      "outputs": [
        {
          "output_type": "stream",
          "name": "stdout",
          "text": [
            "1152/1152 [==============================] - 2s 1ms/step\n",
            "Root Mean Squared Error (Neural Network): 3.377455848277\n",
            "Mean Absolute Error (Neural Network): 2.644499928382596\n",
            "R^2 Score (Neural Network): 0.11290986551820037\n"
          ]
        }
      ]
    },
    {
      "cell_type": "code",
      "source": [
        "from keras.callbacks import EarlyStopping\n",
        "\n",
        "# Define early stopping\n",
        "early_stopping = EarlyStopping(monitor='val_loss', patience=3)\n",
        "\n",
        "# Define model architecture\n",
        "model = Sequential()\n",
        "model.add(Dense(64, input_dim=X_train.shape[1], activation='relu')) # Input layer\n",
        "model.add(BatchNormalization())\n",
        "model.add(Dense(32, activation='relu')) # Hidden layer\n",
        "model.add(Dropout(0.5))\n",
        "model.add(Dense(16, activation='relu')) # Another Hidden layer\n",
        "model.add(Dropout(0.5))\n",
        "model.add(Dense(1)) # Output layer\n",
        "\n",
        "# Compile model\n",
        "model.compile(loss='mean_squared_error', optimizer='sgd', metrics=['mae'])\n",
        "\n",
        "# Fit the model to the training data\n",
        "model.fit(X_train, y_train, epochs=20, batch_size=50, verbose=0, validation_split=0.2, callbacks=[early_stopping])\n",
        "\n",
        "y_pred_nn = model.predict(X_test)\n",
        "\n",
        "# Since the output of the model is a 2D array and y_test is a 1D array,\n",
        "# we need to flatten y_pred_nn to calculate RMSE, MAE and R^2\n",
        "y_pred_nn = y_pred_nn.flatten()\n",
        "\n",
        "# Calculate the RMSE\n",
        "rmse_nn = np.sqrt(mean_squared_error(y_test, y_pred_nn))\n",
        "print(f'Root Mean Squared Error (Neural Network): {rmse_nn}')\n",
        "\n",
        "# Calculate the MAE\n",
        "mae_nn = mean_absolute_error(y_test, y_pred_nn)\n",
        "print(f'Mean Absolute Error (Neural Network): {mae_nn}')\n",
        "\n",
        "# Calculate the R^2 score\n",
        "r2_nn = r2_score(y_test, y_pred_nn)\n",
        "print(f'R^2 Score (Neural Network): {r2_nn}')"
      ],
      "metadata": {
        "colab": {
          "base_uri": "https://localhost:8080/"
        },
        "id": "p8BZW2oIN6t3",
        "outputId": "a50f1c0a-d2c6-4ea5-f02d-dcf635258a27"
      },
      "execution_count": 77,
      "outputs": [
        {
          "output_type": "stream",
          "name": "stdout",
          "text": [
            "1152/1152 [==============================] - 2s 1ms/step\n",
            "Root Mean Squared Error (Neural Network): 3.389361602962053\n",
            "Mean Absolute Error (Neural Network): 2.6485817520896013\n",
            "R^2 Score (Neural Network): 0.10664473996069523\n"
          ]
        }
      ]
    },
    {
      "cell_type": "code",
      "source": [
        "from keras.callbacks import EarlyStopping\n",
        "\n",
        "# Define early stopping\n",
        "early_stopping = EarlyStopping(monitor='val_loss', patience=3)\n",
        "\n",
        "# Define model architecture\n",
        "model = Sequential()\n",
        "model.add(Dense(64, input_dim=X_train.shape[1], activation='relu')) # Input layer\n",
        "model.add(BatchNormalization())\n",
        "model.add(Dense(32, activation='relu')) # Hidden layer\n",
        "model.add(Dropout(0.5))\n",
        "model.add(Dense(16, activation='relu')) # Another Hidden layer\n",
        "model.add(Dropout(0.5))\n",
        "model.add(Dense(1)) # Output layer\n",
        "\n",
        "# Compile model\n",
        "model.compile(loss='mean_squared_error', optimizer='rmsprop', metrics=['mae'])\n",
        "\n",
        "# Fit the model to the training data\n",
        "model.fit(X_train, y_train, epochs=20, batch_size=50, verbose=0, validation_split=0.2, callbacks=[early_stopping])\n",
        "\n",
        "y_pred_nn = model.predict(X_test)\n",
        "\n",
        "# Since the output of the model is a 2D array and y_test is a 1D array,\n",
        "# we need to flatten y_pred_nn to calculate RMSE, MAE and R^2\n",
        "y_pred_nn = y_pred_nn.flatten()\n",
        "\n",
        "# Calculate the RMSE\n",
        "rmse_nn = np.sqrt(mean_squared_error(y_test, y_pred_nn))\n",
        "print(f'Root Mean Squared Error (Neural Network): {rmse_nn}')\n",
        "\n",
        "# Calculate the MAE\n",
        "mae_nn = mean_absolute_error(y_test, y_pred_nn)\n",
        "print(f'Mean Absolute Error (Neural Network): {mae_nn}')\n",
        "\n",
        "# Calculate the R^2 score\n",
        "r2_nn = r2_score(y_test, y_pred_nn)\n",
        "print(f'R^2 Score (Neural Network): {r2_nn}')"
      ],
      "metadata": {
        "colab": {
          "base_uri": "https://localhost:8080/"
        },
        "id": "9BtOSCu6Ru-A",
        "outputId": "d7001ab9-7fce-4ab5-8d6a-403b722bfd17"
      },
      "execution_count": 78,
      "outputs": [
        {
          "output_type": "stream",
          "name": "stdout",
          "text": [
            "1152/1152 [==============================] - 2s 1ms/step\n",
            "Root Mean Squared Error (Neural Network): 3.4081426014927656\n",
            "Mean Absolute Error (Neural Network): 2.6922427796113024\n",
            "R^2 Score (Neural Network): 0.09671685920622763\n"
          ]
        }
      ]
    },
    {
      "cell_type": "code",
      "source": [
        "from keras.callbacks import EarlyStopping\n",
        "\n",
        "# Define early stopping\n",
        "early_stopping = EarlyStopping(monitor='val_loss', patience=3)\n",
        "\n",
        "# Define model architecture\n",
        "model = Sequential()\n",
        "model.add(Dense(64, input_dim=X_train.shape[1], activation='relu')) # Input layer\n",
        "model.add(BatchNormalization())\n",
        "model.add(Dense(32, activation='relu')) # Hidden layer\n",
        "model.add(Dropout(0.5))\n",
        "model.add(Dense(16, activation='relu')) # Another Hidden layer\n",
        "model.add(Dropout(0.5))\n",
        "model.add(Dense(1)) # Output layer\n",
        "\n",
        "# Compile model\n",
        "model.compile(loss='mean_squared_error', optimizer='adam', metrics=['mae'])\n",
        "\n",
        "# Fit the model to the training data\n",
        "model.fit(X_train, y_train, epochs=20, batch_size=50, verbose=0, validation_split=0.2, callbacks=[early_stopping])\n",
        "\n",
        "y_pred_nn = model.predict(X_test)\n",
        "\n",
        "# Since the output of the model is a 2D array and y_test is a 1D array,\n",
        "# we need to flatten y_pred_nn to calculate RMSE, MAE and R^2\n",
        "y_pred_nn = y_pred_nn.flatten()\n",
        "\n",
        "# Calculate the RMSE\n",
        "rmse_nn = np.sqrt(mean_squared_error(y_test, y_pred_nn))\n",
        "print(f'Root Mean Squared Error (Neural Network): {rmse_nn}')\n",
        "\n",
        "# Calculate the MAE\n",
        "mae_nn = mean_absolute_error(y_test, y_pred_nn)\n",
        "print(f'Mean Absolute Error (Neural Network): {mae_nn}')\n",
        "\n",
        "# Calculate the R^2 score\n",
        "r2_nn = r2_score(y_test, y_pred_nn)\n",
        "print(f'R^2 Score (Neural Network): {r2_nn}')"
      ],
      "metadata": {
        "colab": {
          "base_uri": "https://localhost:8080/"
        },
        "id": "1stxzHysSXnN",
        "outputId": "5841860e-69eb-464f-c0cc-71622568d4b0"
      },
      "execution_count": 79,
      "outputs": [
        {
          "output_type": "stream",
          "name": "stdout",
          "text": [
            "1152/1152 [==============================] - 2s 1ms/step\n",
            "Root Mean Squared Error (Neural Network): 3.3813866590452846\n",
            "Mean Absolute Error (Neural Network): 2.6190483066830423\n",
            "R^2 Score (Neural Network): 0.11084380588552911\n"
          ]
        }
      ]
    },
    {
      "cell_type": "markdown",
      "source": [
        "EXTRA"
      ],
      "metadata": {
        "id": "7yMPEkpQ1Cv4"
      }
    },
    {
      "cell_type": "code",
      "source": [
        "!pip install joblib"
      ],
      "metadata": {
        "colab": {
          "base_uri": "https://localhost:8080/"
        },
        "id": "Xn5Off6dhRg_",
        "outputId": "8b4e6e78-6d28-4446-f640-24dd80da2c96"
      },
      "execution_count": null,
      "outputs": [
        {
          "output_type": "stream",
          "name": "stdout",
          "text": [
            "Looking in indexes: https://pypi.org/simple, https://us-python.pkg.dev/colab-wheels/public/simple/\n",
            "Requirement already satisfied: joblib in /usr/local/lib/python3.10/dist-packages (1.2.0)\n"
          ]
        }
      ]
    },
    {
      "cell_type": "code",
      "source": [
        "from joblib import load"
      ],
      "metadata": {
        "id": "f73bwkUmwBUW"
      },
      "execution_count": null,
      "outputs": []
    },
    {
      "cell_type": "code",
      "source": [
        "# Save a pandas dataframe to a csv file in the 'data' folder\n",
        "df_over.to_csv('/content/my_model/data/intermediate_data.csv', index=False)\n",
        "\n",
        "# Save the trained model to a file in the 'model' folder\n",
        "dump(model, 'my_model/model/linear_regression_model.joblib')\n",
        "\n",
        "# To load the model from the file\n",
        "model = load('my_model/model/linear_regression_model.joblib')\n"
      ],
      "metadata": {
        "id": "DexLVOjJvaK1"
      },
      "execution_count": null,
      "outputs": []
    },
    {
      "cell_type": "code",
      "source": [
        "import numpy as np\n",
        "import pandas as pd\n",
        "from sklearn.model_selection import train_test_split\n",
        "from sklearn.linear_model import LinearRegression\n",
        "from sklearn.metrics import mean_squared_error, r2_score\n",
        "from joblib import dump\n",
        "\n",
        "df_over = pd.read_csv('/content/my_model/data/intermediate_data.csv')\n",
        "\n",
        "X = df_over[['remaining_overs', 'remaining_wickets']]\n",
        "y = df_over['runs.total']\n",
        "\n",
        "X_train, X_test, y_train, y_test = train_test_split(X, y, test_size=0.2, random_state=42)\n",
        "\n",
        "model = LinearRegression()\n",
        "model.fit(X_train, y_train)\n",
        "\n",
        "dump(model, '/content/my_model/model/linear_regression_model.joblib')\n"
      ],
      "metadata": {
        "colab": {
          "base_uri": "https://localhost:8080/"
        },
        "id": "A2_6L_nKvHg8",
        "outputId": "109254da-b50c-46a1-f66b-9954045877d8"
      },
      "execution_count": null,
      "outputs": [
        {
          "output_type": "execute_result",
          "data": {
            "text/plain": [
              "['/content/my_model/model/linear_regression_model.joblib']"
            ]
          },
          "metadata": {},
          "execution_count": 48
        }
      ]
    },
    {
      "cell_type": "code",
      "source": [
        "os.getcwd()"
      ],
      "metadata": {
        "colab": {
          "base_uri": "https://localhost:8080/",
          "height": 35
        },
        "id": "ZJtefCWWvHjk",
        "outputId": "96c027c1-08f1-41d1-f719-a06ce4c4d52f"
      },
      "execution_count": null,
      "outputs": [
        {
          "output_type": "execute_result",
          "data": {
            "text/plain": [
              "'/content'"
            ],
            "application/vnd.google.colaboratory.intrinsic+json": {
              "type": "string"
            }
          },
          "metadata": {},
          "execution_count": 53
        }
      ]
    },
    {
      "cell_type": "code",
      "source": [
        "new_dir = '/content/my_model'"
      ],
      "metadata": {
        "id": "PHxBw6RDvHmO"
      },
      "execution_count": null,
      "outputs": []
    },
    {
      "cell_type": "code",
      "source": [
        "os.chdir(new_dir)"
      ],
      "metadata": {
        "id": "OroBthEuxbmZ"
      },
      "execution_count": null,
      "outputs": []
    },
    {
      "cell_type": "code",
      "source": [
        "os.getcwd()"
      ],
      "metadata": {
        "colab": {
          "base_uri": "https://localhost:8080/",
          "height": 35
        },
        "id": "j20bAh1Sxbox",
        "outputId": "de08cd6c-2875-4d2a-c832-96ff8509b4c1"
      },
      "execution_count": null,
      "outputs": [
        {
          "output_type": "execute_result",
          "data": {
            "text/plain": [
              "'/content/my_model'"
            ],
            "application/vnd.google.colaboratory.intrinsic+json": {
              "type": "string"
            }
          },
          "metadata": {},
          "execution_count": 56
        }
      ]
    },
    {
      "cell_type": "code",
      "source": [
        "!bash run.sh"
      ],
      "metadata": {
        "colab": {
          "base_uri": "https://localhost:8080/"
        },
        "id": "dFPHnewjxd02",
        "outputId": "d5e014e8-e2b6-4928-b02c-ca0baec95785"
      },
      "execution_count": null,
      "outputs": [
        {
          "output_type": "stream",
          "name": "stdout",
          "text": [
            "Training model...\n",
            "Making predictions...\n",
            "[3.58767586 3.69385917 3.80004248 3.9062258  4.01240911 3.58767586\n",
            " 3.69385917 3.80004248 3.9062258  4.01240911 4.0172581  4.12344141\n",
            " 4.22962473 3.9062258  4.01240911 4.0172581  3.69385917 3.80004248\n",
            " 3.9062258  4.01240911 3.58767586 3.69385917 3.80004248 3.47664355\n",
            " 3.58282687 4.0172581  4.12344141 3.80004248 3.9062258  4.01240911\n",
            " 4.0172581  3.69385917 3.80004248 3.9062258  4.01240911 3.58767586\n",
            " 3.69385917 3.80004248 3.04706131 2.72366238 4.0172581  4.12344141\n",
            " 4.22962473 4.33580804 4.44199135 4.0172581  4.12344141 4.22962473\n",
            " 4.33580804 4.44199135 4.0172581  4.12344141 4.22962473 4.33580804\n",
            " 4.01240911 4.0172581  4.12344141 4.22962473 4.33580804 4.44199135\n",
            " 4.0172581  4.12344141 4.22962473 4.33580804 4.44199135 4.0172581\n",
            " 4.12344141 4.22962473 4.33580804 4.01240911 4.0172581  4.12344141\n",
            " 3.80004248 3.9062258  3.58282687 4.0172581  3.69385917 3.80004248\n",
            " 3.47664355 3.58282687 4.0172581  4.12344141 4.22962473 4.33580804\n",
            " 4.44199135 4.0172581  4.12344141 4.22962473 4.33580804 4.44199135\n",
            " 4.0172581  4.12344141 4.22962473 4.33580804 4.44199135 3.58767586\n",
            " 3.69385917 3.80004248 3.9062258  4.01240911 3.58767586 3.69385917\n",
            " 3.37046024 3.47664355 3.58282687 4.0172581  3.69385917 3.80004248\n",
            " 3.9062258  4.01240911 4.0172581  3.69385917 3.80004248 3.47664355\n",
            " 3.58282687 4.0172581  4.12344141 4.22962473 4.33580804 4.44199135\n",
            " 4.0172581  4.12344141 4.22962473 4.33580804 4.01240911 4.0172581\n",
            " 4.12344141 4.22962473 4.33580804 4.44199135 4.0172581  4.12344141\n",
            " 4.22962473 4.33580804 4.44199135 4.0172581  4.12344141 4.22962473\n",
            " 4.33580804 4.44199135 4.0172581  3.69385917 3.80004248 3.9062258\n",
            " 4.01240911 4.0172581  4.12344141 4.22962473 4.33580804 4.44199135\n",
            " 4.0172581  4.12344141 4.22962473 4.33580804 4.44199135 4.0172581\n",
            " 4.12344141 4.22962473 3.9062258  4.01240911 4.0172581  4.12344141\n",
            " 4.22962473 4.33580804 4.44199135 4.0172581  4.12344141 4.22962473\n",
            " 3.9062258  4.01240911 4.0172581  4.12344141 4.22962473 3.9062258\n",
            " 4.01240911 4.0172581  4.12344141 4.22962473 4.33580804 4.44199135\n",
            " 3.58767586 3.69385917 3.80004248 3.47664355 3.58282687 4.0172581\n",
            " 3.69385917 3.80004248 3.9062258  4.01240911 4.0172581  3.69385917\n",
            " 3.80004248 3.9062258  4.01240911 4.0172581  3.69385917 3.80004248\n",
            " 3.9062258  4.01240911 4.0172581  4.12344141 4.22962473 4.33580804\n",
            " 4.44199135 4.0172581  3.69385917 3.80004248 3.9062258  4.01240911\n",
            " 4.0172581  4.12344141 3.80004248 3.47664355 3.15324462 4.0172581\n",
            " 4.12344141 3.80004248 3.9062258  4.01240911 4.0172581  4.12344141\n",
            " 4.22962473 4.33580804 4.44199135 4.0172581  4.12344141 4.22962473\n",
            " 3.9062258  4.01240911 4.0172581  4.12344141 4.22962473 4.33580804\n",
            " 4.44199135 4.0172581  4.12344141 3.80004248 3.9062258  4.01240911\n",
            " 4.0172581  3.69385917 3.80004248 3.9062258  3.58282687 4.0172581\n",
            " 4.12344141 4.22962473 4.33580804 4.44199135 4.0172581  4.12344141\n",
            " 4.22962473 4.33580804 4.44199135 4.0172581  4.12344141 4.22962473\n",
            " 4.33580804 4.44199135 3.58767586 3.26427693 3.37046024 3.47664355\n",
            " 3.58282687 3.58767586 3.26427693 3.37046024 3.47664355 3.58282687\n",
            " 4.0172581  4.12344141 4.22962473 4.33580804 4.44199135 4.0172581\n",
            " 4.12344141 4.22962473 4.33580804 4.44199135 3.58767586 3.69385917\n",
            " 3.80004248 3.9062258  4.01240911 4.0172581  4.12344141 4.22962473\n",
            " 4.33580804 4.44199135 4.0172581  4.12344141 4.22962473 4.33580804\n",
            " 4.44199135 4.0172581  4.12344141 4.22962473 4.33580804 4.44199135\n",
            " 3.58767586 3.69385917 3.80004248 3.9062258  4.01240911 4.0172581\n",
            " 4.12344141 4.22962473 4.33580804 4.44199135 4.0172581  4.12344141\n",
            " 4.22962473 4.33580804 4.44199135 4.0172581  4.12344141 4.22962473\n",
            " 4.33580804 4.44199135 4.0172581  4.12344141 4.22962473 4.33580804\n",
            " 4.44199135 4.0172581  4.12344141 4.22962473 4.33580804 4.01240911\n",
            " 4.0172581  4.12344141 4.22962473 4.33580804 4.44199135 4.0172581\n",
            " 4.12344141 4.22962473 4.33580804 4.44199135 4.0172581  4.12344141\n",
            " 4.22962473 3.9062258  4.01240911 4.0172581  3.69385917 3.80004248\n",
            " 3.9062258  4.01240911 4.0172581  4.12344141 3.80004248 3.9062258\n",
            " 4.01240911 4.0172581  4.12344141 3.80004248 3.9062258  4.01240911\n",
            " 4.0172581  4.12344141 4.22962473 4.33580804 4.44199135 4.0172581\n",
            " 4.12344141 4.22962473 3.9062258  4.01240911 4.0172581  4.12344141\n",
            " 4.22962473 4.33580804 4.44199135 4.0172581  4.12344141 4.22962473\n",
            " 4.33580804 4.44199135 4.0172581  4.12344141 3.80004248 3.9062258\n",
            " 4.01240911 3.58767586 3.69385917 3.37046024 3.47664355 3.58282687\n",
            " 4.0172581  4.12344141 4.22962473 4.33580804 4.44199135 4.0172581\n",
            " 4.12344141 4.22962473 4.33580804 4.01240911 4.0172581  4.12344141\n",
            " 4.22962473 4.33580804 4.44199135 4.0172581  4.12344141 3.80004248\n",
            " 3.9062258  3.58282687 4.0172581  4.12344141 4.22962473 4.33580804\n",
            " 4.44199135 4.0172581  4.12344141 4.22962473 4.33580804 4.44199135\n",
            " 4.0172581  4.12344141 4.22962473 4.33580804 4.44199135 4.0172581\n",
            " 4.12344141 4.22962473 4.33580804 4.44199135 4.0172581  4.12344141\n",
            " 4.22962473 3.9062258  4.01240911 4.0172581  4.12344141 4.22962473\n",
            " 4.33580804 4.44199135 4.0172581  4.12344141 4.22962473 4.33580804\n",
            " 4.44199135 3.58767586 3.69385917 3.37046024 3.47664355 3.58282687\n",
            " 4.0172581  4.12344141 4.22962473 4.33580804 4.44199135 3.58767586\n",
            " 3.69385917 3.80004248 3.9062258  4.01240911 4.0172581  4.12344141\n",
            " 3.80004248 3.9062258  4.01240911 4.0172581  4.12344141 4.22962473\n",
            " 4.33580804 4.44199135 4.0172581  3.69385917 3.80004248 3.9062258\n",
            " 4.01240911 4.0172581  4.12344141 4.22962473 4.33580804 4.44199135\n",
            " 4.0172581  4.12344141 4.22962473 3.9062258  4.01240911 3.58767586\n",
            " 3.69385917 3.80004248 3.9062258  4.01240911 4.0172581  4.12344141\n",
            " 4.22962473 4.33580804 4.44199135 3.58767586 3.69385917 3.80004248\n",
            " 3.9062258  4.01240911 4.0172581  4.12344141 4.22962473 4.33580804\n",
            " 4.44199135 3.58767586 3.69385917 3.80004248 3.9062258  4.01240911\n",
            " 4.0172581  4.12344141 3.80004248 3.9062258  4.01240911 4.0172581\n",
            " 4.12344141 4.22962473 4.33580804 4.44199135 4.0172581  3.69385917\n",
            " 3.80004248 3.9062258  4.01240911 4.0172581  4.12344141 3.80004248\n",
            " 3.9062258  4.01240911 4.0172581  4.12344141 4.22962473 4.33580804\n",
            " 4.44199135 4.0172581  4.12344141 4.22962473 4.33580804 4.44199135\n",
            " 4.0172581  3.69385917 3.80004248 3.47664355 3.15324462 4.0172581\n",
            " 4.12344141 4.22962473 4.33580804 4.01240911 4.0172581  4.12344141\n",
            " 4.22962473 3.9062258  4.01240911 4.0172581  4.12344141 4.22962473\n",
            " 4.33580804 4.01240911 4.0172581  4.12344141 4.22962473 4.33580804\n",
            " 4.44199135 4.0172581  4.12344141 4.22962473 4.33580804 4.44199135\n",
            " 4.0172581  4.12344141 4.22962473 4.33580804 4.44199135 4.0172581\n",
            " 4.12344141 4.22962473 4.33580804 4.44199135 3.58767586 3.69385917\n",
            " 3.37046024 3.47664355 3.58282687 4.0172581  4.12344141 4.22962473\n",
            " 4.33580804 4.01240911 4.0172581  4.12344141 4.22962473 4.33580804\n",
            " 4.44199135 4.0172581  4.12344141 4.22962473 4.33580804 4.44199135\n",
            " 4.0172581  4.12344141 4.22962473 4.33580804 4.01240911 4.0172581\n",
            " 4.12344141 4.22962473 4.33580804 4.44199135 4.0172581  4.12344141\n",
            " 3.80004248 3.9062258  4.01240911 4.0172581  3.69385917 3.80004248\n",
            " 3.47664355 3.58282687 4.0172581  4.12344141 4.22962473 4.33580804\n",
            " 4.44199135 4.0172581  4.12344141 4.22962473 4.33580804 4.44199135\n",
            " 4.0172581  3.69385917 3.37046024 3.47664355 3.15324462 4.0172581\n",
            " 3.26427693 2.940878   3.04706131 3.15324462 4.0172581  3.69385917\n",
            " 3.80004248 3.9062258  4.01240911 3.58767586 3.69385917 3.37046024\n",
            " 3.47664355 3.58282687]\n"
          ]
        }
      ]
    }
  ]
}